{
 "cells": [
  {
   "cell_type": "markdown",
   "metadata": {},
   "source": [
    "# Données DVF : à faire\n",
    "- 1) Développer un pipeline pour la récupération des données (importation à partir des données sur datagouv, webscraping)\n",
    "\n",
    "- 2) Développer un pipeline de retraitement/nettoyage des données \n",
    "\n",
    "- 3) Développer un pipeline de modélisation et stocker le modèle au format pickle\n",
    "\n",
    "- 4) Développer une application avec fastAPI/Flask + Streamlit qui restitue vos analyses à Bordeaux mais aussi sur la France entière"
   ]
  },
  {
   "cell_type": "markdown",
   "metadata": {},
   "source": [
    "### 1. Scraping de la page : https://www.data.gouv.fr/fr/datasets/demandes-de-valeurs-foncieres/"
   ]
  },
  {
   "cell_type": "code",
   "execution_count": null,
   "metadata": {},
   "outputs": [],
   "source": [
    "# Imports\n",
    "import requests\n",
    "import bs4\n",
    "import pandas as pd"
   ]
  },
  {
   "cell_type": "code",
   "execution_count": null,
   "metadata": {},
   "outputs": [],
   "source": [
    "# Définition de l'url\n",
    "url = \"https://www.data.gouv.fr/fr/datasets/demandes-de-valeurs-foncieres/\"\n",
    "\n",
    "# Exécution de la requête\n",
    "r = requests.get(url)\n",
    "\n",
    "# Vérifications du bon déroulé de la requête\n",
    "print(r.status_code)\n",
    "#print(r.headers)\n",
    "#print(r.text)"
   ]
  },
  {
   "cell_type": "code",
   "execution_count": null,
   "metadata": {},
   "outputs": [],
   "source": [
    "# Parsing de la réponse et construction de l'arboressence\n",
    "soup = bs4.BeautifulSoup(r.text, 'html.parser')\n",
    "\n",
    "# Affichage si besoin\n",
    "#print(soup)"
   ]
  },
  {
   "cell_type": "markdown",
   "metadata": {},
   "source": [
    "Scraping des 4 premiers datasets de la page (2023_premier_semestre, 2022, 2021 et 2020)"
   ]
  },
  {
   "cell_type": "code",
   "execution_count": null,
   "metadata": {},
   "outputs": [],
   "source": [
    "# Recherche de toutes les balises 'article' correspondantes aux blocs contenant les liens vers les datasets à télécharger\n",
    "dataset_blocs = soup.find_all('article')\n",
    "\n",
    "# Initialisation de la liste qui contiendra les liens vers les datasets\n",
    "dataset_links = []\n",
    "\n",
    "### Récupération du deuxième lien de chaque bloc (identifié comme celui pointant vers le téléchargement)\n",
    "\n",
    "# Pour chaque bloc dans les 4 premiers\n",
    "for dataset_bloc in dataset_blocs[:4]:\n",
    "    # Listing de toutes les balises 'a' correspondantes aux liens contenus dans le bloc\n",
    "    soup_dataset_links = dataset_bloc.find_all('a')\n",
    "    # Récupération de l'adresse du deuxième lien\n",
    "    dataset_link = soup_dataset_links[1].get(\"href\")\n",
    "    # Ajout de ce lien à la liste sauvgardée\n",
    "    dataset_links.append(dataset_link)\n",
    "\n",
    "# Affichage de la liste pour vérification\n",
    "print(dataset_links)"
   ]
  },
  {
   "cell_type": "code",
   "execution_count": null,
   "metadata": {},
   "outputs": [],
   "source": [
    "# Récupération des valeurs foncières des années 2020, 2021 et 2022, concaténation en un seul dataframe puis sauvegarde\n",
    "\n",
    "# Liste pour stocker les dataframes temporaires\n",
    "dataframes_2020_2021_2022 = []\n",
    "\n",
    "# Boucle pour charger chaque dataset entre 2020 et 2022 et l'ajouter à la liste\n",
    "for link in dataset_links[1:]:\n",
    "    dataframe = pd.read_csv(link, sep='|', low_memory=False)\n",
    "    dataframes_2020_2021_2022.append(dataframe)\n",
    "\n",
    "# Fusion de tous ces dataframes en un seul\n",
    "valeursfoncieres_2020_2021_2022 = pd.concat(dataframes_2020_2021_2022, ignore_index=True)\n",
    "\n",
    "# Sauvegarde du dataframe fusionné en un fichier CSV\n",
    "valeursfoncieres_2020_2021_2022.to_csv('valeursfoncieres_2020_2021_2022.csv', index=False)"
   ]
  },
  {
   "cell_type": "code",
   "execution_count": null,
   "metadata": {},
   "outputs": [],
   "source": [
    "# Récupération des valeurs foncières du premier semestre 2023 et sauvegarde en un fichier CSV\n",
    "\n",
    "# Chargement du dataset du premier semestre 2023\n",
    "valeursfoncieres_debut_2023 = pd.read_csv(dataset_links[0], sep='|', low_memory=False)\n",
    "\n",
    "# Sauvegarde du dataframe en un fichier CSV\n",
    "valeursfoncieres_debut_2023.to_csv('valeursfoncieres_debut_2023.csv', index=False)"
   ]
  },
  {
   "cell_type": "markdown",
   "metadata": {},
   "source": [
    "### 2. Traitement et nettoyage des données"
   ]
  },
  {
   "cell_type": "markdown",
   "metadata": {},
   "source": [
    "Reprise ultérieure du processus (ultérieure au scraping)"
   ]
  },
  {
   "cell_type": "code",
   "execution_count": null,
   "metadata": {},
   "outputs": [],
   "source": [
    "# Ouverture des sauvegardes (afin d'éviter de renouveler le scraping en cas de reprise ultérieure du processus)\n",
    "\n",
    "# Imports\n",
    "import pandas as pd\n",
    "\n",
    "valeursfoncieres_2020_2021_2022 = pd.read_csv('valeursfoncieres_2020_2021_2022.csv', low_memory=False)\n",
    "valeursfoncieres_debut_2023 = pd.read_csv('valeursfoncieres_debut_2023.csv', low_memory=False)"
   ]
  },
  {
   "cell_type": "code",
   "execution_count": null,
   "metadata": {},
   "outputs": [],
   "source": [
    "data_bordeaux_2020_2021_2022 = valeursfoncieres_2020_2021_2022[(valeursfoncieres_2020_2021_2022[\"Commune\"] == \"BORDEAUX\") \\\n",
    "                                                                & (valeursfoncieres_2020_2021_2022[\"Code type local\"].isin([1, 2]))]\n",
    "\n",
    "# Sauvegarde du dataframe en un fichier CSV\n",
    "data_bordeaux_2020_2021_2022.to_csv('data_bordeaux_2020_2021_2022.csv', index=False)\n",
    "\n",
    "# Aperçu du data frame\n",
    "data_bordeaux_2020_2021_2022.head()"
   ]
  },
  {
   "cell_type": "code",
   "execution_count": null,
   "metadata": {},
   "outputs": [],
   "source": [
    "data_bordeaux_debut_2023 = valeursfoncieres_debut_2023[(valeursfoncieres_debut_2023[\"Commune\"] == \"BORDEAUX\") \\\n",
    "                                                        & (valeursfoncieres_debut_2023[\"Code type local\"].isin([1, 2]))]\n",
    "\n",
    "# Sauvegarde du dataframe en un fichier CSV\n",
    "data_bordeaux_debut_2023.to_csv('data_bordeaux_debut_2023.csv', index=False)\n",
    "\n",
    "# Aperçu du data frame\n",
    "data_bordeaux_debut_2023.head()"
   ]
  },
  {
   "cell_type": "markdown",
   "metadata": {},
   "source": [
    "Reprise ultérieure (2) du processus (ultérieure au scraping)"
   ]
  },
  {
   "cell_type": "code",
   "execution_count": 1,
   "metadata": {},
   "outputs": [],
   "source": [
    "# Ouverture des sauvegardes (afin d'éviter de renouveler le filtrage sur les données de Bordeaux en cas de reprise ultérieure du processus)\n",
    "\n",
    "# Imports\n",
    "import pandas as pd\n",
    "\n",
    "data_bordeaux_2020_2021_2022 = pd.read_csv('data_bordeaux_2020_2021_2022.csv', low_memory=False)\n",
    "data_bordeaux_debut_2023 = pd.read_csv('data_bordeaux_debut_2023.csv', low_memory=False)"
   ]
  },
  {
   "cell_type": "code",
   "execution_count": 2,
   "metadata": {},
   "outputs": [
    {
     "data": {
      "text/plain": [
       "(20181, 43)"
      ]
     },
     "execution_count": 2,
     "metadata": {},
     "output_type": "execute_result"
    }
   ],
   "source": [
    "data_bordeaux_2020_2021_2022.shape"
   ]
  },
  {
   "cell_type": "code",
   "execution_count": 3,
   "metadata": {},
   "outputs": [
    {
     "data": {
      "text/plain": [
       "(2758, 43)"
      ]
     },
     "execution_count": 3,
     "metadata": {},
     "output_type": "execute_result"
    }
   ],
   "source": [
    "data_bordeaux_debut_2023.shape"
   ]
  },
  {
   "cell_type": "markdown",
   "metadata": {},
   "source": [
    "### 3. Modélisation et prédiction"
   ]
  },
  {
   "cell_type": "code",
   "execution_count": 4,
   "metadata": {},
   "outputs": [],
   "source": [
    "data_bordeaux = data_bordeaux_2020_2021_2022\n",
    "data_bordeaux_test = data_bordeaux_debut_2023"
   ]
  },
  {
   "cell_type": "code",
   "execution_count": 5,
   "metadata": {},
   "outputs": [
    {
     "data": {
      "text/plain": [
       "Index(['Identifiant de document', 'Reference document', '1 Articles CGI',\n",
       "       '2 Articles CGI', '3 Articles CGI', '4 Articles CGI', '5 Articles CGI',\n",
       "       'No disposition', 'Date mutation', 'Nature mutation', 'Valeur fonciere',\n",
       "       'No voie', 'B/T/Q', 'Type de voie', 'Code voie', 'Voie', 'Code postal',\n",
       "       'Commune', 'Code departement', 'Code commune', 'Prefixe de section',\n",
       "       'Section', 'No plan', 'No Volume', '1er lot',\n",
       "       'Surface Carrez du 1er lot', '2eme lot', 'Surface Carrez du 2eme lot',\n",
       "       '3eme lot', 'Surface Carrez du 3eme lot', '4eme lot',\n",
       "       'Surface Carrez du 4eme lot', '5eme lot', 'Surface Carrez du 5eme lot',\n",
       "       'Nombre de lots', 'Code type local', 'Type local', 'Identifiant local',\n",
       "       'Surface reelle bati', 'Nombre pieces principales', 'Nature culture',\n",
       "       'Nature culture speciale', 'Surface terrain'],\n",
       "      dtype='object')"
      ]
     },
     "execution_count": 5,
     "metadata": {},
     "output_type": "execute_result"
    }
   ],
   "source": [
    "data_bordeaux.columns"
   ]
  },
  {
   "cell_type": "code",
   "execution_count": 6,
   "metadata": {},
   "outputs": [
    {
     "data": {
      "text/plain": [
       "Index(['Identifiant de document', 'Reference document', '1 Articles CGI',\n",
       "       '2 Articles CGI', '3 Articles CGI', '4 Articles CGI', '5 Articles CGI',\n",
       "       'No disposition', 'Date mutation', 'Nature mutation', 'Valeur fonciere',\n",
       "       'No voie', 'B/T/Q', 'Type de voie', 'Code voie', 'Voie', 'Code postal',\n",
       "       'Commune', 'Code departement', 'Code commune', 'Prefixe de section',\n",
       "       'Section', 'No plan', 'No Volume', '1er lot',\n",
       "       'Surface Carrez du 1er lot', '2eme lot', 'Surface Carrez du 2eme lot',\n",
       "       '3eme lot', 'Surface Carrez du 3eme lot', '4eme lot',\n",
       "       'Surface Carrez du 4eme lot', '5eme lot', 'Surface Carrez du 5eme lot',\n",
       "       'Nombre de lots', 'Code type local', 'Type local', 'Identifiant local',\n",
       "       'Surface reelle bati', 'Nombre pieces principales', 'Nature culture',\n",
       "       'Nature culture speciale', 'Surface terrain'],\n",
       "      dtype='object')"
      ]
     },
     "execution_count": 6,
     "metadata": {},
     "output_type": "execute_result"
    }
   ],
   "source": [
    "data_bordeaux_test.columns"
   ]
  },
  {
   "cell_type": "code",
   "execution_count": 7,
   "metadata": {},
   "outputs": [],
   "source": [
    "# suppression des colonnes vides\n",
    "# Liste des indices des colonnes à supprimer\n",
    "#useless_cols = [0, 1, 2, 3, 4, 5, 6, 17, 18, 19, 20, 23, 37, 40, 41]\n",
    "\n",
    "# Supprimer les colonnes spécifiées du DataFrame\n",
    "#data_bordeaux = data_bordeaux.drop(data_bordeaux.columns[useless_cols], axis=1)\n",
    "\n",
    "# Liste des noms des colonnes à supprimer\n",
    "useless_col_names = ['Identifiant de document', 'Reference document', '1 Articles CGI',\n",
    "                     '2 Articles CGI', '3 Articles CGI', '4 Articles CGI',\n",
    "                     '5 Articles CGI', 'No disposition', 'No voie', 'Code voie',\n",
    "                     'Commune', 'Code departement', 'Code commune', 'Prefixe de section',\n",
    "                     'No Volume', 'Type local', 'Identifiant local'\n",
    "                     ]\n",
    "\n",
    "# Supprimer les colonnes spécifiées du DataFrame\n",
    "data_bordeaux = data_bordeaux.drop(useless_col_names, axis=1)\n",
    "data_bordeaux_test = data_bordeaux_test.drop(useless_col_names, axis=1)\n",
    "\n"
   ]
  },
  {
   "cell_type": "code",
   "execution_count": 8,
   "metadata": {},
   "outputs": [
    {
     "data": {
      "text/html": [
       "<div>\n",
       "<style scoped>\n",
       "    .dataframe tbody tr th:only-of-type {\n",
       "        vertical-align: middle;\n",
       "    }\n",
       "\n",
       "    .dataframe tbody tr th {\n",
       "        vertical-align: top;\n",
       "    }\n",
       "\n",
       "    .dataframe thead th {\n",
       "        text-align: right;\n",
       "    }\n",
       "</style>\n",
       "<table border=\"1\" class=\"dataframe\">\n",
       "  <thead>\n",
       "    <tr style=\"text-align: right;\">\n",
       "      <th></th>\n",
       "      <th>Date mutation</th>\n",
       "      <th>Nature mutation</th>\n",
       "      <th>Valeur fonciere</th>\n",
       "      <th>B/T/Q</th>\n",
       "      <th>Type de voie</th>\n",
       "      <th>Voie</th>\n",
       "      <th>Code postal</th>\n",
       "      <th>Section</th>\n",
       "      <th>No plan</th>\n",
       "      <th>1er lot</th>\n",
       "      <th>...</th>\n",
       "      <th>Surface Carrez du 4eme lot</th>\n",
       "      <th>5eme lot</th>\n",
       "      <th>Surface Carrez du 5eme lot</th>\n",
       "      <th>Nombre de lots</th>\n",
       "      <th>Code type local</th>\n",
       "      <th>Surface reelle bati</th>\n",
       "      <th>Nombre pieces principales</th>\n",
       "      <th>Nature culture</th>\n",
       "      <th>Nature culture speciale</th>\n",
       "      <th>Surface terrain</th>\n",
       "    </tr>\n",
       "  </thead>\n",
       "  <tbody>\n",
       "    <tr>\n",
       "      <th>count</th>\n",
       "      <td>20181</td>\n",
       "      <td>20181</td>\n",
       "      <td>20155</td>\n",
       "      <td>632</td>\n",
       "      <td>20177</td>\n",
       "      <td>20181</td>\n",
       "      <td>20181.000000</td>\n",
       "      <td>20136</td>\n",
       "      <td>20181.000000</td>\n",
       "      <td>12668</td>\n",
       "      <td>...</td>\n",
       "      <td>20</td>\n",
       "      <td>33.000000</td>\n",
       "      <td>11</td>\n",
       "      <td>20181.000000</td>\n",
       "      <td>20181.000000</td>\n",
       "      <td>20181.000000</td>\n",
       "      <td>20181.000000</td>\n",
       "      <td>7325</td>\n",
       "      <td>118</td>\n",
       "      <td>7325.000000</td>\n",
       "    </tr>\n",
       "    <tr>\n",
       "      <th>unique</th>\n",
       "      <td>798</td>\n",
       "      <td>6</td>\n",
       "      <td>6136</td>\n",
       "      <td>7</td>\n",
       "      <td>20</td>\n",
       "      <td>1511</td>\n",
       "      <td>NaN</td>\n",
       "      <td>339</td>\n",
       "      <td>NaN</td>\n",
       "      <td>969</td>\n",
       "      <td>...</td>\n",
       "      <td>15</td>\n",
       "      <td>NaN</td>\n",
       "      <td>6</td>\n",
       "      <td>NaN</td>\n",
       "      <td>NaN</td>\n",
       "      <td>NaN</td>\n",
       "      <td>NaN</td>\n",
       "      <td>4</td>\n",
       "      <td>3</td>\n",
       "      <td>NaN</td>\n",
       "    </tr>\n",
       "    <tr>\n",
       "      <th>top</th>\n",
       "      <td>21/01/2021</td>\n",
       "      <td>Vente</td>\n",
       "      <td>10515000,00</td>\n",
       "      <td>B</td>\n",
       "      <td>RUE</td>\n",
       "      <td>GODARD</td>\n",
       "      <td>NaN</td>\n",
       "      <td>HE</td>\n",
       "      <td>NaN</td>\n",
       "      <td>2</td>\n",
       "      <td>...</td>\n",
       "      <td>25,60</td>\n",
       "      <td>NaN</td>\n",
       "      <td>6,00</td>\n",
       "      <td>NaN</td>\n",
       "      <td>NaN</td>\n",
       "      <td>NaN</td>\n",
       "      <td>NaN</td>\n",
       "      <td>S</td>\n",
       "      <td>IMM</td>\n",
       "      <td>NaN</td>\n",
       "    </tr>\n",
       "    <tr>\n",
       "      <th>freq</th>\n",
       "      <td>238</td>\n",
       "      <td>20035</td>\n",
       "      <td>206</td>\n",
       "      <td>533</td>\n",
       "      <td>15344</td>\n",
       "      <td>234</td>\n",
       "      <td>NaN</td>\n",
       "      <td>305</td>\n",
       "      <td>NaN</td>\n",
       "      <td>780</td>\n",
       "      <td>...</td>\n",
       "      <td>6</td>\n",
       "      <td>NaN</td>\n",
       "      <td>6</td>\n",
       "      <td>NaN</td>\n",
       "      <td>NaN</td>\n",
       "      <td>NaN</td>\n",
       "      <td>NaN</td>\n",
       "      <td>7112</td>\n",
       "      <td>96</td>\n",
       "      <td>NaN</td>\n",
       "    </tr>\n",
       "    <tr>\n",
       "      <th>mean</th>\n",
       "      <td>NaN</td>\n",
       "      <td>NaN</td>\n",
       "      <td>NaN</td>\n",
       "      <td>NaN</td>\n",
       "      <td>NaN</td>\n",
       "      <td>NaN</td>\n",
       "      <td>33222.209008</td>\n",
       "      <td>NaN</td>\n",
       "      <td>127.089094</td>\n",
       "      <td>NaN</td>\n",
       "      <td>...</td>\n",
       "      <td>NaN</td>\n",
       "      <td>12.424242</td>\n",
       "      <td>NaN</td>\n",
       "      <td>0.764927</td>\n",
       "      <td>1.777266</td>\n",
       "      <td>68.920718</td>\n",
       "      <td>2.851098</td>\n",
       "      <td>NaN</td>\n",
       "      <td>NaN</td>\n",
       "      <td>289.744300</td>\n",
       "    </tr>\n",
       "    <tr>\n",
       "      <th>std</th>\n",
       "      <td>NaN</td>\n",
       "      <td>NaN</td>\n",
       "      <td>NaN</td>\n",
       "      <td>NaN</td>\n",
       "      <td>NaN</td>\n",
       "      <td>NaN</td>\n",
       "      <td>285.696853</td>\n",
       "      <td>NaN</td>\n",
       "      <td>97.141666</td>\n",
       "      <td>NaN</td>\n",
       "      <td>...</td>\n",
       "      <td>NaN</td>\n",
       "      <td>15.843039</td>\n",
       "      <td>NaN</td>\n",
       "      <td>0.742949</td>\n",
       "      <td>0.416092</td>\n",
       "      <td>44.866977</td>\n",
       "      <td>1.509920</td>\n",
       "      <td>NaN</td>\n",
       "      <td>NaN</td>\n",
       "      <td>566.861607</td>\n",
       "    </tr>\n",
       "    <tr>\n",
       "      <th>min</th>\n",
       "      <td>NaN</td>\n",
       "      <td>NaN</td>\n",
       "      <td>NaN</td>\n",
       "      <td>NaN</td>\n",
       "      <td>NaN</td>\n",
       "      <td>NaN</td>\n",
       "      <td>33000.000000</td>\n",
       "      <td>NaN</td>\n",
       "      <td>1.000000</td>\n",
       "      <td>NaN</td>\n",
       "      <td>...</td>\n",
       "      <td>NaN</td>\n",
       "      <td>3.000000</td>\n",
       "      <td>NaN</td>\n",
       "      <td>0.000000</td>\n",
       "      <td>1.000000</td>\n",
       "      <td>6.000000</td>\n",
       "      <td>0.000000</td>\n",
       "      <td>NaN</td>\n",
       "      <td>NaN</td>\n",
       "      <td>12.000000</td>\n",
       "    </tr>\n",
       "    <tr>\n",
       "      <th>25%</th>\n",
       "      <td>NaN</td>\n",
       "      <td>NaN</td>\n",
       "      <td>NaN</td>\n",
       "      <td>NaN</td>\n",
       "      <td>NaN</td>\n",
       "      <td>NaN</td>\n",
       "      <td>33000.000000</td>\n",
       "      <td>NaN</td>\n",
       "      <td>52.000000</td>\n",
       "      <td>NaN</td>\n",
       "      <td>...</td>\n",
       "      <td>NaN</td>\n",
       "      <td>7.000000</td>\n",
       "      <td>NaN</td>\n",
       "      <td>0.000000</td>\n",
       "      <td>2.000000</td>\n",
       "      <td>39.000000</td>\n",
       "      <td>2.000000</td>\n",
       "      <td>NaN</td>\n",
       "      <td>NaN</td>\n",
       "      <td>110.000000</td>\n",
       "    </tr>\n",
       "    <tr>\n",
       "      <th>50%</th>\n",
       "      <td>NaN</td>\n",
       "      <td>NaN</td>\n",
       "      <td>NaN</td>\n",
       "      <td>NaN</td>\n",
       "      <td>NaN</td>\n",
       "      <td>NaN</td>\n",
       "      <td>33100.000000</td>\n",
       "      <td>NaN</td>\n",
       "      <td>106.000000</td>\n",
       "      <td>NaN</td>\n",
       "      <td>...</td>\n",
       "      <td>NaN</td>\n",
       "      <td>8.000000</td>\n",
       "      <td>NaN</td>\n",
       "      <td>1.000000</td>\n",
       "      <td>2.000000</td>\n",
       "      <td>60.000000</td>\n",
       "      <td>3.000000</td>\n",
       "      <td>NaN</td>\n",
       "      <td>NaN</td>\n",
       "      <td>173.000000</td>\n",
       "    </tr>\n",
       "    <tr>\n",
       "      <th>75%</th>\n",
       "      <td>NaN</td>\n",
       "      <td>NaN</td>\n",
       "      <td>NaN</td>\n",
       "      <td>NaN</td>\n",
       "      <td>NaN</td>\n",
       "      <td>NaN</td>\n",
       "      <td>33300.000000</td>\n",
       "      <td>NaN</td>\n",
       "      <td>182.000000</td>\n",
       "      <td>NaN</td>\n",
       "      <td>...</td>\n",
       "      <td>NaN</td>\n",
       "      <td>9.000000</td>\n",
       "      <td>NaN</td>\n",
       "      <td>1.000000</td>\n",
       "      <td>2.000000</td>\n",
       "      <td>84.000000</td>\n",
       "      <td>4.000000</td>\n",
       "      <td>NaN</td>\n",
       "      <td>NaN</td>\n",
       "      <td>286.000000</td>\n",
       "    </tr>\n",
       "    <tr>\n",
       "      <th>max</th>\n",
       "      <td>NaN</td>\n",
       "      <td>NaN</td>\n",
       "      <td>NaN</td>\n",
       "      <td>NaN</td>\n",
       "      <td>NaN</td>\n",
       "      <td>NaN</td>\n",
       "      <td>33800.000000</td>\n",
       "      <td>NaN</td>\n",
       "      <td>602.000000</td>\n",
       "      <td>NaN</td>\n",
       "      <td>...</td>\n",
       "      <td>NaN</td>\n",
       "      <td>91.000000</td>\n",
       "      <td>NaN</td>\n",
       "      <td>17.000000</td>\n",
       "      <td>2.000000</td>\n",
       "      <td>567.000000</td>\n",
       "      <td>17.000000</td>\n",
       "      <td>NaN</td>\n",
       "      <td>NaN</td>\n",
       "      <td>12799.000000</td>\n",
       "    </tr>\n",
       "  </tbody>\n",
       "</table>\n",
       "<p>11 rows × 26 columns</p>\n",
       "</div>"
      ],
      "text/plain": [
       "       Date mutation Nature mutation Valeur fonciere B/T/Q Type de voie   \n",
       "count          20181           20181           20155   632        20177  \\\n",
       "unique           798               6            6136     7           20   \n",
       "top       21/01/2021           Vente     10515000,00     B          RUE   \n",
       "freq             238           20035             206   533        15344   \n",
       "mean             NaN             NaN             NaN   NaN          NaN   \n",
       "std              NaN             NaN             NaN   NaN          NaN   \n",
       "min              NaN             NaN             NaN   NaN          NaN   \n",
       "25%              NaN             NaN             NaN   NaN          NaN   \n",
       "50%              NaN             NaN             NaN   NaN          NaN   \n",
       "75%              NaN             NaN             NaN   NaN          NaN   \n",
       "max              NaN             NaN             NaN   NaN          NaN   \n",
       "\n",
       "          Voie   Code postal Section       No plan 1er lot  ...   \n",
       "count    20181  20181.000000   20136  20181.000000   12668  ...  \\\n",
       "unique    1511           NaN     339           NaN     969  ...   \n",
       "top     GODARD           NaN      HE           NaN       2  ...   \n",
       "freq       234           NaN     305           NaN     780  ...   \n",
       "mean       NaN  33222.209008     NaN    127.089094     NaN  ...   \n",
       "std        NaN    285.696853     NaN     97.141666     NaN  ...   \n",
       "min        NaN  33000.000000     NaN      1.000000     NaN  ...   \n",
       "25%        NaN  33000.000000     NaN     52.000000     NaN  ...   \n",
       "50%        NaN  33100.000000     NaN    106.000000     NaN  ...   \n",
       "75%        NaN  33300.000000     NaN    182.000000     NaN  ...   \n",
       "max        NaN  33800.000000     NaN    602.000000     NaN  ...   \n",
       "\n",
       "       Surface Carrez du 4eme lot   5eme lot Surface Carrez du 5eme lot   \n",
       "count                          20  33.000000                         11  \\\n",
       "unique                         15        NaN                          6   \n",
       "top                         25,60        NaN                       6,00   \n",
       "freq                            6        NaN                          6   \n",
       "mean                          NaN  12.424242                        NaN   \n",
       "std                           NaN  15.843039                        NaN   \n",
       "min                           NaN   3.000000                        NaN   \n",
       "25%                           NaN   7.000000                        NaN   \n",
       "50%                           NaN   8.000000                        NaN   \n",
       "75%                           NaN   9.000000                        NaN   \n",
       "max                           NaN  91.000000                        NaN   \n",
       "\n",
       "        Nombre de lots Code type local  Surface reelle bati   \n",
       "count     20181.000000    20181.000000         20181.000000  \\\n",
       "unique             NaN             NaN                  NaN   \n",
       "top                NaN             NaN                  NaN   \n",
       "freq               NaN             NaN                  NaN   \n",
       "mean          0.764927        1.777266            68.920718   \n",
       "std           0.742949        0.416092            44.866977   \n",
       "min           0.000000        1.000000             6.000000   \n",
       "25%           0.000000        2.000000            39.000000   \n",
       "50%           1.000000        2.000000            60.000000   \n",
       "75%           1.000000        2.000000            84.000000   \n",
       "max          17.000000        2.000000           567.000000   \n",
       "\n",
       "       Nombre pieces principales  Nature culture Nature culture speciale   \n",
       "count               20181.000000            7325                     118  \\\n",
       "unique                       NaN               4                       3   \n",
       "top                          NaN               S                     IMM   \n",
       "freq                         NaN            7112                      96   \n",
       "mean                    2.851098             NaN                     NaN   \n",
       "std                     1.509920             NaN                     NaN   \n",
       "min                     0.000000             NaN                     NaN   \n",
       "25%                     2.000000             NaN                     NaN   \n",
       "50%                     3.000000             NaN                     NaN   \n",
       "75%                     4.000000             NaN                     NaN   \n",
       "max                    17.000000             NaN                     NaN   \n",
       "\n",
       "        Surface terrain  \n",
       "count       7325.000000  \n",
       "unique              NaN  \n",
       "top                 NaN  \n",
       "freq                NaN  \n",
       "mean         289.744300  \n",
       "std          566.861607  \n",
       "min           12.000000  \n",
       "25%          110.000000  \n",
       "50%          173.000000  \n",
       "75%          286.000000  \n",
       "max        12799.000000  \n",
       "\n",
       "[11 rows x 26 columns]"
      ]
     },
     "execution_count": 8,
     "metadata": {},
     "output_type": "execute_result"
    }
   ],
   "source": [
    "data_bordeaux.describe(include='all')"
   ]
  },
  {
   "cell_type": "code",
   "execution_count": null,
   "metadata": {},
   "outputs": [],
   "source": [
    "#data_bordeaux['No disposition'].unique()"
   ]
  },
  {
   "cell_type": "code",
   "execution_count": 9,
   "metadata": {},
   "outputs": [
    {
     "data": {
      "text/plain": [
       "array(['Vente', \"Vente en l'état futur d'achèvement\", 'Adjudication',\n",
       "       'Echange', 'Vente terrain à bâtir', 'Expropriation'], dtype=object)"
      ]
     },
     "execution_count": 9,
     "metadata": {},
     "output_type": "execute_result"
    }
   ],
   "source": [
    "data_bordeaux['Nature mutation'].unique()"
   ]
  },
  {
   "cell_type": "code",
   "execution_count": 10,
   "metadata": {},
   "outputs": [
    {
     "data": {
      "text/plain": [
       "array([nan, 'T', 'B', 'A', 'S', 'C', 'Q', 'G'], dtype=object)"
      ]
     },
     "execution_count": 10,
     "metadata": {},
     "output_type": "execute_result"
    }
   ],
   "source": [
    "data_bordeaux['B/T/Q'].unique()"
   ]
  },
  {
   "cell_type": "code",
   "execution_count": 11,
   "metadata": {},
   "outputs": [
    {
     "data": {
      "text/plain": [
       "Date mutation                  object\n",
       "Nature mutation                object\n",
       "Valeur fonciere                object\n",
       "B/T/Q                          object\n",
       "Type de voie                   object\n",
       "Voie                           object\n",
       "Code postal                   float64\n",
       "Section                        object\n",
       "No plan                         int64\n",
       "1er lot                        object\n",
       "Surface Carrez du 1er lot      object\n",
       "2eme lot                      float64\n",
       "Surface Carrez du 2eme lot     object\n",
       "3eme lot                      float64\n",
       "Surface Carrez du 3eme lot     object\n",
       "4eme lot                      float64\n",
       "Surface Carrez du 4eme lot     object\n",
       "5eme lot                      float64\n",
       "Surface Carrez du 5eme lot     object\n",
       "Nombre de lots                  int64\n",
       "Code type local               float64\n",
       "Surface reelle bati           float64\n",
       "Nombre pieces principales     float64\n",
       "Nature culture                 object\n",
       "Nature culture speciale        object\n",
       "Surface terrain               float64\n",
       "dtype: object"
      ]
     },
     "execution_count": 11,
     "metadata": {},
     "output_type": "execute_result"
    }
   ],
   "source": [
    "data_bordeaux.dtypes"
   ]
  },
  {
   "cell_type": "code",
   "execution_count": 12,
   "metadata": {},
   "outputs": [],
   "source": [
    "data_bordeaux['Valeur fonciere'] = data_bordeaux['Valeur fonciere'].str.replace(',', '.')\n",
    "data_bordeaux['Valeur fonciere'] = pd.to_numeric(data_bordeaux['Valeur fonciere'], errors='coerce')\n",
    "data_bordeaux['Valeur fonciere'] = data_bordeaux['Valeur fonciere'].fillna(0).astype(int)\n",
    "\n",
    "data_bordeaux_test['Valeur fonciere'] = data_bordeaux_test['Valeur fonciere'].str.replace(',', '.')\n",
    "data_bordeaux_test['Valeur fonciere'] = pd.to_numeric(data_bordeaux_test['Valeur fonciere'], errors='coerce')\n",
    "data_bordeaux_test['Valeur fonciere'] = data_bordeaux_test['Valeur fonciere'].fillna(0).astype(int)"
   ]
  },
  {
   "cell_type": "code",
   "execution_count": 13,
   "metadata": {},
   "outputs": [],
   "source": [
    "data_bordeaux['Code postal'] = data_bordeaux['Code postal'].astype(int)\n",
    "data_bordeaux_test['Code postal'] = data_bordeaux_test['Code postal'].astype(int)"
   ]
  },
  {
   "cell_type": "code",
   "execution_count": 14,
   "metadata": {},
   "outputs": [
    {
     "data": {
      "text/plain": [
       "Date mutation                  object\n",
       "Nature mutation                object\n",
       "Valeur fonciere                 int32\n",
       "B/T/Q                          object\n",
       "Type de voie                   object\n",
       "Voie                           object\n",
       "Code postal                     int32\n",
       "Section                        object\n",
       "No plan                         int64\n",
       "1er lot                        object\n",
       "Surface Carrez du 1er lot      object\n",
       "2eme lot                      float64\n",
       "Surface Carrez du 2eme lot     object\n",
       "3eme lot                      float64\n",
       "Surface Carrez du 3eme lot     object\n",
       "4eme lot                      float64\n",
       "Surface Carrez du 4eme lot     object\n",
       "5eme lot                      float64\n",
       "Surface Carrez du 5eme lot     object\n",
       "Nombre de lots                  int64\n",
       "Code type local               float64\n",
       "Surface reelle bati           float64\n",
       "Nombre pieces principales     float64\n",
       "Nature culture                 object\n",
       "Nature culture speciale        object\n",
       "Surface terrain               float64\n",
       "dtype: object"
      ]
     },
     "execution_count": 14,
     "metadata": {},
     "output_type": "execute_result"
    }
   ],
   "source": [
    "data_bordeaux.dtypes"
   ]
  },
  {
   "cell_type": "code",
   "execution_count": 15,
   "metadata": {},
   "outputs": [
    {
     "data": {
      "text/plain": [
       "(20181, 26)"
      ]
     },
     "execution_count": 15,
     "metadata": {},
     "output_type": "execute_result"
    }
   ],
   "source": [
    "data_bordeaux.shape"
   ]
  },
  {
   "cell_type": "code",
   "execution_count": 16,
   "metadata": {},
   "outputs": [
    {
     "data": {
      "text/plain": [
       "False    19150\n",
       "True      1031\n",
       "Name: count, dtype: int64"
      ]
     },
     "execution_count": 16,
     "metadata": {},
     "output_type": "execute_result"
    }
   ],
   "source": [
    "data_bordeaux.duplicated().value_counts()"
   ]
  },
  {
   "cell_type": "code",
   "execution_count": 17,
   "metadata": {},
   "outputs": [],
   "source": [
    "data_bordeaux = data_bordeaux.drop_duplicates()"
   ]
  },
  {
   "cell_type": "code",
   "execution_count": 18,
   "metadata": {},
   "outputs": [
    {
     "data": {
      "text/plain": [
       "False    19150\n",
       "Name: count, dtype: int64"
      ]
     },
     "execution_count": 18,
     "metadata": {},
     "output_type": "execute_result"
    }
   ],
   "source": [
    "data_bordeaux.duplicated().value_counts()"
   ]
  },
  {
   "cell_type": "markdown",
   "metadata": {},
   "source": [
    "## Variable cible"
   ]
  },
  {
   "cell_type": "code",
   "execution_count": 19,
   "metadata": {},
   "outputs": [
    {
     "name": "stdout",
     "output_type": "stream",
     "text": [
      "count      19150.000\n",
      "mean      483816.880\n",
      "std       757756.685\n",
      "min            0.000\n",
      "25%       196000.000\n",
      "50%       303200.000\n",
      "75%       525000.000\n",
      "max     21407840.000\n",
      "Name: Valeur fonciere, dtype: float64\n"
     ]
    }
   ],
   "source": [
    "pd.set_option('display.float_format', lambda x: '%.3f' % x)\n",
    "target_stats = data_bordeaux['Valeur fonciere'].describe()\n",
    "print(target_stats)"
   ]
  },
  {
   "cell_type": "code",
   "execution_count": 20,
   "metadata": {},
   "outputs": [
    {
     "data": {
      "image/png": "[encoded data removed]",
      "text/plain": [
       "<Figure size 640x480 with 1 Axes>"
      ]
     },
     "metadata": {},
     "output_type": "display_data"
    }
   ],
   "source": [
    "# Exemple en utilisant seaborn pour un histogramme\n",
    "import seaborn as sns\n",
    "import matplotlib.pyplot as plt\n",
    "\n",
    "sns.histplot(data_bordeaux['Valeur fonciere'], kde=True)\n",
    "plt.show()"
   ]
  },
  {
   "cell_type": "code",
   "execution_count": 21,
   "metadata": {},
   "outputs": [
    {
     "data": {
      "image/png": "[encoded data removed]",
      "text/plain": [
       "<Figure size 640x480 with 1 Axes>"
      ]
     },
     "metadata": {},
     "output_type": "display_data"
    }
   ],
   "source": [
    "# Exemple en utilisant seaborn pour un histogramme\n",
    "\n",
    "sns.histplot(data_bordeaux_test['Valeur fonciere'], kde=True)\n",
    "plt.show()"
   ]
  },
  {
   "cell_type": "code",
   "execution_count": 22,
   "metadata": {},
   "outputs": [
    {
     "data": {
      "text/plain": [
       "303200.0"
      ]
     },
     "execution_count": 22,
     "metadata": {},
     "output_type": "execute_result"
    }
   ],
   "source": [
    "median_value = data_bordeaux['Valeur fonciere'].median()\n",
    "median_value"
   ]
  },
  {
   "cell_type": "code",
   "execution_count": 23,
   "metadata": {},
   "outputs": [
    {
     "name": "stdout",
     "output_type": "stream",
     "text": [
      "count     17719.000\n",
      "mean     345905.520\n",
      "std      212190.864\n",
      "min           0.000\n",
      "25%      189923.500\n",
      "50%      283000.000\n",
      "75%      456175.000\n",
      "max     1017950.000\n",
      "Name: Valeur fonciere, dtype: float64\n"
     ]
    }
   ],
   "source": [
    "Q1 = data_bordeaux['Valeur fonciere'].quantile(0.25)\n",
    "Q3 = data_bordeaux['Valeur fonciere'].quantile(0.75)\n",
    "\n",
    "IQR = Q3 - Q1\n",
    "\n",
    "lower_limit = Q1 - 1.5 * IQR\n",
    "upper_limit = Q3 + 1.5 * IQR\n",
    "\n",
    "filtered_data = data_bordeaux[(data_bordeaux['Valeur fonciere'] >= lower_limit) & (data_bordeaux['Valeur fonciere'] <= upper_limit)]\n",
    "\n",
    "print(filtered_data['Valeur fonciere'].describe())"
   ]
  },
  {
   "cell_type": "code",
   "execution_count": 24,
   "metadata": {},
   "outputs": [
    {
     "data": {
      "image/png": "[encoded data removed]",
      "text/plain": [
       "<Figure size 640x480 with 1 Axes>"
      ]
     },
     "metadata": {},
     "output_type": "display_data"
    }
   ],
   "source": [
    "import seaborn as sns\n",
    "import matplotlib.pyplot as plt\n",
    "\n",
    "sns.histplot(filtered_data['Valeur fonciere'], kde=True)\n",
    "plt.show()"
   ]
  },
  {
   "cell_type": "markdown",
   "metadata": {},
   "source": [
    "## Conversion des colonnes de type 'object'"
   ]
  },
  {
   "cell_type": "code",
   "execution_count": 25,
   "metadata": {},
   "outputs": [
    {
     "name": "stderr",
     "output_type": "stream",
     "text": [
      "C:\\Users\\zara\\AppData\\Local\\Temp\\ipykernel_13300\\3992339958.py:7: SettingWithCopyWarning: \n",
      "A value is trying to be set on a copy of a slice from a DataFrame.\n",
      "Try using .loc[row_indexer,col_indexer] = value instead\n",
      "\n",
      "See the caveats in the documentation: https://pandas.pydata.org/pandas-docs/stable/user_guide/indexing.html#returning-a-view-versus-a-copy\n",
      "  filtered_data['Date mutation'] = pd.to_datetime(filtered_data['Date mutation'], format='%d/%m/%Y').astype('int64')\n"
     ]
    }
   ],
   "source": [
    "import numpy as np\n",
    "from sklearn.preprocessing import LabelEncoder\n",
    "\n",
    "# Supposons que votre DataFrame 'filtered_data' est déjà chargé et contient une colonne 'Date mutation' et 'Nature mutation'\n",
    "\n",
    "# Convertir la colonne 'Date mutation' en nombre (timestamp)\n",
    "filtered_data['Date mutation'] = pd.to_datetime(filtered_data['Date mutation'], format='%d/%m/%Y').astype('int64')\n",
    "data_bordeaux_test['Date mutation'] = pd.to_datetime(data_bordeaux_test['Date mutation'], format='%d/%m/%Y').astype('int64')\n",
    "\n",
    "# Copier les données en numérique pour la matrice de corrélation\n",
    "filtered_data_numeric = filtered_data.copy()\n",
    "\n",
    "# Initialisation de l'encodeur de labels\n",
    "label_encoder = LabelEncoder()\n",
    "\n",
    "# Boucle pour encoder toutes les colonnes de type 'object'\n",
    "for column in filtered_data_numeric.columns:\n",
    "    if filtered_data_numeric[column].dtype == 'object':\n",
    "        # Adapter l'encodeur et transformer les données pour chaque colonne texte\n",
    "        filtered_data_numeric[column] = label_encoder.fit_transform(filtered_data_numeric[column])"
   ]
  },
  {
   "cell_type": "markdown",
   "metadata": {},
   "source": [
    "## variable explicative"
   ]
  },
  {
   "cell_type": "code",
   "execution_count": 26,
   "metadata": {},
   "outputs": [
    {
     "data": {
      "application/vnd.plotly.v1+json": {
       "config": {
        "plotlyServerURL": "https://plot.ly"
       },
       "data": [
        {
         "colorscale": [
          [
           0,
           "#0d0887"
          ],
          [
           0.1111111111111111,
           "#46039f"
          ],
          [
           0.2222222222222222,
           "#7201a8"
          ],
          [
           0.3333333333333333,
           "#9c179e"
          ],
          [
           0.4444444444444444,
           "#bd3786"
          ],
          [
           0.5555555555555556,
           "#d8576b"
          ],
          [
           0.6666666666666666,
           "#ed7953"
          ],
          [
           0.7777777777777778,
           "#fb9f3a"
          ],
          [
           0.8888888888888888,
           "#fdca26"
          ],
          [
           1,
           "#f0f921"
          ]
         ],
         "reversescale": false,
         "showscale": false,
         "type": "heatmap",
         "x": [
          "Date mutation",
          "Nature mutation",
          "Valeur fonciere",
          "B/T/Q",
          "Type de voie",
          "Voie",
          "Code postal",
          "Section",
          "No plan",
          "1er lot",
          "Surface Carrez du 1er lot",
          "2eme lot",
          "Surface Carrez du 2eme lot",
          "3eme lot",
          "Surface Carrez du 3eme lot",
          "4eme lot",
          "Surface Carrez du 4eme lot",
          "5eme lot",
          "Surface Carrez du 5eme lot",
          "Nombre de lots",
          "Code type local",
          "Surface reelle bati",
          "Nombre pieces principales",
          "Nature culture",
          "Nature culture speciale",
          "Surface terrain"
         ],
         "y": [
          "Date mutation",
          "Nature mutation",
          "Valeur fonciere",
          "B/T/Q",
          "Type de voie",
          "Voie",
          "Code postal",
          "Section",
          "No plan",
          "1er lot",
          "Surface Carrez du 1er lot",
          "2eme lot",
          "Surface Carrez du 2eme lot",
          "3eme lot",
          "Surface Carrez du 3eme lot",
          "4eme lot",
          "Surface Carrez du 4eme lot",
          "5eme lot",
          "Surface Carrez du 5eme lot",
          "Nombre de lots",
          "Code type local",
          "Surface reelle bati",
          "Nombre pieces principales",
          "Nature culture",
          "Nature culture speciale",
          "Surface terrain"
         ],
         "z": [
          [
           1,
           0.01,
           0.03,
           0,
           0.01,
           0,
           -0.02,
           -0.01,
           0.01,
           0,
           0.08,
           0.07,
           0.03,
           0.05,
           0,
           0.08,
           0,
           -0.33,
           -0.01,
           0.01,
           0.03,
           -0.01,
           -0.01,
           0.02,
           0.01,
           0.02
          ],
          [
           0.01,
           1,
           0.02,
           -0.01,
           -0.02,
           0.01,
           -0.01,
           0.01,
           0,
           -0.01,
           -0.02,
           0.02,
           0,
           -0.02,
           0,
           null,
           0,
           null,
           0,
           -0.01,
           -0.01,
           0,
           0.01,
           0.01,
           0.05,
           -0.02
          ],
          [
           0.03,
           0.02,
           1,
           -0.01,
           0.06,
           -0.02,
           -0.1,
           0.02,
           -0.04,
           0.38,
           0.26,
           -0.1,
           0.05,
           0,
           -0.04,
           -0.03,
           -0.02,
           0.03,
           -0.02,
           -0.38,
           -0.41,
           0.6,
           0.51,
           -0.55,
           -0.02,
           0.01
          ],
          [
           0,
           -0.01,
           -0.01,
           1,
           0.07,
           -0.05,
           -0.03,
           -0.03,
           0,
           -0.04,
           0,
           0.04,
           -0.02,
           0.01,
           0,
           0.02,
           0,
           null,
           0,
           0.04,
           0.03,
           0,
           0,
           0.03,
           0,
           0.02
          ],
          [
           0.01,
           -0.02,
           0.06,
           0.07,
           1,
           0.03,
           -0.09,
           -0.1,
           0.06,
           0.04,
           0.02,
           0.07,
           -0.01,
           0.03,
           0,
           0.06,
           0,
           -0.65,
           -0.01,
           -0.04,
           -0.05,
           -0.01,
           -0.03,
           -0.06,
           0.01,
           -0.06
          ],
          [
           0,
           0.01,
           -0.02,
           -0.05,
           0.03,
           1,
           -0.03,
           0.01,
           -0.02,
           -0.02,
           -0.02,
           -0.03,
           0.01,
           -0.08,
           0.01,
           -0.17,
           0.01,
           -0.01,
           0,
           0.02,
           0.03,
           0,
           0,
           0.04,
           0.02,
           -0.02
          ],
          [
           -0.02,
           -0.01,
           -0.1,
           -0.03,
           -0.09,
           -0.03,
           1,
           -0.25,
           0.13,
           0.04,
           0,
           -0.01,
           0.04,
           -0.03,
           0.02,
           -0.06,
           0.01,
           0.02,
           0.01,
           -0.09,
           -0.03,
           -0.08,
           -0.04,
           -0.06,
           -0.01,
           -0.04
          ],
          [
           -0.01,
           0.01,
           0.02,
           -0.03,
           -0.1,
           0.01,
           -0.25,
           1,
           -0.21,
           -0.04,
           0.06,
           0.19,
           -0.01,
           0.04,
           0.01,
           0.06,
           0.01,
           0.18,
           0.01,
           0.07,
           -0.02,
           0.16,
           0.18,
           0.07,
           0.02,
           0.08
          ],
          [
           0.01,
           0,
           -0.04,
           0,
           0.06,
           -0.02,
           0.13,
           -0.21,
           1,
           0,
           -0.05,
           -0.09,
           0.03,
           0.07,
           0.01,
           0.14,
           0.01,
           -0.1,
           0.01,
           -0.05,
           0.03,
           -0.1,
           -0.12,
           0.01,
           0.01,
           -0.11
          ],
          [
           0,
           -0.01,
           0.38,
           -0.04,
           0.04,
           -0.02,
           0.04,
           -0.04,
           0,
           1,
           0.23,
           0.17,
           0.13,
           0.13,
           0.04,
           0.25,
           0.03,
           0.54,
           0.03,
           -0.62,
           -0.53,
           0.21,
           0.21,
           -0.67,
           -0.03,
           0.01
          ],
          [
           0.08,
           -0.02,
           0.26,
           0,
           0.02,
           -0.02,
           0,
           0.06,
           -0.05,
           0.23,
           1,
           0,
           -0.05,
           0.03,
           0,
           0.06,
           0.02,
           0.14,
           0.02,
           -0.21,
           -0.28,
           0.23,
           0.27,
           -0.35,
           -0.01,
           0
          ],
          [
           0.07,
           0.02,
           -0.1,
           0.04,
           0.07,
           -0.03,
           -0.01,
           0.19,
           -0.09,
           0.17,
           0,
           1,
           0,
           1,
           0.04,
           1,
           0.02,
           0.77,
           0.02,
           -0.06,
           0.05,
           0,
           0.05,
           null,
           null,
           null
          ],
          [
           0.03,
           0,
           0.05,
           -0.02,
           -0.01,
           0.01,
           0.04,
           -0.01,
           0.03,
           0.13,
           -0.05,
           0,
           1,
           -0.24,
           0.09,
           -0.33,
           0.12,
           0.04,
           0.08,
           -0.29,
           -0.08,
           0.02,
           0.02,
           -0.1,
           0,
           null
          ],
          [
           0.05,
           -0.02,
           0,
           0.01,
           0.03,
           -0.08,
           -0.03,
           0.04,
           0.07,
           0.13,
           0.03,
           1,
           -0.24,
           1,
           0.02,
           1,
           0,
           0.84,
           0.02,
           0.01,
           0.03,
           0.13,
           0.09,
           null,
           null,
           null
          ],
          [
           0,
           0,
           -0.04,
           0,
           0,
           0.01,
           0.02,
           0.01,
           0.01,
           0.04,
           0,
           0.04,
           0.09,
           0.02,
           1,
           0.05,
           0.41,
           0.15,
           0.19,
           -0.17,
           -0.02,
           -0.03,
           -0.02,
           -0.03,
           0,
           null
          ],
          [
           0.08,
           null,
           -0.03,
           0.02,
           0.06,
           -0.17,
           -0.06,
           0.06,
           0.14,
           0.25,
           0.06,
           1,
           -0.33,
           1,
           0.05,
           1,
           0.03,
           0.85,
           0.04,
           -0.05,
           0.05,
           0.14,
           0.1,
           null,
           null,
           null
          ],
          [
           0,
           0,
           -0.02,
           0,
           0,
           0.01,
           0.01,
           0.01,
           0.01,
           0.03,
           0.02,
           0.02,
           0.12,
           0,
           0.41,
           0.03,
           1,
           0.18,
           0.47,
           -0.16,
           -0.01,
           -0.01,
           -0.01,
           -0.02,
           0,
           null
          ],
          [
           -0.33,
           null,
           0.03,
           null,
           -0.65,
           -0.01,
           0.02,
           0.18,
           -0.1,
           0.54,
           0.14,
           0.77,
           0.04,
           0.84,
           0.15,
           0.85,
           0.18,
           1,
           0.15,
           -0.02,
           0.05,
           0.37,
           0.32,
           null,
           null,
           null
          ],
          [
           -0.01,
           0,
           -0.02,
           0,
           -0.01,
           0,
           0.01,
           0.01,
           0.01,
           0.03,
           0.02,
           0.02,
           0.08,
           0.02,
           0.19,
           0.04,
           0.47,
           0.15,
           1,
           -0.12,
           -0.01,
           -0.01,
           0,
           -0.01,
           0,
           null
          ],
          [
           0.01,
           -0.01,
           -0.38,
           0.04,
           -0.04,
           0.02,
           -0.09,
           0.07,
           -0.05,
           -0.62,
           -0.21,
           -0.06,
           -0.29,
           0.01,
           -0.17,
           -0.05,
           -0.16,
           -0.02,
           -0.12,
           1,
           0.59,
           -0.18,
           -0.17,
           0.74,
           0.03,
           -0.01
          ],
          [
           0.03,
           -0.01,
           -0.41,
           0.03,
           -0.05,
           0.03,
           -0.03,
           -0.02,
           0.03,
           -0.53,
           -0.28,
           0.05,
           -0.08,
           0.03,
           -0.02,
           0.05,
           -0.01,
           0.05,
           -0.01,
           0.59,
           1,
           -0.49,
           -0.48,
           0.74,
           0.01,
           0.01
          ],
          [
           -0.01,
           0,
           0.6,
           0,
           -0.01,
           0,
           -0.08,
           0.16,
           -0.1,
           0.21,
           0.23,
           0,
           0.02,
           0.13,
           -0.03,
           0.14,
           -0.01,
           0.37,
           -0.01,
           -0.18,
           -0.49,
           1,
           0.85,
           -0.34,
           0,
           0.09
          ],
          [
           -0.01,
           0.01,
           0.51,
           0,
           -0.03,
           0,
           -0.04,
           0.18,
           -0.12,
           0.21,
           0.27,
           0.05,
           0.02,
           0.09,
           -0.02,
           0.1,
           -0.01,
           0.32,
           0,
           -0.17,
           -0.48,
           0.85,
           1,
           -0.33,
           0,
           0.09
          ],
          [
           0.02,
           0.01,
           -0.55,
           0.03,
           -0.06,
           0.04,
           -0.06,
           0.07,
           0.01,
           -0.67,
           -0.35,
           null,
           -0.1,
           null,
           -0.03,
           null,
           -0.02,
           null,
           -0.01,
           0.74,
           0.74,
           -0.34,
           -0.33,
           1,
           0.09,
           -0.16
          ],
          [
           0.01,
           0.05,
           -0.02,
           0,
           0.01,
           0.02,
           -0.01,
           0.02,
           0.01,
           -0.03,
           -0.01,
           null,
           0,
           null,
           0,
           null,
           0,
           null,
           0,
           0.03,
           0.01,
           0,
           0,
           0.09,
           1,
           -0.06
          ],
          [
           0.02,
           -0.02,
           0.01,
           0.02,
           -0.06,
           -0.02,
           -0.04,
           0.08,
           -0.11,
           0.01,
           0,
           null,
           null,
           null,
           null,
           null,
           null,
           null,
           null,
           -0.01,
           0.01,
           0.09,
           0.09,
           -0.16,
           -0.06,
           1
          ]
         ]
        }
       ],
       "layout": {
        "annotations": [
         {
          "font": {
           "color": "#000000"
          },
          "showarrow": false,
          "text": "1.0",
          "x": "Date mutation",
          "xref": "x",
          "y": "Date mutation",
          "yref": "y"
         },
         {
          "font": {
           "color": "#000000"
          },
          "showarrow": false,
          "text": "0.01",
          "x": "Nature mutation",
          "xref": "x",
          "y": "Date mutation",
          "yref": "y"
         },
         {
          "font": {
           "color": "#000000"
          },
          "showarrow": false,
          "text": "0.03",
          "x": "Valeur fonciere",
          "xref": "x",
          "y": "Date mutation",
          "yref": "y"
         },
         {
          "font": {
           "color": "#000000"
          },
          "showarrow": false,
          "text": "0.0",
          "x": "B/T/Q",
          "xref": "x",
          "y": "Date mutation",
          "yref": "y"
         },
         {
          "font": {
           "color": "#000000"
          },
          "showarrow": false,
          "text": "0.01",
          "x": "Type de voie",
          "xref": "x",
          "y": "Date mutation",
          "yref": "y"
         },
         {
          "font": {
           "color": "#000000"
          },
          "showarrow": false,
          "text": "0.0",
          "x": "Voie",
          "xref": "x",
          "y": "Date mutation",
          "yref": "y"
         },
         {
          "font": {
           "color": "#000000"
          },
          "showarrow": false,
          "text": "-0.02",
          "x": "Code postal",
          "xref": "x",
          "y": "Date mutation",
          "yref": "y"
         },
         {
          "font": {
           "color": "#000000"
          },
          "showarrow": false,
          "text": "-0.01",
          "x": "Section",
          "xref": "x",
          "y": "Date mutation",
          "yref": "y"
         },
         {
          "font": {
           "color": "#000000"
          },
          "showarrow": false,
          "text": "0.01",
          "x": "No plan",
          "xref": "x",
          "y": "Date mutation",
          "yref": "y"
         },
         {
          "font": {
           "color": "#000000"
          },
          "showarrow": false,
          "text": "-0.0",
          "x": "1er lot",
          "xref": "x",
          "y": "Date mutation",
          "yref": "y"
         },
         {
          "font": {
           "color": "#000000"
          },
          "showarrow": false,
          "text": "0.08",
          "x": "Surface Carrez du 1er lot",
          "xref": "x",
          "y": "Date mutation",
          "yref": "y"
         },
         {
          "font": {
           "color": "#000000"
          },
          "showarrow": false,
          "text": "0.07",
          "x": "2eme lot",
          "xref": "x",
          "y": "Date mutation",
          "yref": "y"
         },
         {
          "font": {
           "color": "#000000"
          },
          "showarrow": false,
          "text": "0.03",
          "x": "Surface Carrez du 2eme lot",
          "xref": "x",
          "y": "Date mutation",
          "yref": "y"
         },
         {
          "font": {
           "color": "#000000"
          },
          "showarrow": false,
          "text": "0.05",
          "x": "3eme lot",
          "xref": "x",
          "y": "Date mutation",
          "yref": "y"
         },
         {
          "font": {
           "color": "#000000"
          },
          "showarrow": false,
          "text": "-0.0",
          "x": "Surface Carrez du 3eme lot",
          "xref": "x",
          "y": "Date mutation",
          "yref": "y"
         },
         {
          "font": {
           "color": "#000000"
          },
          "showarrow": false,
          "text": "0.08",
          "x": "4eme lot",
          "xref": "x",
          "y": "Date mutation",
          "yref": "y"
         },
         {
          "font": {
           "color": "#000000"
          },
          "showarrow": false,
          "text": "-0.0",
          "x": "Surface Carrez du 4eme lot",
          "xref": "x",
          "y": "Date mutation",
          "yref": "y"
         },
         {
          "font": {
           "color": "#000000"
          },
          "showarrow": false,
          "text": "-0.33",
          "x": "5eme lot",
          "xref": "x",
          "y": "Date mutation",
          "yref": "y"
         },
         {
          "font": {
           "color": "#000000"
          },
          "showarrow": false,
          "text": "-0.01",
          "x": "Surface Carrez du 5eme lot",
          "xref": "x",
          "y": "Date mutation",
          "yref": "y"
         },
         {
          "font": {
           "color": "#000000"
          },
          "showarrow": false,
          "text": "0.01",
          "x": "Nombre de lots",
          "xref": "x",
          "y": "Date mutation",
          "yref": "y"
         },
         {
          "font": {
           "color": "#000000"
          },
          "showarrow": false,
          "text": "0.03",
          "x": "Code type local",
          "xref": "x",
          "y": "Date mutation",
          "yref": "y"
         },
         {
          "font": {
           "color": "#000000"
          },
          "showarrow": false,
          "text": "-0.01",
          "x": "Surface reelle bati",
          "xref": "x",
          "y": "Date mutation",
          "yref": "y"
         },
         {
          "font": {
           "color": "#000000"
          },
          "showarrow": false,
          "text": "-0.01",
          "x": "Nombre pieces principales",
          "xref": "x",
          "y": "Date mutation",
          "yref": "y"
         },
         {
          "font": {
           "color": "#000000"
          },
          "showarrow": false,
          "text": "0.02",
          "x": "Nature culture",
          "xref": "x",
          "y": "Date mutation",
          "yref": "y"
         },
         {
          "font": {
           "color": "#000000"
          },
          "showarrow": false,
          "text": "0.01",
          "x": "Nature culture speciale",
          "xref": "x",
          "y": "Date mutation",
          "yref": "y"
         },
         {
          "font": {
           "color": "#000000"
          },
          "showarrow": false,
          "text": "0.02",
          "x": "Surface terrain",
          "xref": "x",
          "y": "Date mutation",
          "yref": "y"
         },
         {
          "font": {
           "color": "#000000"
          },
          "showarrow": false,
          "text": "0.01",
          "x": "Date mutation",
          "xref": "x",
          "y": "Nature mutation",
          "yref": "y"
         },
         {
          "font": {
           "color": "#000000"
          },
          "showarrow": false,
          "text": "1.0",
          "x": "Nature mutation",
          "xref": "x",
          "y": "Nature mutation",
          "yref": "y"
         },
         {
          "font": {
           "color": "#000000"
          },
          "showarrow": false,
          "text": "0.02",
          "x": "Valeur fonciere",
          "xref": "x",
          "y": "Nature mutation",
          "yref": "y"
         },
         {
          "font": {
           "color": "#000000"
          },
          "showarrow": false,
          "text": "-0.01",
          "x": "B/T/Q",
          "xref": "x",
          "y": "Nature mutation",
          "yref": "y"
         },
         {
          "font": {
           "color": "#000000"
          },
          "showarrow": false,
          "text": "-0.02",
          "x": "Type de voie",
          "xref": "x",
          "y": "Nature mutation",
          "yref": "y"
         },
         {
          "font": {
           "color": "#000000"
          },
          "showarrow": false,
          "text": "0.01",
          "x": "Voie",
          "xref": "x",
          "y": "Nature mutation",
          "yref": "y"
         },
         {
          "font": {
           "color": "#000000"
          },
          "showarrow": false,
          "text": "-0.01",
          "x": "Code postal",
          "xref": "x",
          "y": "Nature mutation",
          "yref": "y"
         },
         {
          "font": {
           "color": "#000000"
          },
          "showarrow": false,
          "text": "0.01",
          "x": "Section",
          "xref": "x",
          "y": "Nature mutation",
          "yref": "y"
         },
         {
          "font": {
           "color": "#000000"
          },
          "showarrow": false,
          "text": "0.0",
          "x": "No plan",
          "xref": "x",
          "y": "Nature mutation",
          "yref": "y"
         },
         {
          "font": {
           "color": "#000000"
          },
          "showarrow": false,
          "text": "-0.01",
          "x": "1er lot",
          "xref": "x",
          "y": "Nature mutation",
          "yref": "y"
         },
         {
          "font": {
           "color": "#000000"
          },
          "showarrow": false,
          "text": "-0.02",
          "x": "Surface Carrez du 1er lot",
          "xref": "x",
          "y": "Nature mutation",
          "yref": "y"
         },
         {
          "font": {
           "color": "#000000"
          },
          "showarrow": false,
          "text": "0.02",
          "x": "2eme lot",
          "xref": "x",
          "y": "Nature mutation",
          "yref": "y"
         },
         {
          "font": {
           "color": "#000000"
          },
          "showarrow": false,
          "text": "-0.0",
          "x": "Surface Carrez du 2eme lot",
          "xref": "x",
          "y": "Nature mutation",
          "yref": "y"
         },
         {
          "font": {
           "color": "#000000"
          },
          "showarrow": false,
          "text": "-0.02",
          "x": "3eme lot",
          "xref": "x",
          "y": "Nature mutation",
          "yref": "y"
         },
         {
          "font": {
           "color": "#000000"
          },
          "showarrow": false,
          "text": "-0.0",
          "x": "Surface Carrez du 3eme lot",
          "xref": "x",
          "y": "Nature mutation",
          "yref": "y"
         },
         {
          "font": {
           "color": "#000000"
          },
          "showarrow": false,
          "text": "nan",
          "x": "4eme lot",
          "xref": "x",
          "y": "Nature mutation",
          "yref": "y"
         },
         {
          "font": {
           "color": "#000000"
          },
          "showarrow": false,
          "text": "-0.0",
          "x": "Surface Carrez du 4eme lot",
          "xref": "x",
          "y": "Nature mutation",
          "yref": "y"
         },
         {
          "font": {
           "color": "#000000"
          },
          "showarrow": false,
          "text": "nan",
          "x": "5eme lot",
          "xref": "x",
          "y": "Nature mutation",
          "yref": "y"
         },
         {
          "font": {
           "color": "#000000"
          },
          "showarrow": false,
          "text": "-0.0",
          "x": "Surface Carrez du 5eme lot",
          "xref": "x",
          "y": "Nature mutation",
          "yref": "y"
         },
         {
          "font": {
           "color": "#000000"
          },
          "showarrow": false,
          "text": "-0.01",
          "x": "Nombre de lots",
          "xref": "x",
          "y": "Nature mutation",
          "yref": "y"
         },
         {
          "font": {
           "color": "#000000"
          },
          "showarrow": false,
          "text": "-0.01",
          "x": "Code type local",
          "xref": "x",
          "y": "Nature mutation",
          "yref": "y"
         },
         {
          "font": {
           "color": "#000000"
          },
          "showarrow": false,
          "text": "0.0",
          "x": "Surface reelle bati",
          "xref": "x",
          "y": "Nature mutation",
          "yref": "y"
         },
         {
          "font": {
           "color": "#000000"
          },
          "showarrow": false,
          "text": "0.01",
          "x": "Nombre pieces principales",
          "xref": "x",
          "y": "Nature mutation",
          "yref": "y"
         },
         {
          "font": {
           "color": "#000000"
          },
          "showarrow": false,
          "text": "0.01",
          "x": "Nature culture",
          "xref": "x",
          "y": "Nature mutation",
          "yref": "y"
         },
         {
          "font": {
           "color": "#000000"
          },
          "showarrow": false,
          "text": "0.05",
          "x": "Nature culture speciale",
          "xref": "x",
          "y": "Nature mutation",
          "yref": "y"
         },
         {
          "font": {
           "color": "#000000"
          },
          "showarrow": false,
          "text": "-0.02",
          "x": "Surface terrain",
          "xref": "x",
          "y": "Nature mutation",
          "yref": "y"
         },
         {
          "font": {
           "color": "#000000"
          },
          "showarrow": false,
          "text": "0.03",
          "x": "Date mutation",
          "xref": "x",
          "y": "Valeur fonciere",
          "yref": "y"
         },
         {
          "font": {
           "color": "#000000"
          },
          "showarrow": false,
          "text": "0.02",
          "x": "Nature mutation",
          "xref": "x",
          "y": "Valeur fonciere",
          "yref": "y"
         },
         {
          "font": {
           "color": "#000000"
          },
          "showarrow": false,
          "text": "1.0",
          "x": "Valeur fonciere",
          "xref": "x",
          "y": "Valeur fonciere",
          "yref": "y"
         },
         {
          "font": {
           "color": "#000000"
          },
          "showarrow": false,
          "text": "-0.01",
          "x": "B/T/Q",
          "xref": "x",
          "y": "Valeur fonciere",
          "yref": "y"
         },
         {
          "font": {
           "color": "#000000"
          },
          "showarrow": false,
          "text": "0.06",
          "x": "Type de voie",
          "xref": "x",
          "y": "Valeur fonciere",
          "yref": "y"
         },
         {
          "font": {
           "color": "#000000"
          },
          "showarrow": false,
          "text": "-0.02",
          "x": "Voie",
          "xref": "x",
          "y": "Valeur fonciere",
          "yref": "y"
         },
         {
          "font": {
           "color": "#000000"
          },
          "showarrow": false,
          "text": "-0.1",
          "x": "Code postal",
          "xref": "x",
          "y": "Valeur fonciere",
          "yref": "y"
         },
         {
          "font": {
           "color": "#000000"
          },
          "showarrow": false,
          "text": "0.02",
          "x": "Section",
          "xref": "x",
          "y": "Valeur fonciere",
          "yref": "y"
         },
         {
          "font": {
           "color": "#000000"
          },
          "showarrow": false,
          "text": "-0.04",
          "x": "No plan",
          "xref": "x",
          "y": "Valeur fonciere",
          "yref": "y"
         },
         {
          "font": {
           "color": "#000000"
          },
          "showarrow": false,
          "text": "0.38",
          "x": "1er lot",
          "xref": "x",
          "y": "Valeur fonciere",
          "yref": "y"
         },
         {
          "font": {
           "color": "#000000"
          },
          "showarrow": false,
          "text": "0.26",
          "x": "Surface Carrez du 1er lot",
          "xref": "x",
          "y": "Valeur fonciere",
          "yref": "y"
         },
         {
          "font": {
           "color": "#000000"
          },
          "showarrow": false,
          "text": "-0.1",
          "x": "2eme lot",
          "xref": "x",
          "y": "Valeur fonciere",
          "yref": "y"
         },
         {
          "font": {
           "color": "#000000"
          },
          "showarrow": false,
          "text": "0.05",
          "x": "Surface Carrez du 2eme lot",
          "xref": "x",
          "y": "Valeur fonciere",
          "yref": "y"
         },
         {
          "font": {
           "color": "#000000"
          },
          "showarrow": false,
          "text": "-0.0",
          "x": "3eme lot",
          "xref": "x",
          "y": "Valeur fonciere",
          "yref": "y"
         },
         {
          "font": {
           "color": "#000000"
          },
          "showarrow": false,
          "text": "-0.04",
          "x": "Surface Carrez du 3eme lot",
          "xref": "x",
          "y": "Valeur fonciere",
          "yref": "y"
         },
         {
          "font": {
           "color": "#000000"
          },
          "showarrow": false,
          "text": "-0.03",
          "x": "4eme lot",
          "xref": "x",
          "y": "Valeur fonciere",
          "yref": "y"
         },
         {
          "font": {
           "color": "#000000"
          },
          "showarrow": false,
          "text": "-0.02",
          "x": "Surface Carrez du 4eme lot",
          "xref": "x",
          "y": "Valeur fonciere",
          "yref": "y"
         },
         {
          "font": {
           "color": "#000000"
          },
          "showarrow": false,
          "text": "0.03",
          "x": "5eme lot",
          "xref": "x",
          "y": "Valeur fonciere",
          "yref": "y"
         },
         {
          "font": {
           "color": "#000000"
          },
          "showarrow": false,
          "text": "-0.02",
          "x": "Surface Carrez du 5eme lot",
          "xref": "x",
          "y": "Valeur fonciere",
          "yref": "y"
         },
         {
          "font": {
           "color": "#000000"
          },
          "showarrow": false,
          "text": "-0.38",
          "x": "Nombre de lots",
          "xref": "x",
          "y": "Valeur fonciere",
          "yref": "y"
         },
         {
          "font": {
           "color": "#000000"
          },
          "showarrow": false,
          "text": "-0.41",
          "x": "Code type local",
          "xref": "x",
          "y": "Valeur fonciere",
          "yref": "y"
         },
         {
          "font": {
           "color": "#000000"
          },
          "showarrow": false,
          "text": "0.6",
          "x": "Surface reelle bati",
          "xref": "x",
          "y": "Valeur fonciere",
          "yref": "y"
         },
         {
          "font": {
           "color": "#000000"
          },
          "showarrow": false,
          "text": "0.51",
          "x": "Nombre pieces principales",
          "xref": "x",
          "y": "Valeur fonciere",
          "yref": "y"
         },
         {
          "font": {
           "color": "#000000"
          },
          "showarrow": false,
          "text": "-0.55",
          "x": "Nature culture",
          "xref": "x",
          "y": "Valeur fonciere",
          "yref": "y"
         },
         {
          "font": {
           "color": "#000000"
          },
          "showarrow": false,
          "text": "-0.02",
          "x": "Nature culture speciale",
          "xref": "x",
          "y": "Valeur fonciere",
          "yref": "y"
         },
         {
          "font": {
           "color": "#000000"
          },
          "showarrow": false,
          "text": "0.01",
          "x": "Surface terrain",
          "xref": "x",
          "y": "Valeur fonciere",
          "yref": "y"
         },
         {
          "font": {
           "color": "#000000"
          },
          "showarrow": false,
          "text": "0.0",
          "x": "Date mutation",
          "xref": "x",
          "y": "B/T/Q",
          "yref": "y"
         },
         {
          "font": {
           "color": "#000000"
          },
          "showarrow": false,
          "text": "-0.01",
          "x": "Nature mutation",
          "xref": "x",
          "y": "B/T/Q",
          "yref": "y"
         },
         {
          "font": {
           "color": "#000000"
          },
          "showarrow": false,
          "text": "-0.01",
          "x": "Valeur fonciere",
          "xref": "x",
          "y": "B/T/Q",
          "yref": "y"
         },
         {
          "font": {
           "color": "#000000"
          },
          "showarrow": false,
          "text": "1.0",
          "x": "B/T/Q",
          "xref": "x",
          "y": "B/T/Q",
          "yref": "y"
         },
         {
          "font": {
           "color": "#000000"
          },
          "showarrow": false,
          "text": "0.07",
          "x": "Type de voie",
          "xref": "x",
          "y": "B/T/Q",
          "yref": "y"
         },
         {
          "font": {
           "color": "#000000"
          },
          "showarrow": false,
          "text": "-0.05",
          "x": "Voie",
          "xref": "x",
          "y": "B/T/Q",
          "yref": "y"
         },
         {
          "font": {
           "color": "#000000"
          },
          "showarrow": false,
          "text": "-0.03",
          "x": "Code postal",
          "xref": "x",
          "y": "B/T/Q",
          "yref": "y"
         },
         {
          "font": {
           "color": "#000000"
          },
          "showarrow": false,
          "text": "-0.03",
          "x": "Section",
          "xref": "x",
          "y": "B/T/Q",
          "yref": "y"
         },
         {
          "font": {
           "color": "#000000"
          },
          "showarrow": false,
          "text": "0.0",
          "x": "No plan",
          "xref": "x",
          "y": "B/T/Q",
          "yref": "y"
         },
         {
          "font": {
           "color": "#000000"
          },
          "showarrow": false,
          "text": "-0.04",
          "x": "1er lot",
          "xref": "x",
          "y": "B/T/Q",
          "yref": "y"
         },
         {
          "font": {
           "color": "#000000"
          },
          "showarrow": false,
          "text": "-0.0",
          "x": "Surface Carrez du 1er lot",
          "xref": "x",
          "y": "B/T/Q",
          "yref": "y"
         },
         {
          "font": {
           "color": "#000000"
          },
          "showarrow": false,
          "text": "0.04",
          "x": "2eme lot",
          "xref": "x",
          "y": "B/T/Q",
          "yref": "y"
         },
         {
          "font": {
           "color": "#000000"
          },
          "showarrow": false,
          "text": "-0.02",
          "x": "Surface Carrez du 2eme lot",
          "xref": "x",
          "y": "B/T/Q",
          "yref": "y"
         },
         {
          "font": {
           "color": "#000000"
          },
          "showarrow": false,
          "text": "0.01",
          "x": "3eme lot",
          "xref": "x",
          "y": "B/T/Q",
          "yref": "y"
         },
         {
          "font": {
           "color": "#000000"
          },
          "showarrow": false,
          "text": "0.0",
          "x": "Surface Carrez du 3eme lot",
          "xref": "x",
          "y": "B/T/Q",
          "yref": "y"
         },
         {
          "font": {
           "color": "#000000"
          },
          "showarrow": false,
          "text": "0.02",
          "x": "4eme lot",
          "xref": "x",
          "y": "B/T/Q",
          "yref": "y"
         },
         {
          "font": {
           "color": "#000000"
          },
          "showarrow": false,
          "text": "-0.0",
          "x": "Surface Carrez du 4eme lot",
          "xref": "x",
          "y": "B/T/Q",
          "yref": "y"
         },
         {
          "font": {
           "color": "#000000"
          },
          "showarrow": false,
          "text": "nan",
          "x": "5eme lot",
          "xref": "x",
          "y": "B/T/Q",
          "yref": "y"
         },
         {
          "font": {
           "color": "#000000"
          },
          "showarrow": false,
          "text": "-0.0",
          "x": "Surface Carrez du 5eme lot",
          "xref": "x",
          "y": "B/T/Q",
          "yref": "y"
         },
         {
          "font": {
           "color": "#000000"
          },
          "showarrow": false,
          "text": "0.04",
          "x": "Nombre de lots",
          "xref": "x",
          "y": "B/T/Q",
          "yref": "y"
         },
         {
          "font": {
           "color": "#000000"
          },
          "showarrow": false,
          "text": "0.03",
          "x": "Code type local",
          "xref": "x",
          "y": "B/T/Q",
          "yref": "y"
         },
         {
          "font": {
           "color": "#000000"
          },
          "showarrow": false,
          "text": "0.0",
          "x": "Surface reelle bati",
          "xref": "x",
          "y": "B/T/Q",
          "yref": "y"
         },
         {
          "font": {
           "color": "#000000"
          },
          "showarrow": false,
          "text": "-0.0",
          "x": "Nombre pieces principales",
          "xref": "x",
          "y": "B/T/Q",
          "yref": "y"
         },
         {
          "font": {
           "color": "#000000"
          },
          "showarrow": false,
          "text": "0.03",
          "x": "Nature culture",
          "xref": "x",
          "y": "B/T/Q",
          "yref": "y"
         },
         {
          "font": {
           "color": "#000000"
          },
          "showarrow": false,
          "text": "-0.0",
          "x": "Nature culture speciale",
          "xref": "x",
          "y": "B/T/Q",
          "yref": "y"
         },
         {
          "font": {
           "color": "#000000"
          },
          "showarrow": false,
          "text": "0.02",
          "x": "Surface terrain",
          "xref": "x",
          "y": "B/T/Q",
          "yref": "y"
         },
         {
          "font": {
           "color": "#000000"
          },
          "showarrow": false,
          "text": "0.01",
          "x": "Date mutation",
          "xref": "x",
          "y": "Type de voie",
          "yref": "y"
         },
         {
          "font": {
           "color": "#000000"
          },
          "showarrow": false,
          "text": "-0.02",
          "x": "Nature mutation",
          "xref": "x",
          "y": "Type de voie",
          "yref": "y"
         },
         {
          "font": {
           "color": "#000000"
          },
          "showarrow": false,
          "text": "0.06",
          "x": "Valeur fonciere",
          "xref": "x",
          "y": "Type de voie",
          "yref": "y"
         },
         {
          "font": {
           "color": "#000000"
          },
          "showarrow": false,
          "text": "0.07",
          "x": "B/T/Q",
          "xref": "x",
          "y": "Type de voie",
          "yref": "y"
         },
         {
          "font": {
           "color": "#000000"
          },
          "showarrow": false,
          "text": "1.0",
          "x": "Type de voie",
          "xref": "x",
          "y": "Type de voie",
          "yref": "y"
         },
         {
          "font": {
           "color": "#000000"
          },
          "showarrow": false,
          "text": "0.03",
          "x": "Voie",
          "xref": "x",
          "y": "Type de voie",
          "yref": "y"
         },
         {
          "font": {
           "color": "#000000"
          },
          "showarrow": false,
          "text": "-0.09",
          "x": "Code postal",
          "xref": "x",
          "y": "Type de voie",
          "yref": "y"
         },
         {
          "font": {
           "color": "#000000"
          },
          "showarrow": false,
          "text": "-0.1",
          "x": "Section",
          "xref": "x",
          "y": "Type de voie",
          "yref": "y"
         },
         {
          "font": {
           "color": "#000000"
          },
          "showarrow": false,
          "text": "0.06",
          "x": "No plan",
          "xref": "x",
          "y": "Type de voie",
          "yref": "y"
         },
         {
          "font": {
           "color": "#000000"
          },
          "showarrow": false,
          "text": "0.04",
          "x": "1er lot",
          "xref": "x",
          "y": "Type de voie",
          "yref": "y"
         },
         {
          "font": {
           "color": "#000000"
          },
          "showarrow": false,
          "text": "0.02",
          "x": "Surface Carrez du 1er lot",
          "xref": "x",
          "y": "Type de voie",
          "yref": "y"
         },
         {
          "font": {
           "color": "#000000"
          },
          "showarrow": false,
          "text": "0.07",
          "x": "2eme lot",
          "xref": "x",
          "y": "Type de voie",
          "yref": "y"
         },
         {
          "font": {
           "color": "#000000"
          },
          "showarrow": false,
          "text": "-0.01",
          "x": "Surface Carrez du 2eme lot",
          "xref": "x",
          "y": "Type de voie",
          "yref": "y"
         },
         {
          "font": {
           "color": "#000000"
          },
          "showarrow": false,
          "text": "0.03",
          "x": "3eme lot",
          "xref": "x",
          "y": "Type de voie",
          "yref": "y"
         },
         {
          "font": {
           "color": "#000000"
          },
          "showarrow": false,
          "text": "-0.0",
          "x": "Surface Carrez du 3eme lot",
          "xref": "x",
          "y": "Type de voie",
          "yref": "y"
         },
         {
          "font": {
           "color": "#000000"
          },
          "showarrow": false,
          "text": "0.06",
          "x": "4eme lot",
          "xref": "x",
          "y": "Type de voie",
          "yref": "y"
         },
         {
          "font": {
           "color": "#000000"
          },
          "showarrow": false,
          "text": "-0.0",
          "x": "Surface Carrez du 4eme lot",
          "xref": "x",
          "y": "Type de voie",
          "yref": "y"
         },
         {
          "font": {
           "color": "#000000"
          },
          "showarrow": false,
          "text": "-0.65",
          "x": "5eme lot",
          "xref": "x",
          "y": "Type de voie",
          "yref": "y"
         },
         {
          "font": {
           "color": "#000000"
          },
          "showarrow": false,
          "text": "-0.01",
          "x": "Surface Carrez du 5eme lot",
          "xref": "x",
          "y": "Type de voie",
          "yref": "y"
         },
         {
          "font": {
           "color": "#000000"
          },
          "showarrow": false,
          "text": "-0.04",
          "x": "Nombre de lots",
          "xref": "x",
          "y": "Type de voie",
          "yref": "y"
         },
         {
          "font": {
           "color": "#000000"
          },
          "showarrow": false,
          "text": "-0.05",
          "x": "Code type local",
          "xref": "x",
          "y": "Type de voie",
          "yref": "y"
         },
         {
          "font": {
           "color": "#000000"
          },
          "showarrow": false,
          "text": "-0.01",
          "x": "Surface reelle bati",
          "xref": "x",
          "y": "Type de voie",
          "yref": "y"
         },
         {
          "font": {
           "color": "#000000"
          },
          "showarrow": false,
          "text": "-0.03",
          "x": "Nombre pieces principales",
          "xref": "x",
          "y": "Type de voie",
          "yref": "y"
         },
         {
          "font": {
           "color": "#000000"
          },
          "showarrow": false,
          "text": "-0.06",
          "x": "Nature culture",
          "xref": "x",
          "y": "Type de voie",
          "yref": "y"
         },
         {
          "font": {
           "color": "#000000"
          },
          "showarrow": false,
          "text": "0.01",
          "x": "Nature culture speciale",
          "xref": "x",
          "y": "Type de voie",
          "yref": "y"
         },
         {
          "font": {
           "color": "#000000"
          },
          "showarrow": false,
          "text": "-0.06",
          "x": "Surface terrain",
          "xref": "x",
          "y": "Type de voie",
          "yref": "y"
         },
         {
          "font": {
           "color": "#000000"
          },
          "showarrow": false,
          "text": "0.0",
          "x": "Date mutation",
          "xref": "x",
          "y": "Voie",
          "yref": "y"
         },
         {
          "font": {
           "color": "#000000"
          },
          "showarrow": false,
          "text": "0.01",
          "x": "Nature mutation",
          "xref": "x",
          "y": "Voie",
          "yref": "y"
         },
         {
          "font": {
           "color": "#000000"
          },
          "showarrow": false,
          "text": "-0.02",
          "x": "Valeur fonciere",
          "xref": "x",
          "y": "Voie",
          "yref": "y"
         },
         {
          "font": {
           "color": "#000000"
          },
          "showarrow": false,
          "text": "-0.05",
          "x": "B/T/Q",
          "xref": "x",
          "y": "Voie",
          "yref": "y"
         },
         {
          "font": {
           "color": "#000000"
          },
          "showarrow": false,
          "text": "0.03",
          "x": "Type de voie",
          "xref": "x",
          "y": "Voie",
          "yref": "y"
         },
         {
          "font": {
           "color": "#000000"
          },
          "showarrow": false,
          "text": "1.0",
          "x": "Voie",
          "xref": "x",
          "y": "Voie",
          "yref": "y"
         },
         {
          "font": {
           "color": "#000000"
          },
          "showarrow": false,
          "text": "-0.03",
          "x": "Code postal",
          "xref": "x",
          "y": "Voie",
          "yref": "y"
         },
         {
          "font": {
           "color": "#000000"
          },
          "showarrow": false,
          "text": "0.01",
          "x": "Section",
          "xref": "x",
          "y": "Voie",
          "yref": "y"
         },
         {
          "font": {
           "color": "#000000"
          },
          "showarrow": false,
          "text": "-0.02",
          "x": "No plan",
          "xref": "x",
          "y": "Voie",
          "yref": "y"
         },
         {
          "font": {
           "color": "#000000"
          },
          "showarrow": false,
          "text": "-0.02",
          "x": "1er lot",
          "xref": "x",
          "y": "Voie",
          "yref": "y"
         },
         {
          "font": {
           "color": "#000000"
          },
          "showarrow": false,
          "text": "-0.02",
          "x": "Surface Carrez du 1er lot",
          "xref": "x",
          "y": "Voie",
          "yref": "y"
         },
         {
          "font": {
           "color": "#000000"
          },
          "showarrow": false,
          "text": "-0.03",
          "x": "2eme lot",
          "xref": "x",
          "y": "Voie",
          "yref": "y"
         },
         {
          "font": {
           "color": "#000000"
          },
          "showarrow": false,
          "text": "0.01",
          "x": "Surface Carrez du 2eme lot",
          "xref": "x",
          "y": "Voie",
          "yref": "y"
         },
         {
          "font": {
           "color": "#000000"
          },
          "showarrow": false,
          "text": "-0.08",
          "x": "3eme lot",
          "xref": "x",
          "y": "Voie",
          "yref": "y"
         },
         {
          "font": {
           "color": "#000000"
          },
          "showarrow": false,
          "text": "0.01",
          "x": "Surface Carrez du 3eme lot",
          "xref": "x",
          "y": "Voie",
          "yref": "y"
         },
         {
          "font": {
           "color": "#000000"
          },
          "showarrow": false,
          "text": "-0.17",
          "x": "4eme lot",
          "xref": "x",
          "y": "Voie",
          "yref": "y"
         },
         {
          "font": {
           "color": "#000000"
          },
          "showarrow": false,
          "text": "0.01",
          "x": "Surface Carrez du 4eme lot",
          "xref": "x",
          "y": "Voie",
          "yref": "y"
         },
         {
          "font": {
           "color": "#000000"
          },
          "showarrow": false,
          "text": "-0.01",
          "x": "5eme lot",
          "xref": "x",
          "y": "Voie",
          "yref": "y"
         },
         {
          "font": {
           "color": "#000000"
          },
          "showarrow": false,
          "text": "-0.0",
          "x": "Surface Carrez du 5eme lot",
          "xref": "x",
          "y": "Voie",
          "yref": "y"
         },
         {
          "font": {
           "color": "#000000"
          },
          "showarrow": false,
          "text": "0.02",
          "x": "Nombre de lots",
          "xref": "x",
          "y": "Voie",
          "yref": "y"
         },
         {
          "font": {
           "color": "#000000"
          },
          "showarrow": false,
          "text": "0.03",
          "x": "Code type local",
          "xref": "x",
          "y": "Voie",
          "yref": "y"
         },
         {
          "font": {
           "color": "#000000"
          },
          "showarrow": false,
          "text": "-0.0",
          "x": "Surface reelle bati",
          "xref": "x",
          "y": "Voie",
          "yref": "y"
         },
         {
          "font": {
           "color": "#000000"
          },
          "showarrow": false,
          "text": "0.0",
          "x": "Nombre pieces principales",
          "xref": "x",
          "y": "Voie",
          "yref": "y"
         },
         {
          "font": {
           "color": "#000000"
          },
          "showarrow": false,
          "text": "0.04",
          "x": "Nature culture",
          "xref": "x",
          "y": "Voie",
          "yref": "y"
         },
         {
          "font": {
           "color": "#000000"
          },
          "showarrow": false,
          "text": "0.02",
          "x": "Nature culture speciale",
          "xref": "x",
          "y": "Voie",
          "yref": "y"
         },
         {
          "font": {
           "color": "#000000"
          },
          "showarrow": false,
          "text": "-0.02",
          "x": "Surface terrain",
          "xref": "x",
          "y": "Voie",
          "yref": "y"
         },
         {
          "font": {
           "color": "#000000"
          },
          "showarrow": false,
          "text": "-0.02",
          "x": "Date mutation",
          "xref": "x",
          "y": "Code postal",
          "yref": "y"
         },
         {
          "font": {
           "color": "#000000"
          },
          "showarrow": false,
          "text": "-0.01",
          "x": "Nature mutation",
          "xref": "x",
          "y": "Code postal",
          "yref": "y"
         },
         {
          "font": {
           "color": "#000000"
          },
          "showarrow": false,
          "text": "-0.1",
          "x": "Valeur fonciere",
          "xref": "x",
          "y": "Code postal",
          "yref": "y"
         },
         {
          "font": {
           "color": "#000000"
          },
          "showarrow": false,
          "text": "-0.03",
          "x": "B/T/Q",
          "xref": "x",
          "y": "Code postal",
          "yref": "y"
         },
         {
          "font": {
           "color": "#000000"
          },
          "showarrow": false,
          "text": "-0.09",
          "x": "Type de voie",
          "xref": "x",
          "y": "Code postal",
          "yref": "y"
         },
         {
          "font": {
           "color": "#000000"
          },
          "showarrow": false,
          "text": "-0.03",
          "x": "Voie",
          "xref": "x",
          "y": "Code postal",
          "yref": "y"
         },
         {
          "font": {
           "color": "#000000"
          },
          "showarrow": false,
          "text": "1.0",
          "x": "Code postal",
          "xref": "x",
          "y": "Code postal",
          "yref": "y"
         },
         {
          "font": {
           "color": "#000000"
          },
          "showarrow": false,
          "text": "-0.25",
          "x": "Section",
          "xref": "x",
          "y": "Code postal",
          "yref": "y"
         },
         {
          "font": {
           "color": "#000000"
          },
          "showarrow": false,
          "text": "0.13",
          "x": "No plan",
          "xref": "x",
          "y": "Code postal",
          "yref": "y"
         },
         {
          "font": {
           "color": "#000000"
          },
          "showarrow": false,
          "text": "0.04",
          "x": "1er lot",
          "xref": "x",
          "y": "Code postal",
          "yref": "y"
         },
         {
          "font": {
           "color": "#000000"
          },
          "showarrow": false,
          "text": "0.0",
          "x": "Surface Carrez du 1er lot",
          "xref": "x",
          "y": "Code postal",
          "yref": "y"
         },
         {
          "font": {
           "color": "#000000"
          },
          "showarrow": false,
          "text": "-0.01",
          "x": "2eme lot",
          "xref": "x",
          "y": "Code postal",
          "yref": "y"
         },
         {
          "font": {
           "color": "#000000"
          },
          "showarrow": false,
          "text": "0.04",
          "x": "Surface Carrez du 2eme lot",
          "xref": "x",
          "y": "Code postal",
          "yref": "y"
         },
         {
          "font": {
           "color": "#000000"
          },
          "showarrow": false,
          "text": "-0.03",
          "x": "3eme lot",
          "xref": "x",
          "y": "Code postal",
          "yref": "y"
         },
         {
          "font": {
           "color": "#000000"
          },
          "showarrow": false,
          "text": "0.02",
          "x": "Surface Carrez du 3eme lot",
          "xref": "x",
          "y": "Code postal",
          "yref": "y"
         },
         {
          "font": {
           "color": "#000000"
          },
          "showarrow": false,
          "text": "-0.06",
          "x": "4eme lot",
          "xref": "x",
          "y": "Code postal",
          "yref": "y"
         },
         {
          "font": {
           "color": "#000000"
          },
          "showarrow": false,
          "text": "0.01",
          "x": "Surface Carrez du 4eme lot",
          "xref": "x",
          "y": "Code postal",
          "yref": "y"
         },
         {
          "font": {
           "color": "#000000"
          },
          "showarrow": false,
          "text": "0.02",
          "x": "5eme lot",
          "xref": "x",
          "y": "Code postal",
          "yref": "y"
         },
         {
          "font": {
           "color": "#000000"
          },
          "showarrow": false,
          "text": "0.01",
          "x": "Surface Carrez du 5eme lot",
          "xref": "x",
          "y": "Code postal",
          "yref": "y"
         },
         {
          "font": {
           "color": "#000000"
          },
          "showarrow": false,
          "text": "-0.09",
          "x": "Nombre de lots",
          "xref": "x",
          "y": "Code postal",
          "yref": "y"
         },
         {
          "font": {
           "color": "#000000"
          },
          "showarrow": false,
          "text": "-0.03",
          "x": "Code type local",
          "xref": "x",
          "y": "Code postal",
          "yref": "y"
         },
         {
          "font": {
           "color": "#000000"
          },
          "showarrow": false,
          "text": "-0.08",
          "x": "Surface reelle bati",
          "xref": "x",
          "y": "Code postal",
          "yref": "y"
         },
         {
          "font": {
           "color": "#000000"
          },
          "showarrow": false,
          "text": "-0.04",
          "x": "Nombre pieces principales",
          "xref": "x",
          "y": "Code postal",
          "yref": "y"
         },
         {
          "font": {
           "color": "#000000"
          },
          "showarrow": false,
          "text": "-0.06",
          "x": "Nature culture",
          "xref": "x",
          "y": "Code postal",
          "yref": "y"
         },
         {
          "font": {
           "color": "#000000"
          },
          "showarrow": false,
          "text": "-0.01",
          "x": "Nature culture speciale",
          "xref": "x",
          "y": "Code postal",
          "yref": "y"
         },
         {
          "font": {
           "color": "#000000"
          },
          "showarrow": false,
          "text": "-0.04",
          "x": "Surface terrain",
          "xref": "x",
          "y": "Code postal",
          "yref": "y"
         },
         {
          "font": {
           "color": "#000000"
          },
          "showarrow": false,
          "text": "-0.01",
          "x": "Date mutation",
          "xref": "x",
          "y": "Section",
          "yref": "y"
         },
         {
          "font": {
           "color": "#000000"
          },
          "showarrow": false,
          "text": "0.01",
          "x": "Nature mutation",
          "xref": "x",
          "y": "Section",
          "yref": "y"
         },
         {
          "font": {
           "color": "#000000"
          },
          "showarrow": false,
          "text": "0.02",
          "x": "Valeur fonciere",
          "xref": "x",
          "y": "Section",
          "yref": "y"
         },
         {
          "font": {
           "color": "#000000"
          },
          "showarrow": false,
          "text": "-0.03",
          "x": "B/T/Q",
          "xref": "x",
          "y": "Section",
          "yref": "y"
         },
         {
          "font": {
           "color": "#000000"
          },
          "showarrow": false,
          "text": "-0.1",
          "x": "Type de voie",
          "xref": "x",
          "y": "Section",
          "yref": "y"
         },
         {
          "font": {
           "color": "#000000"
          },
          "showarrow": false,
          "text": "0.01",
          "x": "Voie",
          "xref": "x",
          "y": "Section",
          "yref": "y"
         },
         {
          "font": {
           "color": "#000000"
          },
          "showarrow": false,
          "text": "-0.25",
          "x": "Code postal",
          "xref": "x",
          "y": "Section",
          "yref": "y"
         },
         {
          "font": {
           "color": "#000000"
          },
          "showarrow": false,
          "text": "1.0",
          "x": "Section",
          "xref": "x",
          "y": "Section",
          "yref": "y"
         },
         {
          "font": {
           "color": "#000000"
          },
          "showarrow": false,
          "text": "-0.21",
          "x": "No plan",
          "xref": "x",
          "y": "Section",
          "yref": "y"
         },
         {
          "font": {
           "color": "#000000"
          },
          "showarrow": false,
          "text": "-0.04",
          "x": "1er lot",
          "xref": "x",
          "y": "Section",
          "yref": "y"
         },
         {
          "font": {
           "color": "#000000"
          },
          "showarrow": false,
          "text": "0.06",
          "x": "Surface Carrez du 1er lot",
          "xref": "x",
          "y": "Section",
          "yref": "y"
         },
         {
          "font": {
           "color": "#000000"
          },
          "showarrow": false,
          "text": "0.19",
          "x": "2eme lot",
          "xref": "x",
          "y": "Section",
          "yref": "y"
         },
         {
          "font": {
           "color": "#000000"
          },
          "showarrow": false,
          "text": "-0.01",
          "x": "Surface Carrez du 2eme lot",
          "xref": "x",
          "y": "Section",
          "yref": "y"
         },
         {
          "font": {
           "color": "#000000"
          },
          "showarrow": false,
          "text": "0.04",
          "x": "3eme lot",
          "xref": "x",
          "y": "Section",
          "yref": "y"
         },
         {
          "font": {
           "color": "#000000"
          },
          "showarrow": false,
          "text": "0.01",
          "x": "Surface Carrez du 3eme lot",
          "xref": "x",
          "y": "Section",
          "yref": "y"
         },
         {
          "font": {
           "color": "#000000"
          },
          "showarrow": false,
          "text": "0.06",
          "x": "4eme lot",
          "xref": "x",
          "y": "Section",
          "yref": "y"
         },
         {
          "font": {
           "color": "#000000"
          },
          "showarrow": false,
          "text": "0.01",
          "x": "Surface Carrez du 4eme lot",
          "xref": "x",
          "y": "Section",
          "yref": "y"
         },
         {
          "font": {
           "color": "#000000"
          },
          "showarrow": false,
          "text": "0.18",
          "x": "5eme lot",
          "xref": "x",
          "y": "Section",
          "yref": "y"
         },
         {
          "font": {
           "color": "#000000"
          },
          "showarrow": false,
          "text": "0.01",
          "x": "Surface Carrez du 5eme lot",
          "xref": "x",
          "y": "Section",
          "yref": "y"
         },
         {
          "font": {
           "color": "#000000"
          },
          "showarrow": false,
          "text": "0.07",
          "x": "Nombre de lots",
          "xref": "x",
          "y": "Section",
          "yref": "y"
         },
         {
          "font": {
           "color": "#000000"
          },
          "showarrow": false,
          "text": "-0.02",
          "x": "Code type local",
          "xref": "x",
          "y": "Section",
          "yref": "y"
         },
         {
          "font": {
           "color": "#000000"
          },
          "showarrow": false,
          "text": "0.16",
          "x": "Surface reelle bati",
          "xref": "x",
          "y": "Section",
          "yref": "y"
         },
         {
          "font": {
           "color": "#000000"
          },
          "showarrow": false,
          "text": "0.18",
          "x": "Nombre pieces principales",
          "xref": "x",
          "y": "Section",
          "yref": "y"
         },
         {
          "font": {
           "color": "#000000"
          },
          "showarrow": false,
          "text": "0.07",
          "x": "Nature culture",
          "xref": "x",
          "y": "Section",
          "yref": "y"
         },
         {
          "font": {
           "color": "#000000"
          },
          "showarrow": false,
          "text": "0.02",
          "x": "Nature culture speciale",
          "xref": "x",
          "y": "Section",
          "yref": "y"
         },
         {
          "font": {
           "color": "#000000"
          },
          "showarrow": false,
          "text": "0.08",
          "x": "Surface terrain",
          "xref": "x",
          "y": "Section",
          "yref": "y"
         },
         {
          "font": {
           "color": "#000000"
          },
          "showarrow": false,
          "text": "0.01",
          "x": "Date mutation",
          "xref": "x",
          "y": "No plan",
          "yref": "y"
         },
         {
          "font": {
           "color": "#000000"
          },
          "showarrow": false,
          "text": "0.0",
          "x": "Nature mutation",
          "xref": "x",
          "y": "No plan",
          "yref": "y"
         },
         {
          "font": {
           "color": "#000000"
          },
          "showarrow": false,
          "text": "-0.04",
          "x": "Valeur fonciere",
          "xref": "x",
          "y": "No plan",
          "yref": "y"
         },
         {
          "font": {
           "color": "#000000"
          },
          "showarrow": false,
          "text": "0.0",
          "x": "B/T/Q",
          "xref": "x",
          "y": "No plan",
          "yref": "y"
         },
         {
          "font": {
           "color": "#000000"
          },
          "showarrow": false,
          "text": "0.06",
          "x": "Type de voie",
          "xref": "x",
          "y": "No plan",
          "yref": "y"
         },
         {
          "font": {
           "color": "#000000"
          },
          "showarrow": false,
          "text": "-0.02",
          "x": "Voie",
          "xref": "x",
          "y": "No plan",
          "yref": "y"
         },
         {
          "font": {
           "color": "#000000"
          },
          "showarrow": false,
          "text": "0.13",
          "x": "Code postal",
          "xref": "x",
          "y": "No plan",
          "yref": "y"
         },
         {
          "font": {
           "color": "#000000"
          },
          "showarrow": false,
          "text": "-0.21",
          "x": "Section",
          "xref": "x",
          "y": "No plan",
          "yref": "y"
         },
         {
          "font": {
           "color": "#000000"
          },
          "showarrow": false,
          "text": "1.0",
          "x": "No plan",
          "xref": "x",
          "y": "No plan",
          "yref": "y"
         },
         {
          "font": {
           "color": "#000000"
          },
          "showarrow": false,
          "text": "-0.0",
          "x": "1er lot",
          "xref": "x",
          "y": "No plan",
          "yref": "y"
         },
         {
          "font": {
           "color": "#000000"
          },
          "showarrow": false,
          "text": "-0.05",
          "x": "Surface Carrez du 1er lot",
          "xref": "x",
          "y": "No plan",
          "yref": "y"
         },
         {
          "font": {
           "color": "#000000"
          },
          "showarrow": false,
          "text": "-0.09",
          "x": "2eme lot",
          "xref": "x",
          "y": "No plan",
          "yref": "y"
         },
         {
          "font": {
           "color": "#000000"
          },
          "showarrow": false,
          "text": "0.03",
          "x": "Surface Carrez du 2eme lot",
          "xref": "x",
          "y": "No plan",
          "yref": "y"
         },
         {
          "font": {
           "color": "#000000"
          },
          "showarrow": false,
          "text": "0.07",
          "x": "3eme lot",
          "xref": "x",
          "y": "No plan",
          "yref": "y"
         },
         {
          "font": {
           "color": "#000000"
          },
          "showarrow": false,
          "text": "0.01",
          "x": "Surface Carrez du 3eme lot",
          "xref": "x",
          "y": "No plan",
          "yref": "y"
         },
         {
          "font": {
           "color": "#000000"
          },
          "showarrow": false,
          "text": "0.14",
          "x": "4eme lot",
          "xref": "x",
          "y": "No plan",
          "yref": "y"
         },
         {
          "font": {
           "color": "#000000"
          },
          "showarrow": false,
          "text": "0.01",
          "x": "Surface Carrez du 4eme lot",
          "xref": "x",
          "y": "No plan",
          "yref": "y"
         },
         {
          "font": {
           "color": "#000000"
          },
          "showarrow": false,
          "text": "-0.1",
          "x": "5eme lot",
          "xref": "x",
          "y": "No plan",
          "yref": "y"
         },
         {
          "font": {
           "color": "#000000"
          },
          "showarrow": false,
          "text": "0.01",
          "x": "Surface Carrez du 5eme lot",
          "xref": "x",
          "y": "No plan",
          "yref": "y"
         },
         {
          "font": {
           "color": "#000000"
          },
          "showarrow": false,
          "text": "-0.05",
          "x": "Nombre de lots",
          "xref": "x",
          "y": "No plan",
          "yref": "y"
         },
         {
          "font": {
           "color": "#000000"
          },
          "showarrow": false,
          "text": "0.03",
          "x": "Code type local",
          "xref": "x",
          "y": "No plan",
          "yref": "y"
         },
         {
          "font": {
           "color": "#000000"
          },
          "showarrow": false,
          "text": "-0.1",
          "x": "Surface reelle bati",
          "xref": "x",
          "y": "No plan",
          "yref": "y"
         },
         {
          "font": {
           "color": "#000000"
          },
          "showarrow": false,
          "text": "-0.12",
          "x": "Nombre pieces principales",
          "xref": "x",
          "y": "No plan",
          "yref": "y"
         },
         {
          "font": {
           "color": "#000000"
          },
          "showarrow": false,
          "text": "0.01",
          "x": "Nature culture",
          "xref": "x",
          "y": "No plan",
          "yref": "y"
         },
         {
          "font": {
           "color": "#000000"
          },
          "showarrow": false,
          "text": "0.01",
          "x": "Nature culture speciale",
          "xref": "x",
          "y": "No plan",
          "yref": "y"
         },
         {
          "font": {
           "color": "#000000"
          },
          "showarrow": false,
          "text": "-0.11",
          "x": "Surface terrain",
          "xref": "x",
          "y": "No plan",
          "yref": "y"
         },
         {
          "font": {
           "color": "#000000"
          },
          "showarrow": false,
          "text": "-0.0",
          "x": "Date mutation",
          "xref": "x",
          "y": "1er lot",
          "yref": "y"
         },
         {
          "font": {
           "color": "#000000"
          },
          "showarrow": false,
          "text": "-0.01",
          "x": "Nature mutation",
          "xref": "x",
          "y": "1er lot",
          "yref": "y"
         },
         {
          "font": {
           "color": "#000000"
          },
          "showarrow": false,
          "text": "0.38",
          "x": "Valeur fonciere",
          "xref": "x",
          "y": "1er lot",
          "yref": "y"
         },
         {
          "font": {
           "color": "#000000"
          },
          "showarrow": false,
          "text": "-0.04",
          "x": "B/T/Q",
          "xref": "x",
          "y": "1er lot",
          "yref": "y"
         },
         {
          "font": {
           "color": "#000000"
          },
          "showarrow": false,
          "text": "0.04",
          "x": "Type de voie",
          "xref": "x",
          "y": "1er lot",
          "yref": "y"
         },
         {
          "font": {
           "color": "#000000"
          },
          "showarrow": false,
          "text": "-0.02",
          "x": "Voie",
          "xref": "x",
          "y": "1er lot",
          "yref": "y"
         },
         {
          "font": {
           "color": "#000000"
          },
          "showarrow": false,
          "text": "0.04",
          "x": "Code postal",
          "xref": "x",
          "y": "1er lot",
          "yref": "y"
         },
         {
          "font": {
           "color": "#000000"
          },
          "showarrow": false,
          "text": "-0.04",
          "x": "Section",
          "xref": "x",
          "y": "1er lot",
          "yref": "y"
         },
         {
          "font": {
           "color": "#000000"
          },
          "showarrow": false,
          "text": "-0.0",
          "x": "No plan",
          "xref": "x",
          "y": "1er lot",
          "yref": "y"
         },
         {
          "font": {
           "color": "#000000"
          },
          "showarrow": false,
          "text": "1.0",
          "x": "1er lot",
          "xref": "x",
          "y": "1er lot",
          "yref": "y"
         },
         {
          "font": {
           "color": "#000000"
          },
          "showarrow": false,
          "text": "0.23",
          "x": "Surface Carrez du 1er lot",
          "xref": "x",
          "y": "1er lot",
          "yref": "y"
         },
         {
          "font": {
           "color": "#000000"
          },
          "showarrow": false,
          "text": "0.17",
          "x": "2eme lot",
          "xref": "x",
          "y": "1er lot",
          "yref": "y"
         },
         {
          "font": {
           "color": "#000000"
          },
          "showarrow": false,
          "text": "0.13",
          "x": "Surface Carrez du 2eme lot",
          "xref": "x",
          "y": "1er lot",
          "yref": "y"
         },
         {
          "font": {
           "color": "#000000"
          },
          "showarrow": false,
          "text": "0.13",
          "x": "3eme lot",
          "xref": "x",
          "y": "1er lot",
          "yref": "y"
         },
         {
          "font": {
           "color": "#000000"
          },
          "showarrow": false,
          "text": "0.04",
          "x": "Surface Carrez du 3eme lot",
          "xref": "x",
          "y": "1er lot",
          "yref": "y"
         },
         {
          "font": {
           "color": "#000000"
          },
          "showarrow": false,
          "text": "0.25",
          "x": "4eme lot",
          "xref": "x",
          "y": "1er lot",
          "yref": "y"
         },
         {
          "font": {
           "color": "#000000"
          },
          "showarrow": false,
          "text": "0.03",
          "x": "Surface Carrez du 4eme lot",
          "xref": "x",
          "y": "1er lot",
          "yref": "y"
         },
         {
          "font": {
           "color": "#000000"
          },
          "showarrow": false,
          "text": "0.54",
          "x": "5eme lot",
          "xref": "x",
          "y": "1er lot",
          "yref": "y"
         },
         {
          "font": {
           "color": "#000000"
          },
          "showarrow": false,
          "text": "0.03",
          "x": "Surface Carrez du 5eme lot",
          "xref": "x",
          "y": "1er lot",
          "yref": "y"
         },
         {
          "font": {
           "color": "#000000"
          },
          "showarrow": false,
          "text": "-0.62",
          "x": "Nombre de lots",
          "xref": "x",
          "y": "1er lot",
          "yref": "y"
         },
         {
          "font": {
           "color": "#000000"
          },
          "showarrow": false,
          "text": "-0.53",
          "x": "Code type local",
          "xref": "x",
          "y": "1er lot",
          "yref": "y"
         },
         {
          "font": {
           "color": "#000000"
          },
          "showarrow": false,
          "text": "0.21",
          "x": "Surface reelle bati",
          "xref": "x",
          "y": "1er lot",
          "yref": "y"
         },
         {
          "font": {
           "color": "#000000"
          },
          "showarrow": false,
          "text": "0.21",
          "x": "Nombre pieces principales",
          "xref": "x",
          "y": "1er lot",
          "yref": "y"
         },
         {
          "font": {
           "color": "#000000"
          },
          "showarrow": false,
          "text": "-0.67",
          "x": "Nature culture",
          "xref": "x",
          "y": "1er lot",
          "yref": "y"
         },
         {
          "font": {
           "color": "#000000"
          },
          "showarrow": false,
          "text": "-0.03",
          "x": "Nature culture speciale",
          "xref": "x",
          "y": "1er lot",
          "yref": "y"
         },
         {
          "font": {
           "color": "#000000"
          },
          "showarrow": false,
          "text": "0.01",
          "x": "Surface terrain",
          "xref": "x",
          "y": "1er lot",
          "yref": "y"
         },
         {
          "font": {
           "color": "#000000"
          },
          "showarrow": false,
          "text": "0.08",
          "x": "Date mutation",
          "xref": "x",
          "y": "Surface Carrez du 1er lot",
          "yref": "y"
         },
         {
          "font": {
           "color": "#000000"
          },
          "showarrow": false,
          "text": "-0.02",
          "x": "Nature mutation",
          "xref": "x",
          "y": "Surface Carrez du 1er lot",
          "yref": "y"
         },
         {
          "font": {
           "color": "#000000"
          },
          "showarrow": false,
          "text": "0.26",
          "x": "Valeur fonciere",
          "xref": "x",
          "y": "Surface Carrez du 1er lot",
          "yref": "y"
         },
         {
          "font": {
           "color": "#000000"
          },
          "showarrow": false,
          "text": "-0.0",
          "x": "B/T/Q",
          "xref": "x",
          "y": "Surface Carrez du 1er lot",
          "yref": "y"
         },
         {
          "font": {
           "color": "#000000"
          },
          "showarrow": false,
          "text": "0.02",
          "x": "Type de voie",
          "xref": "x",
          "y": "Surface Carrez du 1er lot",
          "yref": "y"
         },
         {
          "font": {
           "color": "#000000"
          },
          "showarrow": false,
          "text": "-0.02",
          "x": "Voie",
          "xref": "x",
          "y": "Surface Carrez du 1er lot",
          "yref": "y"
         },
         {
          "font": {
           "color": "#000000"
          },
          "showarrow": false,
          "text": "0.0",
          "x": "Code postal",
          "xref": "x",
          "y": "Surface Carrez du 1er lot",
          "yref": "y"
         },
         {
          "font": {
           "color": "#000000"
          },
          "showarrow": false,
          "text": "0.06",
          "x": "Section",
          "xref": "x",
          "y": "Surface Carrez du 1er lot",
          "yref": "y"
         },
         {
          "font": {
           "color": "#000000"
          },
          "showarrow": false,
          "text": "-0.05",
          "x": "No plan",
          "xref": "x",
          "y": "Surface Carrez du 1er lot",
          "yref": "y"
         },
         {
          "font": {
           "color": "#000000"
          },
          "showarrow": false,
          "text": "0.23",
          "x": "1er lot",
          "xref": "x",
          "y": "Surface Carrez du 1er lot",
          "yref": "y"
         },
         {
          "font": {
           "color": "#000000"
          },
          "showarrow": false,
          "text": "1.0",
          "x": "Surface Carrez du 1er lot",
          "xref": "x",
          "y": "Surface Carrez du 1er lot",
          "yref": "y"
         },
         {
          "font": {
           "color": "#000000"
          },
          "showarrow": false,
          "text": "-0.0",
          "x": "2eme lot",
          "xref": "x",
          "y": "Surface Carrez du 1er lot",
          "yref": "y"
         },
         {
          "font": {
           "color": "#000000"
          },
          "showarrow": false,
          "text": "-0.05",
          "x": "Surface Carrez du 2eme lot",
          "xref": "x",
          "y": "Surface Carrez du 1er lot",
          "yref": "y"
         },
         {
          "font": {
           "color": "#000000"
          },
          "showarrow": false,
          "text": "0.03",
          "x": "3eme lot",
          "xref": "x",
          "y": "Surface Carrez du 1er lot",
          "yref": "y"
         },
         {
          "font": {
           "color": "#000000"
          },
          "showarrow": false,
          "text": "0.0",
          "x": "Surface Carrez du 3eme lot",
          "xref": "x",
          "y": "Surface Carrez du 1er lot",
          "yref": "y"
         },
         {
          "font": {
           "color": "#000000"
          },
          "showarrow": false,
          "text": "0.06",
          "x": "4eme lot",
          "xref": "x",
          "y": "Surface Carrez du 1er lot",
          "yref": "y"
         },
         {
          "font": {
           "color": "#000000"
          },
          "showarrow": false,
          "text": "0.02",
          "x": "Surface Carrez du 4eme lot",
          "xref": "x",
          "y": "Surface Carrez du 1er lot",
          "yref": "y"
         },
         {
          "font": {
           "color": "#000000"
          },
          "showarrow": false,
          "text": "0.14",
          "x": "5eme lot",
          "xref": "x",
          "y": "Surface Carrez du 1er lot",
          "yref": "y"
         },
         {
          "font": {
           "color": "#000000"
          },
          "showarrow": false,
          "text": "0.02",
          "x": "Surface Carrez du 5eme lot",
          "xref": "x",
          "y": "Surface Carrez du 1er lot",
          "yref": "y"
         },
         {
          "font": {
           "color": "#000000"
          },
          "showarrow": false,
          "text": "-0.21",
          "x": "Nombre de lots",
          "xref": "x",
          "y": "Surface Carrez du 1er lot",
          "yref": "y"
         },
         {
          "font": {
           "color": "#000000"
          },
          "showarrow": false,
          "text": "-0.28",
          "x": "Code type local",
          "xref": "x",
          "y": "Surface Carrez du 1er lot",
          "yref": "y"
         },
         {
          "font": {
           "color": "#000000"
          },
          "showarrow": false,
          "text": "0.23",
          "x": "Surface reelle bati",
          "xref": "x",
          "y": "Surface Carrez du 1er lot",
          "yref": "y"
         },
         {
          "font": {
           "color": "#000000"
          },
          "showarrow": false,
          "text": "0.27",
          "x": "Nombre pieces principales",
          "xref": "x",
          "y": "Surface Carrez du 1er lot",
          "yref": "y"
         },
         {
          "font": {
           "color": "#000000"
          },
          "showarrow": false,
          "text": "-0.35",
          "x": "Nature culture",
          "xref": "x",
          "y": "Surface Carrez du 1er lot",
          "yref": "y"
         },
         {
          "font": {
           "color": "#000000"
          },
          "showarrow": false,
          "text": "-0.01",
          "x": "Nature culture speciale",
          "xref": "x",
          "y": "Surface Carrez du 1er lot",
          "yref": "y"
         },
         {
          "font": {
           "color": "#000000"
          },
          "showarrow": false,
          "text": "-0.0",
          "x": "Surface terrain",
          "xref": "x",
          "y": "Surface Carrez du 1er lot",
          "yref": "y"
         },
         {
          "font": {
           "color": "#000000"
          },
          "showarrow": false,
          "text": "0.07",
          "x": "Date mutation",
          "xref": "x",
          "y": "2eme lot",
          "yref": "y"
         },
         {
          "font": {
           "color": "#000000"
          },
          "showarrow": false,
          "text": "0.02",
          "x": "Nature mutation",
          "xref": "x",
          "y": "2eme lot",
          "yref": "y"
         },
         {
          "font": {
           "color": "#000000"
          },
          "showarrow": false,
          "text": "-0.1",
          "x": "Valeur fonciere",
          "xref": "x",
          "y": "2eme lot",
          "yref": "y"
         },
         {
          "font": {
           "color": "#000000"
          },
          "showarrow": false,
          "text": "0.04",
          "x": "B/T/Q",
          "xref": "x",
          "y": "2eme lot",
          "yref": "y"
         },
         {
          "font": {
           "color": "#000000"
          },
          "showarrow": false,
          "text": "0.07",
          "x": "Type de voie",
          "xref": "x",
          "y": "2eme lot",
          "yref": "y"
         },
         {
          "font": {
           "color": "#000000"
          },
          "showarrow": false,
          "text": "-0.03",
          "x": "Voie",
          "xref": "x",
          "y": "2eme lot",
          "yref": "y"
         },
         {
          "font": {
           "color": "#000000"
          },
          "showarrow": false,
          "text": "-0.01",
          "x": "Code postal",
          "xref": "x",
          "y": "2eme lot",
          "yref": "y"
         },
         {
          "font": {
           "color": "#000000"
          },
          "showarrow": false,
          "text": "0.19",
          "x": "Section",
          "xref": "x",
          "y": "2eme lot",
          "yref": "y"
         },
         {
          "font": {
           "color": "#000000"
          },
          "showarrow": false,
          "text": "-0.09",
          "x": "No plan",
          "xref": "x",
          "y": "2eme lot",
          "yref": "y"
         },
         {
          "font": {
           "color": "#000000"
          },
          "showarrow": false,
          "text": "0.17",
          "x": "1er lot",
          "xref": "x",
          "y": "2eme lot",
          "yref": "y"
         },
         {
          "font": {
           "color": "#000000"
          },
          "showarrow": false,
          "text": "-0.0",
          "x": "Surface Carrez du 1er lot",
          "xref": "x",
          "y": "2eme lot",
          "yref": "y"
         },
         {
          "font": {
           "color": "#000000"
          },
          "showarrow": false,
          "text": "1.0",
          "x": "2eme lot",
          "xref": "x",
          "y": "2eme lot",
          "yref": "y"
         },
         {
          "font": {
           "color": "#000000"
          },
          "showarrow": false,
          "text": "0.0",
          "x": "Surface Carrez du 2eme lot",
          "xref": "x",
          "y": "2eme lot",
          "yref": "y"
         },
         {
          "font": {
           "color": "#000000"
          },
          "showarrow": false,
          "text": "1.0",
          "x": "3eme lot",
          "xref": "x",
          "y": "2eme lot",
          "yref": "y"
         },
         {
          "font": {
           "color": "#000000"
          },
          "showarrow": false,
          "text": "0.04",
          "x": "Surface Carrez du 3eme lot",
          "xref": "x",
          "y": "2eme lot",
          "yref": "y"
         },
         {
          "font": {
           "color": "#000000"
          },
          "showarrow": false,
          "text": "1.0",
          "x": "4eme lot",
          "xref": "x",
          "y": "2eme lot",
          "yref": "y"
         },
         {
          "font": {
           "color": "#000000"
          },
          "showarrow": false,
          "text": "0.02",
          "x": "Surface Carrez du 4eme lot",
          "xref": "x",
          "y": "2eme lot",
          "yref": "y"
         },
         {
          "font": {
           "color": "#000000"
          },
          "showarrow": false,
          "text": "0.77",
          "x": "5eme lot",
          "xref": "x",
          "y": "2eme lot",
          "yref": "y"
         },
         {
          "font": {
           "color": "#000000"
          },
          "showarrow": false,
          "text": "0.02",
          "x": "Surface Carrez du 5eme lot",
          "xref": "x",
          "y": "2eme lot",
          "yref": "y"
         },
         {
          "font": {
           "color": "#000000"
          },
          "showarrow": false,
          "text": "-0.06",
          "x": "Nombre de lots",
          "xref": "x",
          "y": "2eme lot",
          "yref": "y"
         },
         {
          "font": {
           "color": "#000000"
          },
          "showarrow": false,
          "text": "0.05",
          "x": "Code type local",
          "xref": "x",
          "y": "2eme lot",
          "yref": "y"
         },
         {
          "font": {
           "color": "#000000"
          },
          "showarrow": false,
          "text": "0.0",
          "x": "Surface reelle bati",
          "xref": "x",
          "y": "2eme lot",
          "yref": "y"
         },
         {
          "font": {
           "color": "#000000"
          },
          "showarrow": false,
          "text": "0.05",
          "x": "Nombre pieces principales",
          "xref": "x",
          "y": "2eme lot",
          "yref": "y"
         },
         {
          "font": {
           "color": "#000000"
          },
          "showarrow": false,
          "text": "nan",
          "x": "Nature culture",
          "xref": "x",
          "y": "2eme lot",
          "yref": "y"
         },
         {
          "font": {
           "color": "#000000"
          },
          "showarrow": false,
          "text": "nan",
          "x": "Nature culture speciale",
          "xref": "x",
          "y": "2eme lot",
          "yref": "y"
         },
         {
          "font": {
           "color": "#000000"
          },
          "showarrow": false,
          "text": "nan",
          "x": "Surface terrain",
          "xref": "x",
          "y": "2eme lot",
          "yref": "y"
         },
         {
          "font": {
           "color": "#000000"
          },
          "showarrow": false,
          "text": "0.03",
          "x": "Date mutation",
          "xref": "x",
          "y": "Surface Carrez du 2eme lot",
          "yref": "y"
         },
         {
          "font": {
           "color": "#000000"
          },
          "showarrow": false,
          "text": "-0.0",
          "x": "Nature mutation",
          "xref": "x",
          "y": "Surface Carrez du 2eme lot",
          "yref": "y"
         },
         {
          "font": {
           "color": "#000000"
          },
          "showarrow": false,
          "text": "0.05",
          "x": "Valeur fonciere",
          "xref": "x",
          "y": "Surface Carrez du 2eme lot",
          "yref": "y"
         },
         {
          "font": {
           "color": "#000000"
          },
          "showarrow": false,
          "text": "-0.02",
          "x": "B/T/Q",
          "xref": "x",
          "y": "Surface Carrez du 2eme lot",
          "yref": "y"
         },
         {
          "font": {
           "color": "#000000"
          },
          "showarrow": false,
          "text": "-0.01",
          "x": "Type de voie",
          "xref": "x",
          "y": "Surface Carrez du 2eme lot",
          "yref": "y"
         },
         {
          "font": {
           "color": "#000000"
          },
          "showarrow": false,
          "text": "0.01",
          "x": "Voie",
          "xref": "x",
          "y": "Surface Carrez du 2eme lot",
          "yref": "y"
         },
         {
          "font": {
           "color": "#000000"
          },
          "showarrow": false,
          "text": "0.04",
          "x": "Code postal",
          "xref": "x",
          "y": "Surface Carrez du 2eme lot",
          "yref": "y"
         },
         {
          "font": {
           "color": "#000000"
          },
          "showarrow": false,
          "text": "-0.01",
          "x": "Section",
          "xref": "x",
          "y": "Surface Carrez du 2eme lot",
          "yref": "y"
         },
         {
          "font": {
           "color": "#000000"
          },
          "showarrow": false,
          "text": "0.03",
          "x": "No plan",
          "xref": "x",
          "y": "Surface Carrez du 2eme lot",
          "yref": "y"
         },
         {
          "font": {
           "color": "#000000"
          },
          "showarrow": false,
          "text": "0.13",
          "x": "1er lot",
          "xref": "x",
          "y": "Surface Carrez du 2eme lot",
          "yref": "y"
         },
         {
          "font": {
           "color": "#000000"
          },
          "showarrow": false,
          "text": "-0.05",
          "x": "Surface Carrez du 1er lot",
          "xref": "x",
          "y": "Surface Carrez du 2eme lot",
          "yref": "y"
         },
         {
          "font": {
           "color": "#000000"
          },
          "showarrow": false,
          "text": "0.0",
          "x": "2eme lot",
          "xref": "x",
          "y": "Surface Carrez du 2eme lot",
          "yref": "y"
         },
         {
          "font": {
           "color": "#000000"
          },
          "showarrow": false,
          "text": "1.0",
          "x": "Surface Carrez du 2eme lot",
          "xref": "x",
          "y": "Surface Carrez du 2eme lot",
          "yref": "y"
         },
         {
          "font": {
           "color": "#000000"
          },
          "showarrow": false,
          "text": "-0.24",
          "x": "3eme lot",
          "xref": "x",
          "y": "Surface Carrez du 2eme lot",
          "yref": "y"
         },
         {
          "font": {
           "color": "#000000"
          },
          "showarrow": false,
          "text": "0.09",
          "x": "Surface Carrez du 3eme lot",
          "xref": "x",
          "y": "Surface Carrez du 2eme lot",
          "yref": "y"
         },
         {
          "font": {
           "color": "#000000"
          },
          "showarrow": false,
          "text": "-0.33",
          "x": "4eme lot",
          "xref": "x",
          "y": "Surface Carrez du 2eme lot",
          "yref": "y"
         },
         {
          "font": {
           "color": "#000000"
          },
          "showarrow": false,
          "text": "0.12",
          "x": "Surface Carrez du 4eme lot",
          "xref": "x",
          "y": "Surface Carrez du 2eme lot",
          "yref": "y"
         },
         {
          "font": {
           "color": "#000000"
          },
          "showarrow": false,
          "text": "0.04",
          "x": "5eme lot",
          "xref": "x",
          "y": "Surface Carrez du 2eme lot",
          "yref": "y"
         },
         {
          "font": {
           "color": "#000000"
          },
          "showarrow": false,
          "text": "0.08",
          "x": "Surface Carrez du 5eme lot",
          "xref": "x",
          "y": "Surface Carrez du 2eme lot",
          "yref": "y"
         },
         {
          "font": {
           "color": "#000000"
          },
          "showarrow": false,
          "text": "-0.29",
          "x": "Nombre de lots",
          "xref": "x",
          "y": "Surface Carrez du 2eme lot",
          "yref": "y"
         },
         {
          "font": {
           "color": "#000000"
          },
          "showarrow": false,
          "text": "-0.08",
          "x": "Code type local",
          "xref": "x",
          "y": "Surface Carrez du 2eme lot",
          "yref": "y"
         },
         {
          "font": {
           "color": "#000000"
          },
          "showarrow": false,
          "text": "0.02",
          "x": "Surface reelle bati",
          "xref": "x",
          "y": "Surface Carrez du 2eme lot",
          "yref": "y"
         },
         {
          "font": {
           "color": "#000000"
          },
          "showarrow": false,
          "text": "0.02",
          "x": "Nombre pieces principales",
          "xref": "x",
          "y": "Surface Carrez du 2eme lot",
          "yref": "y"
         },
         {
          "font": {
           "color": "#000000"
          },
          "showarrow": false,
          "text": "-0.1",
          "x": "Nature culture",
          "xref": "x",
          "y": "Surface Carrez du 2eme lot",
          "yref": "y"
         },
         {
          "font": {
           "color": "#000000"
          },
          "showarrow": false,
          "text": "-0.0",
          "x": "Nature culture speciale",
          "xref": "x",
          "y": "Surface Carrez du 2eme lot",
          "yref": "y"
         },
         {
          "font": {
           "color": "#000000"
          },
          "showarrow": false,
          "text": "nan",
          "x": "Surface terrain",
          "xref": "x",
          "y": "Surface Carrez du 2eme lot",
          "yref": "y"
         },
         {
          "font": {
           "color": "#000000"
          },
          "showarrow": false,
          "text": "0.05",
          "x": "Date mutation",
          "xref": "x",
          "y": "3eme lot",
          "yref": "y"
         },
         {
          "font": {
           "color": "#000000"
          },
          "showarrow": false,
          "text": "-0.02",
          "x": "Nature mutation",
          "xref": "x",
          "y": "3eme lot",
          "yref": "y"
         },
         {
          "font": {
           "color": "#000000"
          },
          "showarrow": false,
          "text": "-0.0",
          "x": "Valeur fonciere",
          "xref": "x",
          "y": "3eme lot",
          "yref": "y"
         },
         {
          "font": {
           "color": "#000000"
          },
          "showarrow": false,
          "text": "0.01",
          "x": "B/T/Q",
          "xref": "x",
          "y": "3eme lot",
          "yref": "y"
         },
         {
          "font": {
           "color": "#000000"
          },
          "showarrow": false,
          "text": "0.03",
          "x": "Type de voie",
          "xref": "x",
          "y": "3eme lot",
          "yref": "y"
         },
         {
          "font": {
           "color": "#000000"
          },
          "showarrow": false,
          "text": "-0.08",
          "x": "Voie",
          "xref": "x",
          "y": "3eme lot",
          "yref": "y"
         },
         {
          "font": {
           "color": "#000000"
          },
          "showarrow": false,
          "text": "-0.03",
          "x": "Code postal",
          "xref": "x",
          "y": "3eme lot",
          "yref": "y"
         },
         {
          "font": {
           "color": "#000000"
          },
          "showarrow": false,
          "text": "0.04",
          "x": "Section",
          "xref": "x",
          "y": "3eme lot",
          "yref": "y"
         },
         {
          "font": {
           "color": "#000000"
          },
          "showarrow": false,
          "text": "0.07",
          "x": "No plan",
          "xref": "x",
          "y": "3eme lot",
          "yref": "y"
         },
         {
          "font": {
           "color": "#000000"
          },
          "showarrow": false,
          "text": "0.13",
          "x": "1er lot",
          "xref": "x",
          "y": "3eme lot",
          "yref": "y"
         },
         {
          "font": {
           "color": "#000000"
          },
          "showarrow": false,
          "text": "0.03",
          "x": "Surface Carrez du 1er lot",
          "xref": "x",
          "y": "3eme lot",
          "yref": "y"
         },
         {
          "font": {
           "color": "#000000"
          },
          "showarrow": false,
          "text": "1.0",
          "x": "2eme lot",
          "xref": "x",
          "y": "3eme lot",
          "yref": "y"
         },
         {
          "font": {
           "color": "#000000"
          },
          "showarrow": false,
          "text": "-0.24",
          "x": "Surface Carrez du 2eme lot",
          "xref": "x",
          "y": "3eme lot",
          "yref": "y"
         },
         {
          "font": {
           "color": "#000000"
          },
          "showarrow": false,
          "text": "1.0",
          "x": "3eme lot",
          "xref": "x",
          "y": "3eme lot",
          "yref": "y"
         },
         {
          "font": {
           "color": "#000000"
          },
          "showarrow": false,
          "text": "0.02",
          "x": "Surface Carrez du 3eme lot",
          "xref": "x",
          "y": "3eme lot",
          "yref": "y"
         },
         {
          "font": {
           "color": "#000000"
          },
          "showarrow": false,
          "text": "1.0",
          "x": "4eme lot",
          "xref": "x",
          "y": "3eme lot",
          "yref": "y"
         },
         {
          "font": {
           "color": "#000000"
          },
          "showarrow": false,
          "text": "-0.0",
          "x": "Surface Carrez du 4eme lot",
          "xref": "x",
          "y": "3eme lot",
          "yref": "y"
         },
         {
          "font": {
           "color": "#000000"
          },
          "showarrow": false,
          "text": "0.84",
          "x": "5eme lot",
          "xref": "x",
          "y": "3eme lot",
          "yref": "y"
         },
         {
          "font": {
           "color": "#000000"
          },
          "showarrow": false,
          "text": "0.02",
          "x": "Surface Carrez du 5eme lot",
          "xref": "x",
          "y": "3eme lot",
          "yref": "y"
         },
         {
          "font": {
           "color": "#000000"
          },
          "showarrow": false,
          "text": "0.01",
          "x": "Nombre de lots",
          "xref": "x",
          "y": "3eme lot",
          "yref": "y"
         },
         {
          "font": {
           "color": "#000000"
          },
          "showarrow": false,
          "text": "0.03",
          "x": "Code type local",
          "xref": "x",
          "y": "3eme lot",
          "yref": "y"
         },
         {
          "font": {
           "color": "#000000"
          },
          "showarrow": false,
          "text": "0.13",
          "x": "Surface reelle bati",
          "xref": "x",
          "y": "3eme lot",
          "yref": "y"
         },
         {
          "font": {
           "color": "#000000"
          },
          "showarrow": false,
          "text": "0.09",
          "x": "Nombre pieces principales",
          "xref": "x",
          "y": "3eme lot",
          "yref": "y"
         },
         {
          "font": {
           "color": "#000000"
          },
          "showarrow": false,
          "text": "nan",
          "x": "Nature culture",
          "xref": "x",
          "y": "3eme lot",
          "yref": "y"
         },
         {
          "font": {
           "color": "#000000"
          },
          "showarrow": false,
          "text": "nan",
          "x": "Nature culture speciale",
          "xref": "x",
          "y": "3eme lot",
          "yref": "y"
         },
         {
          "font": {
           "color": "#000000"
          },
          "showarrow": false,
          "text": "nan",
          "x": "Surface terrain",
          "xref": "x",
          "y": "3eme lot",
          "yref": "y"
         },
         {
          "font": {
           "color": "#000000"
          },
          "showarrow": false,
          "text": "-0.0",
          "x": "Date mutation",
          "xref": "x",
          "y": "Surface Carrez du 3eme lot",
          "yref": "y"
         },
         {
          "font": {
           "color": "#000000"
          },
          "showarrow": false,
          "text": "-0.0",
          "x": "Nature mutation",
          "xref": "x",
          "y": "Surface Carrez du 3eme lot",
          "yref": "y"
         },
         {
          "font": {
           "color": "#000000"
          },
          "showarrow": false,
          "text": "-0.04",
          "x": "Valeur fonciere",
          "xref": "x",
          "y": "Surface Carrez du 3eme lot",
          "yref": "y"
         },
         {
          "font": {
           "color": "#000000"
          },
          "showarrow": false,
          "text": "0.0",
          "x": "B/T/Q",
          "xref": "x",
          "y": "Surface Carrez du 3eme lot",
          "yref": "y"
         },
         {
          "font": {
           "color": "#000000"
          },
          "showarrow": false,
          "text": "-0.0",
          "x": "Type de voie",
          "xref": "x",
          "y": "Surface Carrez du 3eme lot",
          "yref": "y"
         },
         {
          "font": {
           "color": "#000000"
          },
          "showarrow": false,
          "text": "0.01",
          "x": "Voie",
          "xref": "x",
          "y": "Surface Carrez du 3eme lot",
          "yref": "y"
         },
         {
          "font": {
           "color": "#000000"
          },
          "showarrow": false,
          "text": "0.02",
          "x": "Code postal",
          "xref": "x",
          "y": "Surface Carrez du 3eme lot",
          "yref": "y"
         },
         {
          "font": {
           "color": "#000000"
          },
          "showarrow": false,
          "text": "0.01",
          "x": "Section",
          "xref": "x",
          "y": "Surface Carrez du 3eme lot",
          "yref": "y"
         },
         {
          "font": {
           "color": "#000000"
          },
          "showarrow": false,
          "text": "0.01",
          "x": "No plan",
          "xref": "x",
          "y": "Surface Carrez du 3eme lot",
          "yref": "y"
         },
         {
          "font": {
           "color": "#000000"
          },
          "showarrow": false,
          "text": "0.04",
          "x": "1er lot",
          "xref": "x",
          "y": "Surface Carrez du 3eme lot",
          "yref": "y"
         },
         {
          "font": {
           "color": "#000000"
          },
          "showarrow": false,
          "text": "0.0",
          "x": "Surface Carrez du 1er lot",
          "xref": "x",
          "y": "Surface Carrez du 3eme lot",
          "yref": "y"
         },
         {
          "font": {
           "color": "#000000"
          },
          "showarrow": false,
          "text": "0.04",
          "x": "2eme lot",
          "xref": "x",
          "y": "Surface Carrez du 3eme lot",
          "yref": "y"
         },
         {
          "font": {
           "color": "#000000"
          },
          "showarrow": false,
          "text": "0.09",
          "x": "Surface Carrez du 2eme lot",
          "xref": "x",
          "y": "Surface Carrez du 3eme lot",
          "yref": "y"
         },
         {
          "font": {
           "color": "#000000"
          },
          "showarrow": false,
          "text": "0.02",
          "x": "3eme lot",
          "xref": "x",
          "y": "Surface Carrez du 3eme lot",
          "yref": "y"
         },
         {
          "font": {
           "color": "#000000"
          },
          "showarrow": false,
          "text": "1.0",
          "x": "Surface Carrez du 3eme lot",
          "xref": "x",
          "y": "Surface Carrez du 3eme lot",
          "yref": "y"
         },
         {
          "font": {
           "color": "#000000"
          },
          "showarrow": false,
          "text": "0.05",
          "x": "4eme lot",
          "xref": "x",
          "y": "Surface Carrez du 3eme lot",
          "yref": "y"
         },
         {
          "font": {
           "color": "#000000"
          },
          "showarrow": false,
          "text": "0.41",
          "x": "Surface Carrez du 4eme lot",
          "xref": "x",
          "y": "Surface Carrez du 3eme lot",
          "yref": "y"
         },
         {
          "font": {
           "color": "#000000"
          },
          "showarrow": false,
          "text": "0.15",
          "x": "5eme lot",
          "xref": "x",
          "y": "Surface Carrez du 3eme lot",
          "yref": "y"
         },
         {
          "font": {
           "color": "#000000"
          },
          "showarrow": false,
          "text": "0.19",
          "x": "Surface Carrez du 5eme lot",
          "xref": "x",
          "y": "Surface Carrez du 3eme lot",
          "yref": "y"
         },
         {
          "font": {
           "color": "#000000"
          },
          "showarrow": false,
          "text": "-0.17",
          "x": "Nombre de lots",
          "xref": "x",
          "y": "Surface Carrez du 3eme lot",
          "yref": "y"
         },
         {
          "font": {
           "color": "#000000"
          },
          "showarrow": false,
          "text": "-0.02",
          "x": "Code type local",
          "xref": "x",
          "y": "Surface Carrez du 3eme lot",
          "yref": "y"
         },
         {
          "font": {
           "color": "#000000"
          },
          "showarrow": false,
          "text": "-0.03",
          "x": "Surface reelle bati",
          "xref": "x",
          "y": "Surface Carrez du 3eme lot",
          "yref": "y"
         },
         {
          "font": {
           "color": "#000000"
          },
          "showarrow": false,
          "text": "-0.02",
          "x": "Nombre pieces principales",
          "xref": "x",
          "y": "Surface Carrez du 3eme lot",
          "yref": "y"
         },
         {
          "font": {
           "color": "#000000"
          },
          "showarrow": false,
          "text": "-0.03",
          "x": "Nature culture",
          "xref": "x",
          "y": "Surface Carrez du 3eme lot",
          "yref": "y"
         },
         {
          "font": {
           "color": "#000000"
          },
          "showarrow": false,
          "text": "-0.0",
          "x": "Nature culture speciale",
          "xref": "x",
          "y": "Surface Carrez du 3eme lot",
          "yref": "y"
         },
         {
          "font": {
           "color": "#000000"
          },
          "showarrow": false,
          "text": "nan",
          "x": "Surface terrain",
          "xref": "x",
          "y": "Surface Carrez du 3eme lot",
          "yref": "y"
         },
         {
          "font": {
           "color": "#000000"
          },
          "showarrow": false,
          "text": "0.08",
          "x": "Date mutation",
          "xref": "x",
          "y": "4eme lot",
          "yref": "y"
         },
         {
          "font": {
           "color": "#000000"
          },
          "showarrow": false,
          "text": "nan",
          "x": "Nature mutation",
          "xref": "x",
          "y": "4eme lot",
          "yref": "y"
         },
         {
          "font": {
           "color": "#000000"
          },
          "showarrow": false,
          "text": "-0.03",
          "x": "Valeur fonciere",
          "xref": "x",
          "y": "4eme lot",
          "yref": "y"
         },
         {
          "font": {
           "color": "#000000"
          },
          "showarrow": false,
          "text": "0.02",
          "x": "B/T/Q",
          "xref": "x",
          "y": "4eme lot",
          "yref": "y"
         },
         {
          "font": {
           "color": "#000000"
          },
          "showarrow": false,
          "text": "0.06",
          "x": "Type de voie",
          "xref": "x",
          "y": "4eme lot",
          "yref": "y"
         },
         {
          "font": {
           "color": "#000000"
          },
          "showarrow": false,
          "text": "-0.17",
          "x": "Voie",
          "xref": "x",
          "y": "4eme lot",
          "yref": "y"
         },
         {
          "font": {
           "color": "#000000"
          },
          "showarrow": false,
          "text": "-0.06",
          "x": "Code postal",
          "xref": "x",
          "y": "4eme lot",
          "yref": "y"
         },
         {
          "font": {
           "color": "#000000"
          },
          "showarrow": false,
          "text": "0.06",
          "x": "Section",
          "xref": "x",
          "y": "4eme lot",
          "yref": "y"
         },
         {
          "font": {
           "color": "#000000"
          },
          "showarrow": false,
          "text": "0.14",
          "x": "No plan",
          "xref": "x",
          "y": "4eme lot",
          "yref": "y"
         },
         {
          "font": {
           "color": "#000000"
          },
          "showarrow": false,
          "text": "0.25",
          "x": "1er lot",
          "xref": "x",
          "y": "4eme lot",
          "yref": "y"
         },
         {
          "font": {
           "color": "#000000"
          },
          "showarrow": false,
          "text": "0.06",
          "x": "Surface Carrez du 1er lot",
          "xref": "x",
          "y": "4eme lot",
          "yref": "y"
         },
         {
          "font": {
           "color": "#000000"
          },
          "showarrow": false,
          "text": "1.0",
          "x": "2eme lot",
          "xref": "x",
          "y": "4eme lot",
          "yref": "y"
         },
         {
          "font": {
           "color": "#000000"
          },
          "showarrow": false,
          "text": "-0.33",
          "x": "Surface Carrez du 2eme lot",
          "xref": "x",
          "y": "4eme lot",
          "yref": "y"
         },
         {
          "font": {
           "color": "#000000"
          },
          "showarrow": false,
          "text": "1.0",
          "x": "3eme lot",
          "xref": "x",
          "y": "4eme lot",
          "yref": "y"
         },
         {
          "font": {
           "color": "#000000"
          },
          "showarrow": false,
          "text": "0.05",
          "x": "Surface Carrez du 3eme lot",
          "xref": "x",
          "y": "4eme lot",
          "yref": "y"
         },
         {
          "font": {
           "color": "#000000"
          },
          "showarrow": false,
          "text": "1.0",
          "x": "4eme lot",
          "xref": "x",
          "y": "4eme lot",
          "yref": "y"
         },
         {
          "font": {
           "color": "#000000"
          },
          "showarrow": false,
          "text": "0.03",
          "x": "Surface Carrez du 4eme lot",
          "xref": "x",
          "y": "4eme lot",
          "yref": "y"
         },
         {
          "font": {
           "color": "#000000"
          },
          "showarrow": false,
          "text": "0.85",
          "x": "5eme lot",
          "xref": "x",
          "y": "4eme lot",
          "yref": "y"
         },
         {
          "font": {
           "color": "#000000"
          },
          "showarrow": false,
          "text": "0.04",
          "x": "Surface Carrez du 5eme lot",
          "xref": "x",
          "y": "4eme lot",
          "yref": "y"
         },
         {
          "font": {
           "color": "#000000"
          },
          "showarrow": false,
          "text": "-0.05",
          "x": "Nombre de lots",
          "xref": "x",
          "y": "4eme lot",
          "yref": "y"
         },
         {
          "font": {
           "color": "#000000"
          },
          "showarrow": false,
          "text": "0.05",
          "x": "Code type local",
          "xref": "x",
          "y": "4eme lot",
          "yref": "y"
         },
         {
          "font": {
           "color": "#000000"
          },
          "showarrow": false,
          "text": "0.14",
          "x": "Surface reelle bati",
          "xref": "x",
          "y": "4eme lot",
          "yref": "y"
         },
         {
          "font": {
           "color": "#000000"
          },
          "showarrow": false,
          "text": "0.1",
          "x": "Nombre pieces principales",
          "xref": "x",
          "y": "4eme lot",
          "yref": "y"
         },
         {
          "font": {
           "color": "#000000"
          },
          "showarrow": false,
          "text": "nan",
          "x": "Nature culture",
          "xref": "x",
          "y": "4eme lot",
          "yref": "y"
         },
         {
          "font": {
           "color": "#000000"
          },
          "showarrow": false,
          "text": "nan",
          "x": "Nature culture speciale",
          "xref": "x",
          "y": "4eme lot",
          "yref": "y"
         },
         {
          "font": {
           "color": "#000000"
          },
          "showarrow": false,
          "text": "nan",
          "x": "Surface terrain",
          "xref": "x",
          "y": "4eme lot",
          "yref": "y"
         },
         {
          "font": {
           "color": "#000000"
          },
          "showarrow": false,
          "text": "-0.0",
          "x": "Date mutation",
          "xref": "x",
          "y": "Surface Carrez du 4eme lot",
          "yref": "y"
         },
         {
          "font": {
           "color": "#000000"
          },
          "showarrow": false,
          "text": "-0.0",
          "x": "Nature mutation",
          "xref": "x",
          "y": "Surface Carrez du 4eme lot",
          "yref": "y"
         },
         {
          "font": {
           "color": "#000000"
          },
          "showarrow": false,
          "text": "-0.02",
          "x": "Valeur fonciere",
          "xref": "x",
          "y": "Surface Carrez du 4eme lot",
          "yref": "y"
         },
         {
          "font": {
           "color": "#000000"
          },
          "showarrow": false,
          "text": "-0.0",
          "x": "B/T/Q",
          "xref": "x",
          "y": "Surface Carrez du 4eme lot",
          "yref": "y"
         },
         {
          "font": {
           "color": "#000000"
          },
          "showarrow": false,
          "text": "-0.0",
          "x": "Type de voie",
          "xref": "x",
          "y": "Surface Carrez du 4eme lot",
          "yref": "y"
         },
         {
          "font": {
           "color": "#000000"
          },
          "showarrow": false,
          "text": "0.01",
          "x": "Voie",
          "xref": "x",
          "y": "Surface Carrez du 4eme lot",
          "yref": "y"
         },
         {
          "font": {
           "color": "#000000"
          },
          "showarrow": false,
          "text": "0.01",
          "x": "Code postal",
          "xref": "x",
          "y": "Surface Carrez du 4eme lot",
          "yref": "y"
         },
         {
          "font": {
           "color": "#000000"
          },
          "showarrow": false,
          "text": "0.01",
          "x": "Section",
          "xref": "x",
          "y": "Surface Carrez du 4eme lot",
          "yref": "y"
         },
         {
          "font": {
           "color": "#000000"
          },
          "showarrow": false,
          "text": "0.01",
          "x": "No plan",
          "xref": "x",
          "y": "Surface Carrez du 4eme lot",
          "yref": "y"
         },
         {
          "font": {
           "color": "#000000"
          },
          "showarrow": false,
          "text": "0.03",
          "x": "1er lot",
          "xref": "x",
          "y": "Surface Carrez du 4eme lot",
          "yref": "y"
         },
         {
          "font": {
           "color": "#000000"
          },
          "showarrow": false,
          "text": "0.02",
          "x": "Surface Carrez du 1er lot",
          "xref": "x",
          "y": "Surface Carrez du 4eme lot",
          "yref": "y"
         },
         {
          "font": {
           "color": "#000000"
          },
          "showarrow": false,
          "text": "0.02",
          "x": "2eme lot",
          "xref": "x",
          "y": "Surface Carrez du 4eme lot",
          "yref": "y"
         },
         {
          "font": {
           "color": "#000000"
          },
          "showarrow": false,
          "text": "0.12",
          "x": "Surface Carrez du 2eme lot",
          "xref": "x",
          "y": "Surface Carrez du 4eme lot",
          "yref": "y"
         },
         {
          "font": {
           "color": "#000000"
          },
          "showarrow": false,
          "text": "-0.0",
          "x": "3eme lot",
          "xref": "x",
          "y": "Surface Carrez du 4eme lot",
          "yref": "y"
         },
         {
          "font": {
           "color": "#000000"
          },
          "showarrow": false,
          "text": "0.41",
          "x": "Surface Carrez du 3eme lot",
          "xref": "x",
          "y": "Surface Carrez du 4eme lot",
          "yref": "y"
         },
         {
          "font": {
           "color": "#000000"
          },
          "showarrow": false,
          "text": "0.03",
          "x": "4eme lot",
          "xref": "x",
          "y": "Surface Carrez du 4eme lot",
          "yref": "y"
         },
         {
          "font": {
           "color": "#000000"
          },
          "showarrow": false,
          "text": "1.0",
          "x": "Surface Carrez du 4eme lot",
          "xref": "x",
          "y": "Surface Carrez du 4eme lot",
          "yref": "y"
         },
         {
          "font": {
           "color": "#000000"
          },
          "showarrow": false,
          "text": "0.18",
          "x": "5eme lot",
          "xref": "x",
          "y": "Surface Carrez du 4eme lot",
          "yref": "y"
         },
         {
          "font": {
           "color": "#000000"
          },
          "showarrow": false,
          "text": "0.47",
          "x": "Surface Carrez du 5eme lot",
          "xref": "x",
          "y": "Surface Carrez du 4eme lot",
          "yref": "y"
         },
         {
          "font": {
           "color": "#000000"
          },
          "showarrow": false,
          "text": "-0.16",
          "x": "Nombre de lots",
          "xref": "x",
          "y": "Surface Carrez du 4eme lot",
          "yref": "y"
         },
         {
          "font": {
           "color": "#000000"
          },
          "showarrow": false,
          "text": "-0.01",
          "x": "Code type local",
          "xref": "x",
          "y": "Surface Carrez du 4eme lot",
          "yref": "y"
         },
         {
          "font": {
           "color": "#000000"
          },
          "showarrow": false,
          "text": "-0.01",
          "x": "Surface reelle bati",
          "xref": "x",
          "y": "Surface Carrez du 4eme lot",
          "yref": "y"
         },
         {
          "font": {
           "color": "#000000"
          },
          "showarrow": false,
          "text": "-0.01",
          "x": "Nombre pieces principales",
          "xref": "x",
          "y": "Surface Carrez du 4eme lot",
          "yref": "y"
         },
         {
          "font": {
           "color": "#000000"
          },
          "showarrow": false,
          "text": "-0.02",
          "x": "Nature culture",
          "xref": "x",
          "y": "Surface Carrez du 4eme lot",
          "yref": "y"
         },
         {
          "font": {
           "color": "#000000"
          },
          "showarrow": false,
          "text": "-0.0",
          "x": "Nature culture speciale",
          "xref": "x",
          "y": "Surface Carrez du 4eme lot",
          "yref": "y"
         },
         {
          "font": {
           "color": "#000000"
          },
          "showarrow": false,
          "text": "nan",
          "x": "Surface terrain",
          "xref": "x",
          "y": "Surface Carrez du 4eme lot",
          "yref": "y"
         },
         {
          "font": {
           "color": "#000000"
          },
          "showarrow": false,
          "text": "-0.33",
          "x": "Date mutation",
          "xref": "x",
          "y": "5eme lot",
          "yref": "y"
         },
         {
          "font": {
           "color": "#000000"
          },
          "showarrow": false,
          "text": "nan",
          "x": "Nature mutation",
          "xref": "x",
          "y": "5eme lot",
          "yref": "y"
         },
         {
          "font": {
           "color": "#000000"
          },
          "showarrow": false,
          "text": "0.03",
          "x": "Valeur fonciere",
          "xref": "x",
          "y": "5eme lot",
          "yref": "y"
         },
         {
          "font": {
           "color": "#000000"
          },
          "showarrow": false,
          "text": "nan",
          "x": "B/T/Q",
          "xref": "x",
          "y": "5eme lot",
          "yref": "y"
         },
         {
          "font": {
           "color": "#000000"
          },
          "showarrow": false,
          "text": "-0.65",
          "x": "Type de voie",
          "xref": "x",
          "y": "5eme lot",
          "yref": "y"
         },
         {
          "font": {
           "color": "#000000"
          },
          "showarrow": false,
          "text": "-0.01",
          "x": "Voie",
          "xref": "x",
          "y": "5eme lot",
          "yref": "y"
         },
         {
          "font": {
           "color": "#000000"
          },
          "showarrow": false,
          "text": "0.02",
          "x": "Code postal",
          "xref": "x",
          "y": "5eme lot",
          "yref": "y"
         },
         {
          "font": {
           "color": "#000000"
          },
          "showarrow": false,
          "text": "0.18",
          "x": "Section",
          "xref": "x",
          "y": "5eme lot",
          "yref": "y"
         },
         {
          "font": {
           "color": "#000000"
          },
          "showarrow": false,
          "text": "-0.1",
          "x": "No plan",
          "xref": "x",
          "y": "5eme lot",
          "yref": "y"
         },
         {
          "font": {
           "color": "#000000"
          },
          "showarrow": false,
          "text": "0.54",
          "x": "1er lot",
          "xref": "x",
          "y": "5eme lot",
          "yref": "y"
         },
         {
          "font": {
           "color": "#000000"
          },
          "showarrow": false,
          "text": "0.14",
          "x": "Surface Carrez du 1er lot",
          "xref": "x",
          "y": "5eme lot",
          "yref": "y"
         },
         {
          "font": {
           "color": "#000000"
          },
          "showarrow": false,
          "text": "0.77",
          "x": "2eme lot",
          "xref": "x",
          "y": "5eme lot",
          "yref": "y"
         },
         {
          "font": {
           "color": "#000000"
          },
          "showarrow": false,
          "text": "0.04",
          "x": "Surface Carrez du 2eme lot",
          "xref": "x",
          "y": "5eme lot",
          "yref": "y"
         },
         {
          "font": {
           "color": "#000000"
          },
          "showarrow": false,
          "text": "0.84",
          "x": "3eme lot",
          "xref": "x",
          "y": "5eme lot",
          "yref": "y"
         },
         {
          "font": {
           "color": "#000000"
          },
          "showarrow": false,
          "text": "0.15",
          "x": "Surface Carrez du 3eme lot",
          "xref": "x",
          "y": "5eme lot",
          "yref": "y"
         },
         {
          "font": {
           "color": "#000000"
          },
          "showarrow": false,
          "text": "0.85",
          "x": "4eme lot",
          "xref": "x",
          "y": "5eme lot",
          "yref": "y"
         },
         {
          "font": {
           "color": "#000000"
          },
          "showarrow": false,
          "text": "0.18",
          "x": "Surface Carrez du 4eme lot",
          "xref": "x",
          "y": "5eme lot",
          "yref": "y"
         },
         {
          "font": {
           "color": "#000000"
          },
          "showarrow": false,
          "text": "1.0",
          "x": "5eme lot",
          "xref": "x",
          "y": "5eme lot",
          "yref": "y"
         },
         {
          "font": {
           "color": "#000000"
          },
          "showarrow": false,
          "text": "0.15",
          "x": "Surface Carrez du 5eme lot",
          "xref": "x",
          "y": "5eme lot",
          "yref": "y"
         },
         {
          "font": {
           "color": "#000000"
          },
          "showarrow": false,
          "text": "-0.02",
          "x": "Nombre de lots",
          "xref": "x",
          "y": "5eme lot",
          "yref": "y"
         },
         {
          "font": {
           "color": "#000000"
          },
          "showarrow": false,
          "text": "0.05",
          "x": "Code type local",
          "xref": "x",
          "y": "5eme lot",
          "yref": "y"
         },
         {
          "font": {
           "color": "#000000"
          },
          "showarrow": false,
          "text": "0.37",
          "x": "Surface reelle bati",
          "xref": "x",
          "y": "5eme lot",
          "yref": "y"
         },
         {
          "font": {
           "color": "#000000"
          },
          "showarrow": false,
          "text": "0.32",
          "x": "Nombre pieces principales",
          "xref": "x",
          "y": "5eme lot",
          "yref": "y"
         },
         {
          "font": {
           "color": "#000000"
          },
          "showarrow": false,
          "text": "nan",
          "x": "Nature culture",
          "xref": "x",
          "y": "5eme lot",
          "yref": "y"
         },
         {
          "font": {
           "color": "#000000"
          },
          "showarrow": false,
          "text": "nan",
          "x": "Nature culture speciale",
          "xref": "x",
          "y": "5eme lot",
          "yref": "y"
         },
         {
          "font": {
           "color": "#000000"
          },
          "showarrow": false,
          "text": "nan",
          "x": "Surface terrain",
          "xref": "x",
          "y": "5eme lot",
          "yref": "y"
         },
         {
          "font": {
           "color": "#000000"
          },
          "showarrow": false,
          "text": "-0.01",
          "x": "Date mutation",
          "xref": "x",
          "y": "Surface Carrez du 5eme lot",
          "yref": "y"
         },
         {
          "font": {
           "color": "#000000"
          },
          "showarrow": false,
          "text": "-0.0",
          "x": "Nature mutation",
          "xref": "x",
          "y": "Surface Carrez du 5eme lot",
          "yref": "y"
         },
         {
          "font": {
           "color": "#000000"
          },
          "showarrow": false,
          "text": "-0.02",
          "x": "Valeur fonciere",
          "xref": "x",
          "y": "Surface Carrez du 5eme lot",
          "yref": "y"
         },
         {
          "font": {
           "color": "#000000"
          },
          "showarrow": false,
          "text": "-0.0",
          "x": "B/T/Q",
          "xref": "x",
          "y": "Surface Carrez du 5eme lot",
          "yref": "y"
         },
         {
          "font": {
           "color": "#000000"
          },
          "showarrow": false,
          "text": "-0.01",
          "x": "Type de voie",
          "xref": "x",
          "y": "Surface Carrez du 5eme lot",
          "yref": "y"
         },
         {
          "font": {
           "color": "#000000"
          },
          "showarrow": false,
          "text": "-0.0",
          "x": "Voie",
          "xref": "x",
          "y": "Surface Carrez du 5eme lot",
          "yref": "y"
         },
         {
          "font": {
           "color": "#000000"
          },
          "showarrow": false,
          "text": "0.01",
          "x": "Code postal",
          "xref": "x",
          "y": "Surface Carrez du 5eme lot",
          "yref": "y"
         },
         {
          "font": {
           "color": "#000000"
          },
          "showarrow": false,
          "text": "0.01",
          "x": "Section",
          "xref": "x",
          "y": "Surface Carrez du 5eme lot",
          "yref": "y"
         },
         {
          "font": {
           "color": "#000000"
          },
          "showarrow": false,
          "text": "0.01",
          "x": "No plan",
          "xref": "x",
          "y": "Surface Carrez du 5eme lot",
          "yref": "y"
         },
         {
          "font": {
           "color": "#000000"
          },
          "showarrow": false,
          "text": "0.03",
          "x": "1er lot",
          "xref": "x",
          "y": "Surface Carrez du 5eme lot",
          "yref": "y"
         },
         {
          "font": {
           "color": "#000000"
          },
          "showarrow": false,
          "text": "0.02",
          "x": "Surface Carrez du 1er lot",
          "xref": "x",
          "y": "Surface Carrez du 5eme lot",
          "yref": "y"
         },
         {
          "font": {
           "color": "#000000"
          },
          "showarrow": false,
          "text": "0.02",
          "x": "2eme lot",
          "xref": "x",
          "y": "Surface Carrez du 5eme lot",
          "yref": "y"
         },
         {
          "font": {
           "color": "#000000"
          },
          "showarrow": false,
          "text": "0.08",
          "x": "Surface Carrez du 2eme lot",
          "xref": "x",
          "y": "Surface Carrez du 5eme lot",
          "yref": "y"
         },
         {
          "font": {
           "color": "#000000"
          },
          "showarrow": false,
          "text": "0.02",
          "x": "3eme lot",
          "xref": "x",
          "y": "Surface Carrez du 5eme lot",
          "yref": "y"
         },
         {
          "font": {
           "color": "#000000"
          },
          "showarrow": false,
          "text": "0.19",
          "x": "Surface Carrez du 3eme lot",
          "xref": "x",
          "y": "Surface Carrez du 5eme lot",
          "yref": "y"
         },
         {
          "font": {
           "color": "#000000"
          },
          "showarrow": false,
          "text": "0.04",
          "x": "4eme lot",
          "xref": "x",
          "y": "Surface Carrez du 5eme lot",
          "yref": "y"
         },
         {
          "font": {
           "color": "#000000"
          },
          "showarrow": false,
          "text": "0.47",
          "x": "Surface Carrez du 4eme lot",
          "xref": "x",
          "y": "Surface Carrez du 5eme lot",
          "yref": "y"
         },
         {
          "font": {
           "color": "#000000"
          },
          "showarrow": false,
          "text": "0.15",
          "x": "5eme lot",
          "xref": "x",
          "y": "Surface Carrez du 5eme lot",
          "yref": "y"
         },
         {
          "font": {
           "color": "#000000"
          },
          "showarrow": false,
          "text": "1.0",
          "x": "Surface Carrez du 5eme lot",
          "xref": "x",
          "y": "Surface Carrez du 5eme lot",
          "yref": "y"
         },
         {
          "font": {
           "color": "#000000"
          },
          "showarrow": false,
          "text": "-0.12",
          "x": "Nombre de lots",
          "xref": "x",
          "y": "Surface Carrez du 5eme lot",
          "yref": "y"
         },
         {
          "font": {
           "color": "#000000"
          },
          "showarrow": false,
          "text": "-0.01",
          "x": "Code type local",
          "xref": "x",
          "y": "Surface Carrez du 5eme lot",
          "yref": "y"
         },
         {
          "font": {
           "color": "#000000"
          },
          "showarrow": false,
          "text": "-0.01",
          "x": "Surface reelle bati",
          "xref": "x",
          "y": "Surface Carrez du 5eme lot",
          "yref": "y"
         },
         {
          "font": {
           "color": "#000000"
          },
          "showarrow": false,
          "text": "-0.0",
          "x": "Nombre pieces principales",
          "xref": "x",
          "y": "Surface Carrez du 5eme lot",
          "yref": "y"
         },
         {
          "font": {
           "color": "#000000"
          },
          "showarrow": false,
          "text": "-0.01",
          "x": "Nature culture",
          "xref": "x",
          "y": "Surface Carrez du 5eme lot",
          "yref": "y"
         },
         {
          "font": {
           "color": "#000000"
          },
          "showarrow": false,
          "text": "-0.0",
          "x": "Nature culture speciale",
          "xref": "x",
          "y": "Surface Carrez du 5eme lot",
          "yref": "y"
         },
         {
          "font": {
           "color": "#000000"
          },
          "showarrow": false,
          "text": "nan",
          "x": "Surface terrain",
          "xref": "x",
          "y": "Surface Carrez du 5eme lot",
          "yref": "y"
         },
         {
          "font": {
           "color": "#000000"
          },
          "showarrow": false,
          "text": "0.01",
          "x": "Date mutation",
          "xref": "x",
          "y": "Nombre de lots",
          "yref": "y"
         },
         {
          "font": {
           "color": "#000000"
          },
          "showarrow": false,
          "text": "-0.01",
          "x": "Nature mutation",
          "xref": "x",
          "y": "Nombre de lots",
          "yref": "y"
         },
         {
          "font": {
           "color": "#000000"
          },
          "showarrow": false,
          "text": "-0.38",
          "x": "Valeur fonciere",
          "xref": "x",
          "y": "Nombre de lots",
          "yref": "y"
         },
         {
          "font": {
           "color": "#000000"
          },
          "showarrow": false,
          "text": "0.04",
          "x": "B/T/Q",
          "xref": "x",
          "y": "Nombre de lots",
          "yref": "y"
         },
         {
          "font": {
           "color": "#000000"
          },
          "showarrow": false,
          "text": "-0.04",
          "x": "Type de voie",
          "xref": "x",
          "y": "Nombre de lots",
          "yref": "y"
         },
         {
          "font": {
           "color": "#000000"
          },
          "showarrow": false,
          "text": "0.02",
          "x": "Voie",
          "xref": "x",
          "y": "Nombre de lots",
          "yref": "y"
         },
         {
          "font": {
           "color": "#000000"
          },
          "showarrow": false,
          "text": "-0.09",
          "x": "Code postal",
          "xref": "x",
          "y": "Nombre de lots",
          "yref": "y"
         },
         {
          "font": {
           "color": "#000000"
          },
          "showarrow": false,
          "text": "0.07",
          "x": "Section",
          "xref": "x",
          "y": "Nombre de lots",
          "yref": "y"
         },
         {
          "font": {
           "color": "#000000"
          },
          "showarrow": false,
          "text": "-0.05",
          "x": "No plan",
          "xref": "x",
          "y": "Nombre de lots",
          "yref": "y"
         },
         {
          "font": {
           "color": "#000000"
          },
          "showarrow": false,
          "text": "-0.62",
          "x": "1er lot",
          "xref": "x",
          "y": "Nombre de lots",
          "yref": "y"
         },
         {
          "font": {
           "color": "#000000"
          },
          "showarrow": false,
          "text": "-0.21",
          "x": "Surface Carrez du 1er lot",
          "xref": "x",
          "y": "Nombre de lots",
          "yref": "y"
         },
         {
          "font": {
           "color": "#000000"
          },
          "showarrow": false,
          "text": "-0.06",
          "x": "2eme lot",
          "xref": "x",
          "y": "Nombre de lots",
          "yref": "y"
         },
         {
          "font": {
           "color": "#000000"
          },
          "showarrow": false,
          "text": "-0.29",
          "x": "Surface Carrez du 2eme lot",
          "xref": "x",
          "y": "Nombre de lots",
          "yref": "y"
         },
         {
          "font": {
           "color": "#000000"
          },
          "showarrow": false,
          "text": "0.01",
          "x": "3eme lot",
          "xref": "x",
          "y": "Nombre de lots",
          "yref": "y"
         },
         {
          "font": {
           "color": "#000000"
          },
          "showarrow": false,
          "text": "-0.17",
          "x": "Surface Carrez du 3eme lot",
          "xref": "x",
          "y": "Nombre de lots",
          "yref": "y"
         },
         {
          "font": {
           "color": "#000000"
          },
          "showarrow": false,
          "text": "-0.05",
          "x": "4eme lot",
          "xref": "x",
          "y": "Nombre de lots",
          "yref": "y"
         },
         {
          "font": {
           "color": "#000000"
          },
          "showarrow": false,
          "text": "-0.16",
          "x": "Surface Carrez du 4eme lot",
          "xref": "x",
          "y": "Nombre de lots",
          "yref": "y"
         },
         {
          "font": {
           "color": "#000000"
          },
          "showarrow": false,
          "text": "-0.02",
          "x": "5eme lot",
          "xref": "x",
          "y": "Nombre de lots",
          "yref": "y"
         },
         {
          "font": {
           "color": "#000000"
          },
          "showarrow": false,
          "text": "-0.12",
          "x": "Surface Carrez du 5eme lot",
          "xref": "x",
          "y": "Nombre de lots",
          "yref": "y"
         },
         {
          "font": {
           "color": "#000000"
          },
          "showarrow": false,
          "text": "1.0",
          "x": "Nombre de lots",
          "xref": "x",
          "y": "Nombre de lots",
          "yref": "y"
         },
         {
          "font": {
           "color": "#000000"
          },
          "showarrow": false,
          "text": "0.59",
          "x": "Code type local",
          "xref": "x",
          "y": "Nombre de lots",
          "yref": "y"
         },
         {
          "font": {
           "color": "#000000"
          },
          "showarrow": false,
          "text": "-0.18",
          "x": "Surface reelle bati",
          "xref": "x",
          "y": "Nombre de lots",
          "yref": "y"
         },
         {
          "font": {
           "color": "#000000"
          },
          "showarrow": false,
          "text": "-0.17",
          "x": "Nombre pieces principales",
          "xref": "x",
          "y": "Nombre de lots",
          "yref": "y"
         },
         {
          "font": {
           "color": "#000000"
          },
          "showarrow": false,
          "text": "0.74",
          "x": "Nature culture",
          "xref": "x",
          "y": "Nombre de lots",
          "yref": "y"
         },
         {
          "font": {
           "color": "#000000"
          },
          "showarrow": false,
          "text": "0.03",
          "x": "Nature culture speciale",
          "xref": "x",
          "y": "Nombre de lots",
          "yref": "y"
         },
         {
          "font": {
           "color": "#000000"
          },
          "showarrow": false,
          "text": "-0.01",
          "x": "Surface terrain",
          "xref": "x",
          "y": "Nombre de lots",
          "yref": "y"
         },
         {
          "font": {
           "color": "#000000"
          },
          "showarrow": false,
          "text": "0.03",
          "x": "Date mutation",
          "xref": "x",
          "y": "Code type local",
          "yref": "y"
         },
         {
          "font": {
           "color": "#000000"
          },
          "showarrow": false,
          "text": "-0.01",
          "x": "Nature mutation",
          "xref": "x",
          "y": "Code type local",
          "yref": "y"
         },
         {
          "font": {
           "color": "#000000"
          },
          "showarrow": false,
          "text": "-0.41",
          "x": "Valeur fonciere",
          "xref": "x",
          "y": "Code type local",
          "yref": "y"
         },
         {
          "font": {
           "color": "#000000"
          },
          "showarrow": false,
          "text": "0.03",
          "x": "B/T/Q",
          "xref": "x",
          "y": "Code type local",
          "yref": "y"
         },
         {
          "font": {
           "color": "#000000"
          },
          "showarrow": false,
          "text": "-0.05",
          "x": "Type de voie",
          "xref": "x",
          "y": "Code type local",
          "yref": "y"
         },
         {
          "font": {
           "color": "#000000"
          },
          "showarrow": false,
          "text": "0.03",
          "x": "Voie",
          "xref": "x",
          "y": "Code type local",
          "yref": "y"
         },
         {
          "font": {
           "color": "#000000"
          },
          "showarrow": false,
          "text": "-0.03",
          "x": "Code postal",
          "xref": "x",
          "y": "Code type local",
          "yref": "y"
         },
         {
          "font": {
           "color": "#000000"
          },
          "showarrow": false,
          "text": "-0.02",
          "x": "Section",
          "xref": "x",
          "y": "Code type local",
          "yref": "y"
         },
         {
          "font": {
           "color": "#000000"
          },
          "showarrow": false,
          "text": "0.03",
          "x": "No plan",
          "xref": "x",
          "y": "Code type local",
          "yref": "y"
         },
         {
          "font": {
           "color": "#000000"
          },
          "showarrow": false,
          "text": "-0.53",
          "x": "1er lot",
          "xref": "x",
          "y": "Code type local",
          "yref": "y"
         },
         {
          "font": {
           "color": "#000000"
          },
          "showarrow": false,
          "text": "-0.28",
          "x": "Surface Carrez du 1er lot",
          "xref": "x",
          "y": "Code type local",
          "yref": "y"
         },
         {
          "font": {
           "color": "#000000"
          },
          "showarrow": false,
          "text": "0.05",
          "x": "2eme lot",
          "xref": "x",
          "y": "Code type local",
          "yref": "y"
         },
         {
          "font": {
           "color": "#000000"
          },
          "showarrow": false,
          "text": "-0.08",
          "x": "Surface Carrez du 2eme lot",
          "xref": "x",
          "y": "Code type local",
          "yref": "y"
         },
         {
          "font": {
           "color": "#000000"
          },
          "showarrow": false,
          "text": "0.03",
          "x": "3eme lot",
          "xref": "x",
          "y": "Code type local",
          "yref": "y"
         },
         {
          "font": {
           "color": "#000000"
          },
          "showarrow": false,
          "text": "-0.02",
          "x": "Surface Carrez du 3eme lot",
          "xref": "x",
          "y": "Code type local",
          "yref": "y"
         },
         {
          "font": {
           "color": "#000000"
          },
          "showarrow": false,
          "text": "0.05",
          "x": "4eme lot",
          "xref": "x",
          "y": "Code type local",
          "yref": "y"
         },
         {
          "font": {
           "color": "#000000"
          },
          "showarrow": false,
          "text": "-0.01",
          "x": "Surface Carrez du 4eme lot",
          "xref": "x",
          "y": "Code type local",
          "yref": "y"
         },
         {
          "font": {
           "color": "#000000"
          },
          "showarrow": false,
          "text": "0.05",
          "x": "5eme lot",
          "xref": "x",
          "y": "Code type local",
          "yref": "y"
         },
         {
          "font": {
           "color": "#000000"
          },
          "showarrow": false,
          "text": "-0.01",
          "x": "Surface Carrez du 5eme lot",
          "xref": "x",
          "y": "Code type local",
          "yref": "y"
         },
         {
          "font": {
           "color": "#000000"
          },
          "showarrow": false,
          "text": "0.59",
          "x": "Nombre de lots",
          "xref": "x",
          "y": "Code type local",
          "yref": "y"
         },
         {
          "font": {
           "color": "#000000"
          },
          "showarrow": false,
          "text": "1.0",
          "x": "Code type local",
          "xref": "x",
          "y": "Code type local",
          "yref": "y"
         },
         {
          "font": {
           "color": "#000000"
          },
          "showarrow": false,
          "text": "-0.49",
          "x": "Surface reelle bati",
          "xref": "x",
          "y": "Code type local",
          "yref": "y"
         },
         {
          "font": {
           "color": "#000000"
          },
          "showarrow": false,
          "text": "-0.48",
          "x": "Nombre pieces principales",
          "xref": "x",
          "y": "Code type local",
          "yref": "y"
         },
         {
          "font": {
           "color": "#000000"
          },
          "showarrow": false,
          "text": "0.74",
          "x": "Nature culture",
          "xref": "x",
          "y": "Code type local",
          "yref": "y"
         },
         {
          "font": {
           "color": "#000000"
          },
          "showarrow": false,
          "text": "0.01",
          "x": "Nature culture speciale",
          "xref": "x",
          "y": "Code type local",
          "yref": "y"
         },
         {
          "font": {
           "color": "#000000"
          },
          "showarrow": false,
          "text": "0.01",
          "x": "Surface terrain",
          "xref": "x",
          "y": "Code type local",
          "yref": "y"
         },
         {
          "font": {
           "color": "#000000"
          },
          "showarrow": false,
          "text": "-0.01",
          "x": "Date mutation",
          "xref": "x",
          "y": "Surface reelle bati",
          "yref": "y"
         },
         {
          "font": {
           "color": "#000000"
          },
          "showarrow": false,
          "text": "0.0",
          "x": "Nature mutation",
          "xref": "x",
          "y": "Surface reelle bati",
          "yref": "y"
         },
         {
          "font": {
           "color": "#000000"
          },
          "showarrow": false,
          "text": "0.6",
          "x": "Valeur fonciere",
          "xref": "x",
          "y": "Surface reelle bati",
          "yref": "y"
         },
         {
          "font": {
           "color": "#000000"
          },
          "showarrow": false,
          "text": "0.0",
          "x": "B/T/Q",
          "xref": "x",
          "y": "Surface reelle bati",
          "yref": "y"
         },
         {
          "font": {
           "color": "#000000"
          },
          "showarrow": false,
          "text": "-0.01",
          "x": "Type de voie",
          "xref": "x",
          "y": "Surface reelle bati",
          "yref": "y"
         },
         {
          "font": {
           "color": "#000000"
          },
          "showarrow": false,
          "text": "-0.0",
          "x": "Voie",
          "xref": "x",
          "y": "Surface reelle bati",
          "yref": "y"
         },
         {
          "font": {
           "color": "#000000"
          },
          "showarrow": false,
          "text": "-0.08",
          "x": "Code postal",
          "xref": "x",
          "y": "Surface reelle bati",
          "yref": "y"
         },
         {
          "font": {
           "color": "#000000"
          },
          "showarrow": false,
          "text": "0.16",
          "x": "Section",
          "xref": "x",
          "y": "Surface reelle bati",
          "yref": "y"
         },
         {
          "font": {
           "color": "#000000"
          },
          "showarrow": false,
          "text": "-0.1",
          "x": "No plan",
          "xref": "x",
          "y": "Surface reelle bati",
          "yref": "y"
         },
         {
          "font": {
           "color": "#000000"
          },
          "showarrow": false,
          "text": "0.21",
          "x": "1er lot",
          "xref": "x",
          "y": "Surface reelle bati",
          "yref": "y"
         },
         {
          "font": {
           "color": "#000000"
          },
          "showarrow": false,
          "text": "0.23",
          "x": "Surface Carrez du 1er lot",
          "xref": "x",
          "y": "Surface reelle bati",
          "yref": "y"
         },
         {
          "font": {
           "color": "#000000"
          },
          "showarrow": false,
          "text": "0.0",
          "x": "2eme lot",
          "xref": "x",
          "y": "Surface reelle bati",
          "yref": "y"
         },
         {
          "font": {
           "color": "#000000"
          },
          "showarrow": false,
          "text": "0.02",
          "x": "Surface Carrez du 2eme lot",
          "xref": "x",
          "y": "Surface reelle bati",
          "yref": "y"
         },
         {
          "font": {
           "color": "#000000"
          },
          "showarrow": false,
          "text": "0.13",
          "x": "3eme lot",
          "xref": "x",
          "y": "Surface reelle bati",
          "yref": "y"
         },
         {
          "font": {
           "color": "#000000"
          },
          "showarrow": false,
          "text": "-0.03",
          "x": "Surface Carrez du 3eme lot",
          "xref": "x",
          "y": "Surface reelle bati",
          "yref": "y"
         },
         {
          "font": {
           "color": "#000000"
          },
          "showarrow": false,
          "text": "0.14",
          "x": "4eme lot",
          "xref": "x",
          "y": "Surface reelle bati",
          "yref": "y"
         },
         {
          "font": {
           "color": "#000000"
          },
          "showarrow": false,
          "text": "-0.01",
          "x": "Surface Carrez du 4eme lot",
          "xref": "x",
          "y": "Surface reelle bati",
          "yref": "y"
         },
         {
          "font": {
           "color": "#000000"
          },
          "showarrow": false,
          "text": "0.37",
          "x": "5eme lot",
          "xref": "x",
          "y": "Surface reelle bati",
          "yref": "y"
         },
         {
          "font": {
           "color": "#000000"
          },
          "showarrow": false,
          "text": "-0.01",
          "x": "Surface Carrez du 5eme lot",
          "xref": "x",
          "y": "Surface reelle bati",
          "yref": "y"
         },
         {
          "font": {
           "color": "#000000"
          },
          "showarrow": false,
          "text": "-0.18",
          "x": "Nombre de lots",
          "xref": "x",
          "y": "Surface reelle bati",
          "yref": "y"
         },
         {
          "font": {
           "color": "#000000"
          },
          "showarrow": false,
          "text": "-0.49",
          "x": "Code type local",
          "xref": "x",
          "y": "Surface reelle bati",
          "yref": "y"
         },
         {
          "font": {
           "color": "#000000"
          },
          "showarrow": false,
          "text": "1.0",
          "x": "Surface reelle bati",
          "xref": "x",
          "y": "Surface reelle bati",
          "yref": "y"
         },
         {
          "font": {
           "color": "#000000"
          },
          "showarrow": false,
          "text": "0.85",
          "x": "Nombre pieces principales",
          "xref": "x",
          "y": "Surface reelle bati",
          "yref": "y"
         },
         {
          "font": {
           "color": "#000000"
          },
          "showarrow": false,
          "text": "-0.34",
          "x": "Nature culture",
          "xref": "x",
          "y": "Surface reelle bati",
          "yref": "y"
         },
         {
          "font": {
           "color": "#000000"
          },
          "showarrow": false,
          "text": "0.0",
          "x": "Nature culture speciale",
          "xref": "x",
          "y": "Surface reelle bati",
          "yref": "y"
         },
         {
          "font": {
           "color": "#000000"
          },
          "showarrow": false,
          "text": "0.09",
          "x": "Surface terrain",
          "xref": "x",
          "y": "Surface reelle bati",
          "yref": "y"
         },
         {
          "font": {
           "color": "#000000"
          },
          "showarrow": false,
          "text": "-0.01",
          "x": "Date mutation",
          "xref": "x",
          "y": "Nombre pieces principales",
          "yref": "y"
         },
         {
          "font": {
           "color": "#000000"
          },
          "showarrow": false,
          "text": "0.01",
          "x": "Nature mutation",
          "xref": "x",
          "y": "Nombre pieces principales",
          "yref": "y"
         },
         {
          "font": {
           "color": "#000000"
          },
          "showarrow": false,
          "text": "0.51",
          "x": "Valeur fonciere",
          "xref": "x",
          "y": "Nombre pieces principales",
          "yref": "y"
         },
         {
          "font": {
           "color": "#000000"
          },
          "showarrow": false,
          "text": "-0.0",
          "x": "B/T/Q",
          "xref": "x",
          "y": "Nombre pieces principales",
          "yref": "y"
         },
         {
          "font": {
           "color": "#000000"
          },
          "showarrow": false,
          "text": "-0.03",
          "x": "Type de voie",
          "xref": "x",
          "y": "Nombre pieces principales",
          "yref": "y"
         },
         {
          "font": {
           "color": "#000000"
          },
          "showarrow": false,
          "text": "0.0",
          "x": "Voie",
          "xref": "x",
          "y": "Nombre pieces principales",
          "yref": "y"
         },
         {
          "font": {
           "color": "#000000"
          },
          "showarrow": false,
          "text": "-0.04",
          "x": "Code postal",
          "xref": "x",
          "y": "Nombre pieces principales",
          "yref": "y"
         },
         {
          "font": {
           "color": "#000000"
          },
          "showarrow": false,
          "text": "0.18",
          "x": "Section",
          "xref": "x",
          "y": "Nombre pieces principales",
          "yref": "y"
         },
         {
          "font": {
           "color": "#000000"
          },
          "showarrow": false,
          "text": "-0.12",
          "x": "No plan",
          "xref": "x",
          "y": "Nombre pieces principales",
          "yref": "y"
         },
         {
          "font": {
           "color": "#000000"
          },
          "showarrow": false,
          "text": "0.21",
          "x": "1er lot",
          "xref": "x",
          "y": "Nombre pieces principales",
          "yref": "y"
         },
         {
          "font": {
           "color": "#000000"
          },
          "showarrow": false,
          "text": "0.27",
          "x": "Surface Carrez du 1er lot",
          "xref": "x",
          "y": "Nombre pieces principales",
          "yref": "y"
         },
         {
          "font": {
           "color": "#000000"
          },
          "showarrow": false,
          "text": "0.05",
          "x": "2eme lot",
          "xref": "x",
          "y": "Nombre pieces principales",
          "yref": "y"
         },
         {
          "font": {
           "color": "#000000"
          },
          "showarrow": false,
          "text": "0.02",
          "x": "Surface Carrez du 2eme lot",
          "xref": "x",
          "y": "Nombre pieces principales",
          "yref": "y"
         },
         {
          "font": {
           "color": "#000000"
          },
          "showarrow": false,
          "text": "0.09",
          "x": "3eme lot",
          "xref": "x",
          "y": "Nombre pieces principales",
          "yref": "y"
         },
         {
          "font": {
           "color": "#000000"
          },
          "showarrow": false,
          "text": "-0.02",
          "x": "Surface Carrez du 3eme lot",
          "xref": "x",
          "y": "Nombre pieces principales",
          "yref": "y"
         },
         {
          "font": {
           "color": "#000000"
          },
          "showarrow": false,
          "text": "0.1",
          "x": "4eme lot",
          "xref": "x",
          "y": "Nombre pieces principales",
          "yref": "y"
         },
         {
          "font": {
           "color": "#000000"
          },
          "showarrow": false,
          "text": "-0.01",
          "x": "Surface Carrez du 4eme lot",
          "xref": "x",
          "y": "Nombre pieces principales",
          "yref": "y"
         },
         {
          "font": {
           "color": "#000000"
          },
          "showarrow": false,
          "text": "0.32",
          "x": "5eme lot",
          "xref": "x",
          "y": "Nombre pieces principales",
          "yref": "y"
         },
         {
          "font": {
           "color": "#000000"
          },
          "showarrow": false,
          "text": "-0.0",
          "x": "Surface Carrez du 5eme lot",
          "xref": "x",
          "y": "Nombre pieces principales",
          "yref": "y"
         },
         {
          "font": {
           "color": "#000000"
          },
          "showarrow": false,
          "text": "-0.17",
          "x": "Nombre de lots",
          "xref": "x",
          "y": "Nombre pieces principales",
          "yref": "y"
         },
         {
          "font": {
           "color": "#000000"
          },
          "showarrow": false,
          "text": "-0.48",
          "x": "Code type local",
          "xref": "x",
          "y": "Nombre pieces principales",
          "yref": "y"
         },
         {
          "font": {
           "color": "#000000"
          },
          "showarrow": false,
          "text": "0.85",
          "x": "Surface reelle bati",
          "xref": "x",
          "y": "Nombre pieces principales",
          "yref": "y"
         },
         {
          "font": {
           "color": "#000000"
          },
          "showarrow": false,
          "text": "1.0",
          "x": "Nombre pieces principales",
          "xref": "x",
          "y": "Nombre pieces principales",
          "yref": "y"
         },
         {
          "font": {
           "color": "#000000"
          },
          "showarrow": false,
          "text": "-0.33",
          "x": "Nature culture",
          "xref": "x",
          "y": "Nombre pieces principales",
          "yref": "y"
         },
         {
          "font": {
           "color": "#000000"
          },
          "showarrow": false,
          "text": "-0.0",
          "x": "Nature culture speciale",
          "xref": "x",
          "y": "Nombre pieces principales",
          "yref": "y"
         },
         {
          "font": {
           "color": "#000000"
          },
          "showarrow": false,
          "text": "0.09",
          "x": "Surface terrain",
          "xref": "x",
          "y": "Nombre pieces principales",
          "yref": "y"
         },
         {
          "font": {
           "color": "#000000"
          },
          "showarrow": false,
          "text": "0.02",
          "x": "Date mutation",
          "xref": "x",
          "y": "Nature culture",
          "yref": "y"
         },
         {
          "font": {
           "color": "#000000"
          },
          "showarrow": false,
          "text": "0.01",
          "x": "Nature mutation",
          "xref": "x",
          "y": "Nature culture",
          "yref": "y"
         },
         {
          "font": {
           "color": "#000000"
          },
          "showarrow": false,
          "text": "-0.55",
          "x": "Valeur fonciere",
          "xref": "x",
          "y": "Nature culture",
          "yref": "y"
         },
         {
          "font": {
           "color": "#000000"
          },
          "showarrow": false,
          "text": "0.03",
          "x": "B/T/Q",
          "xref": "x",
          "y": "Nature culture",
          "yref": "y"
         },
         {
          "font": {
           "color": "#000000"
          },
          "showarrow": false,
          "text": "-0.06",
          "x": "Type de voie",
          "xref": "x",
          "y": "Nature culture",
          "yref": "y"
         },
         {
          "font": {
           "color": "#000000"
          },
          "showarrow": false,
          "text": "0.04",
          "x": "Voie",
          "xref": "x",
          "y": "Nature culture",
          "yref": "y"
         },
         {
          "font": {
           "color": "#000000"
          },
          "showarrow": false,
          "text": "-0.06",
          "x": "Code postal",
          "xref": "x",
          "y": "Nature culture",
          "yref": "y"
         },
         {
          "font": {
           "color": "#000000"
          },
          "showarrow": false,
          "text": "0.07",
          "x": "Section",
          "xref": "x",
          "y": "Nature culture",
          "yref": "y"
         },
         {
          "font": {
           "color": "#000000"
          },
          "showarrow": false,
          "text": "0.01",
          "x": "No plan",
          "xref": "x",
          "y": "Nature culture",
          "yref": "y"
         },
         {
          "font": {
           "color": "#000000"
          },
          "showarrow": false,
          "text": "-0.67",
          "x": "1er lot",
          "xref": "x",
          "y": "Nature culture",
          "yref": "y"
         },
         {
          "font": {
           "color": "#000000"
          },
          "showarrow": false,
          "text": "-0.35",
          "x": "Surface Carrez du 1er lot",
          "xref": "x",
          "y": "Nature culture",
          "yref": "y"
         },
         {
          "font": {
           "color": "#000000"
          },
          "showarrow": false,
          "text": "nan",
          "x": "2eme lot",
          "xref": "x",
          "y": "Nature culture",
          "yref": "y"
         },
         {
          "font": {
           "color": "#000000"
          },
          "showarrow": false,
          "text": "-0.1",
          "x": "Surface Carrez du 2eme lot",
          "xref": "x",
          "y": "Nature culture",
          "yref": "y"
         },
         {
          "font": {
           "color": "#000000"
          },
          "showarrow": false,
          "text": "nan",
          "x": "3eme lot",
          "xref": "x",
          "y": "Nature culture",
          "yref": "y"
         },
         {
          "font": {
           "color": "#000000"
          },
          "showarrow": false,
          "text": "-0.03",
          "x": "Surface Carrez du 3eme lot",
          "xref": "x",
          "y": "Nature culture",
          "yref": "y"
         },
         {
          "font": {
           "color": "#000000"
          },
          "showarrow": false,
          "text": "nan",
          "x": "4eme lot",
          "xref": "x",
          "y": "Nature culture",
          "yref": "y"
         },
         {
          "font": {
           "color": "#000000"
          },
          "showarrow": false,
          "text": "-0.02",
          "x": "Surface Carrez du 4eme lot",
          "xref": "x",
          "y": "Nature culture",
          "yref": "y"
         },
         {
          "font": {
           "color": "#000000"
          },
          "showarrow": false,
          "text": "nan",
          "x": "5eme lot",
          "xref": "x",
          "y": "Nature culture",
          "yref": "y"
         },
         {
          "font": {
           "color": "#000000"
          },
          "showarrow": false,
          "text": "-0.01",
          "x": "Surface Carrez du 5eme lot",
          "xref": "x",
          "y": "Nature culture",
          "yref": "y"
         },
         {
          "font": {
           "color": "#000000"
          },
          "showarrow": false,
          "text": "0.74",
          "x": "Nombre de lots",
          "xref": "x",
          "y": "Nature culture",
          "yref": "y"
         },
         {
          "font": {
           "color": "#000000"
          },
          "showarrow": false,
          "text": "0.74",
          "x": "Code type local",
          "xref": "x",
          "y": "Nature culture",
          "yref": "y"
         },
         {
          "font": {
           "color": "#000000"
          },
          "showarrow": false,
          "text": "-0.34",
          "x": "Surface reelle bati",
          "xref": "x",
          "y": "Nature culture",
          "yref": "y"
         },
         {
          "font": {
           "color": "#000000"
          },
          "showarrow": false,
          "text": "-0.33",
          "x": "Nombre pieces principales",
          "xref": "x",
          "y": "Nature culture",
          "yref": "y"
         },
         {
          "font": {
           "color": "#000000"
          },
          "showarrow": false,
          "text": "1.0",
          "x": "Nature culture",
          "xref": "x",
          "y": "Nature culture",
          "yref": "y"
         },
         {
          "font": {
           "color": "#000000"
          },
          "showarrow": false,
          "text": "0.09",
          "x": "Nature culture speciale",
          "xref": "x",
          "y": "Nature culture",
          "yref": "y"
         },
         {
          "font": {
           "color": "#000000"
          },
          "showarrow": false,
          "text": "-0.16",
          "x": "Surface terrain",
          "xref": "x",
          "y": "Nature culture",
          "yref": "y"
         },
         {
          "font": {
           "color": "#000000"
          },
          "showarrow": false,
          "text": "0.01",
          "x": "Date mutation",
          "xref": "x",
          "y": "Nature culture speciale",
          "yref": "y"
         },
         {
          "font": {
           "color": "#000000"
          },
          "showarrow": false,
          "text": "0.05",
          "x": "Nature mutation",
          "xref": "x",
          "y": "Nature culture speciale",
          "yref": "y"
         },
         {
          "font": {
           "color": "#000000"
          },
          "showarrow": false,
          "text": "-0.02",
          "x": "Valeur fonciere",
          "xref": "x",
          "y": "Nature culture speciale",
          "yref": "y"
         },
         {
          "font": {
           "color": "#000000"
          },
          "showarrow": false,
          "text": "-0.0",
          "x": "B/T/Q",
          "xref": "x",
          "y": "Nature culture speciale",
          "yref": "y"
         },
         {
          "font": {
           "color": "#000000"
          },
          "showarrow": false,
          "text": "0.01",
          "x": "Type de voie",
          "xref": "x",
          "y": "Nature culture speciale",
          "yref": "y"
         },
         {
          "font": {
           "color": "#000000"
          },
          "showarrow": false,
          "text": "0.02",
          "x": "Voie",
          "xref": "x",
          "y": "Nature culture speciale",
          "yref": "y"
         },
         {
          "font": {
           "color": "#000000"
          },
          "showarrow": false,
          "text": "-0.01",
          "x": "Code postal",
          "xref": "x",
          "y": "Nature culture speciale",
          "yref": "y"
         },
         {
          "font": {
           "color": "#000000"
          },
          "showarrow": false,
          "text": "0.02",
          "x": "Section",
          "xref": "x",
          "y": "Nature culture speciale",
          "yref": "y"
         },
         {
          "font": {
           "color": "#000000"
          },
          "showarrow": false,
          "text": "0.01",
          "x": "No plan",
          "xref": "x",
          "y": "Nature culture speciale",
          "yref": "y"
         },
         {
          "font": {
           "color": "#000000"
          },
          "showarrow": false,
          "text": "-0.03",
          "x": "1er lot",
          "xref": "x",
          "y": "Nature culture speciale",
          "yref": "y"
         },
         {
          "font": {
           "color": "#000000"
          },
          "showarrow": false,
          "text": "-0.01",
          "x": "Surface Carrez du 1er lot",
          "xref": "x",
          "y": "Nature culture speciale",
          "yref": "y"
         },
         {
          "font": {
           "color": "#000000"
          },
          "showarrow": false,
          "text": "nan",
          "x": "2eme lot",
          "xref": "x",
          "y": "Nature culture speciale",
          "yref": "y"
         },
         {
          "font": {
           "color": "#000000"
          },
          "showarrow": false,
          "text": "-0.0",
          "x": "Surface Carrez du 2eme lot",
          "xref": "x",
          "y": "Nature culture speciale",
          "yref": "y"
         },
         {
          "font": {
           "color": "#000000"
          },
          "showarrow": false,
          "text": "nan",
          "x": "3eme lot",
          "xref": "x",
          "y": "Nature culture speciale",
          "yref": "y"
         },
         {
          "font": {
           "color": "#000000"
          },
          "showarrow": false,
          "text": "-0.0",
          "x": "Surface Carrez du 3eme lot",
          "xref": "x",
          "y": "Nature culture speciale",
          "yref": "y"
         },
         {
          "font": {
           "color": "#000000"
          },
          "showarrow": false,
          "text": "nan",
          "x": "4eme lot",
          "xref": "x",
          "y": "Nature culture speciale",
          "yref": "y"
         },
         {
          "font": {
           "color": "#000000"
          },
          "showarrow": false,
          "text": "-0.0",
          "x": "Surface Carrez du 4eme lot",
          "xref": "x",
          "y": "Nature culture speciale",
          "yref": "y"
         },
         {
          "font": {
           "color": "#000000"
          },
          "showarrow": false,
          "text": "nan",
          "x": "5eme lot",
          "xref": "x",
          "y": "Nature culture speciale",
          "yref": "y"
         },
         {
          "font": {
           "color": "#000000"
          },
          "showarrow": false,
          "text": "-0.0",
          "x": "Surface Carrez du 5eme lot",
          "xref": "x",
          "y": "Nature culture speciale",
          "yref": "y"
         },
         {
          "font": {
           "color": "#000000"
          },
          "showarrow": false,
          "text": "0.03",
          "x": "Nombre de lots",
          "xref": "x",
          "y": "Nature culture speciale",
          "yref": "y"
         },
         {
          "font": {
           "color": "#000000"
          },
          "showarrow": false,
          "text": "0.01",
          "x": "Code type local",
          "xref": "x",
          "y": "Nature culture speciale",
          "yref": "y"
         },
         {
          "font": {
           "color": "#000000"
          },
          "showarrow": false,
          "text": "0.0",
          "x": "Surface reelle bati",
          "xref": "x",
          "y": "Nature culture speciale",
          "yref": "y"
         },
         {
          "font": {
           "color": "#000000"
          },
          "showarrow": false,
          "text": "-0.0",
          "x": "Nombre pieces principales",
          "xref": "x",
          "y": "Nature culture speciale",
          "yref": "y"
         },
         {
          "font": {
           "color": "#000000"
          },
          "showarrow": false,
          "text": "0.09",
          "x": "Nature culture",
          "xref": "x",
          "y": "Nature culture speciale",
          "yref": "y"
         },
         {
          "font": {
           "color": "#000000"
          },
          "showarrow": false,
          "text": "1.0",
          "x": "Nature culture speciale",
          "xref": "x",
          "y": "Nature culture speciale",
          "yref": "y"
         },
         {
          "font": {
           "color": "#000000"
          },
          "showarrow": false,
          "text": "-0.06",
          "x": "Surface terrain",
          "xref": "x",
          "y": "Nature culture speciale",
          "yref": "y"
         },
         {
          "font": {
           "color": "#000000"
          },
          "showarrow": false,
          "text": "0.02",
          "x": "Date mutation",
          "xref": "x",
          "y": "Surface terrain",
          "yref": "y"
         },
         {
          "font": {
           "color": "#000000"
          },
          "showarrow": false,
          "text": "-0.02",
          "x": "Nature mutation",
          "xref": "x",
          "y": "Surface terrain",
          "yref": "y"
         },
         {
          "font": {
           "color": "#000000"
          },
          "showarrow": false,
          "text": "0.01",
          "x": "Valeur fonciere",
          "xref": "x",
          "y": "Surface terrain",
          "yref": "y"
         },
         {
          "font": {
           "color": "#000000"
          },
          "showarrow": false,
          "text": "0.02",
          "x": "B/T/Q",
          "xref": "x",
          "y": "Surface terrain",
          "yref": "y"
         },
         {
          "font": {
           "color": "#000000"
          },
          "showarrow": false,
          "text": "-0.06",
          "x": "Type de voie",
          "xref": "x",
          "y": "Surface terrain",
          "yref": "y"
         },
         {
          "font": {
           "color": "#000000"
          },
          "showarrow": false,
          "text": "-0.02",
          "x": "Voie",
          "xref": "x",
          "y": "Surface terrain",
          "yref": "y"
         },
         {
          "font": {
           "color": "#000000"
          },
          "showarrow": false,
          "text": "-0.04",
          "x": "Code postal",
          "xref": "x",
          "y": "Surface terrain",
          "yref": "y"
         },
         {
          "font": {
           "color": "#000000"
          },
          "showarrow": false,
          "text": "0.08",
          "x": "Section",
          "xref": "x",
          "y": "Surface terrain",
          "yref": "y"
         },
         {
          "font": {
           "color": "#000000"
          },
          "showarrow": false,
          "text": "-0.11",
          "x": "No plan",
          "xref": "x",
          "y": "Surface terrain",
          "yref": "y"
         },
         {
          "font": {
           "color": "#000000"
          },
          "showarrow": false,
          "text": "0.01",
          "x": "1er lot",
          "xref": "x",
          "y": "Surface terrain",
          "yref": "y"
         },
         {
          "font": {
           "color": "#000000"
          },
          "showarrow": false,
          "text": "-0.0",
          "x": "Surface Carrez du 1er lot",
          "xref": "x",
          "y": "Surface terrain",
          "yref": "y"
         },
         {
          "font": {
           "color": "#000000"
          },
          "showarrow": false,
          "text": "nan",
          "x": "2eme lot",
          "xref": "x",
          "y": "Surface terrain",
          "yref": "y"
         },
         {
          "font": {
           "color": "#000000"
          },
          "showarrow": false,
          "text": "nan",
          "x": "Surface Carrez du 2eme lot",
          "xref": "x",
          "y": "Surface terrain",
          "yref": "y"
         },
         {
          "font": {
           "color": "#000000"
          },
          "showarrow": false,
          "text": "nan",
          "x": "3eme lot",
          "xref": "x",
          "y": "Surface terrain",
          "yref": "y"
         },
         {
          "font": {
           "color": "#000000"
          },
          "showarrow": false,
          "text": "nan",
          "x": "Surface Carrez du 3eme lot",
          "xref": "x",
          "y": "Surface terrain",
          "yref": "y"
         },
         {
          "font": {
           "color": "#000000"
          },
          "showarrow": false,
          "text": "nan",
          "x": "4eme lot",
          "xref": "x",
          "y": "Surface terrain",
          "yref": "y"
         },
         {
          "font": {
           "color": "#000000"
          },
          "showarrow": false,
          "text": "nan",
          "x": "Surface Carrez du 4eme lot",
          "xref": "x",
          "y": "Surface terrain",
          "yref": "y"
         },
         {
          "font": {
           "color": "#000000"
          },
          "showarrow": false,
          "text": "nan",
          "x": "5eme lot",
          "xref": "x",
          "y": "Surface terrain",
          "yref": "y"
         },
         {
          "font": {
           "color": "#000000"
          },
          "showarrow": false,
          "text": "nan",
          "x": "Surface Carrez du 5eme lot",
          "xref": "x",
          "y": "Surface terrain",
          "yref": "y"
         },
         {
          "font": {
           "color": "#000000"
          },
          "showarrow": false,
          "text": "-0.01",
          "x": "Nombre de lots",
          "xref": "x",
          "y": "Surface terrain",
          "yref": "y"
         },
         {
          "font": {
           "color": "#000000"
          },
          "showarrow": false,
          "text": "0.01",
          "x": "Code type local",
          "xref": "x",
          "y": "Surface terrain",
          "yref": "y"
         },
         {
          "font": {
           "color": "#000000"
          },
          "showarrow": false,
          "text": "0.09",
          "x": "Surface reelle bati",
          "xref": "x",
          "y": "Surface terrain",
          "yref": "y"
         },
         {
          "font": {
           "color": "#000000"
          },
          "showarrow": false,
          "text": "0.09",
          "x": "Nombre pieces principales",
          "xref": "x",
          "y": "Surface terrain",
          "yref": "y"
         },
         {
          "font": {
           "color": "#000000"
          },
          "showarrow": false,
          "text": "-0.16",
          "x": "Nature culture",
          "xref": "x",
          "y": "Surface terrain",
          "yref": "y"
         },
         {
          "font": {
           "color": "#000000"
          },
          "showarrow": false,
          "text": "-0.06",
          "x": "Nature culture speciale",
          "xref": "x",
          "y": "Surface terrain",
          "yref": "y"
         },
         {
          "font": {
           "color": "#000000"
          },
          "showarrow": false,
          "text": "1.0",
          "x": "Surface terrain",
          "xref": "x",
          "y": "Surface terrain",
          "yref": "y"
         }
        ],
        "template": {
         "data": {
          "bar": [
           {
            "error_x": {
             "color": "#2a3f5f"
            },
            "error_y": {
             "color": "#2a3f5f"
            },
            "marker": {
             "line": {
              "color": "#E5ECF6",
              "width": 0.5
             },
             "pattern": {
              "fillmode": "overlay",
              "size": 10,
              "solidity": 0.2
             }
            },
            "type": "bar"
           }
          ],
          "barpolar": [
           {
            "marker": {
             "line": {
              "color": "#E5ECF6",
              "width": 0.5
             },
             "pattern": {
              "fillmode": "overlay",
              "size": 10,
              "solidity": 0.2
             }
            },
            "type": "barpolar"
           }
          ],
          "carpet": [
           {
            "aaxis": {
             "endlinecolor": "#2a3f5f",
             "gridcolor": "white",
             "linecolor": "white",
             "minorgridcolor": "white",
             "startlinecolor": "#2a3f5f"
            },
            "baxis": {
             "endlinecolor": "#2a3f5f",
             "gridcolor": "white",
             "linecolor": "white",
             "minorgridcolor": "white",
             "startlinecolor": "#2a3f5f"
            },
            "type": "carpet"
           }
          ],
          "choropleth": [
           {
            "colorbar": {
             "outlinewidth": 0,
             "ticks": ""
            },
            "type": "choropleth"
           }
          ],
          "contour": [
           {
            "colorbar": {
             "outlinewidth": 0,
             "ticks": ""
            },
            "colorscale": [
             [
              0,
              "#0d0887"
             ],
             [
              0.1111111111111111,
              "#46039f"
             ],
             [
              0.2222222222222222,
              "#7201a8"
             ],
             [
              0.3333333333333333,
              "#9c179e"
             ],
             [
              0.4444444444444444,
              "#bd3786"
             ],
             [
              0.5555555555555556,
              "#d8576b"
             ],
             [
              0.6666666666666666,
              "#ed7953"
             ],
             [
              0.7777777777777778,
              "#fb9f3a"
             ],
             [
              0.8888888888888888,
              "#fdca26"
             ],
             [
              1,
              "#f0f921"
             ]
            ],
            "type": "contour"
           }
          ],
          "contourcarpet": [
           {
            "colorbar": {
             "outlinewidth": 0,
             "ticks": ""
            },
            "type": "contourcarpet"
           }
          ],
          "heatmap": [
           {
            "colorbar": {
             "outlinewidth": 0,
             "ticks": ""
            },
            "colorscale": [
             [
              0,
              "#0d0887"
             ],
             [
              0.1111111111111111,
              "#46039f"
             ],
             [
              0.2222222222222222,
              "#7201a8"
             ],
             [
              0.3333333333333333,
              "#9c179e"
             ],
             [
              0.4444444444444444,
              "#bd3786"
             ],
             [
              0.5555555555555556,
              "#d8576b"
             ],
             [
              0.6666666666666666,
              "#ed7953"
             ],
             [
              0.7777777777777778,
              "#fb9f3a"
             ],
             [
              0.8888888888888888,
              "#fdca26"
             ],
             [
              1,
              "#f0f921"
             ]
            ],
            "type": "heatmap"
           }
          ],
          "heatmapgl": [
           {
            "colorbar": {
             "outlinewidth": 0,
             "ticks": ""
            },
            "colorscale": [
             [
              0,
              "#0d0887"
             ],
             [
              0.1111111111111111,
              "#46039f"
             ],
             [
              0.2222222222222222,
              "#7201a8"
             ],
             [
              0.3333333333333333,
              "#9c179e"
             ],
             [
              0.4444444444444444,
              "#bd3786"
             ],
             [
              0.5555555555555556,
              "#d8576b"
             ],
             [
              0.6666666666666666,
              "#ed7953"
             ],
             [
              0.7777777777777778,
              "#fb9f3a"
             ],
             [
              0.8888888888888888,
              "#fdca26"
             ],
             [
              1,
              "#f0f921"
             ]
            ],
            "type": "heatmapgl"
           }
          ],
          "histogram": [
           {
            "marker": {
             "pattern": {
              "fillmode": "overlay",
              "size": 10,
              "solidity": 0.2
             }
            },
            "type": "histogram"
           }
          ],
          "histogram2d": [
           {
            "colorbar": {
             "outlinewidth": 0,
             "ticks": ""
            },
            "colorscale": [
             [
              0,
              "#0d0887"
             ],
             [
              0.1111111111111111,
              "#46039f"
             ],
             [
              0.2222222222222222,
              "#7201a8"
             ],
             [
              0.3333333333333333,
              "#9c179e"
             ],
             [
              0.4444444444444444,
              "#bd3786"
             ],
             [
              0.5555555555555556,
              "#d8576b"
             ],
             [
              0.6666666666666666,
              "#ed7953"
             ],
             [
              0.7777777777777778,
              "#fb9f3a"
             ],
             [
              0.8888888888888888,
              "#fdca26"
             ],
             [
              1,
              "#f0f921"
             ]
            ],
            "type": "histogram2d"
           }
          ],
          "histogram2dcontour": [
           {
            "colorbar": {
             "outlinewidth": 0,
             "ticks": ""
            },
            "colorscale": [
             [
              0,
              "#0d0887"
             ],
             [
              0.1111111111111111,
              "#46039f"
             ],
             [
              0.2222222222222222,
              "#7201a8"
             ],
             [
              0.3333333333333333,
              "#9c179e"
             ],
             [
              0.4444444444444444,
              "#bd3786"
             ],
             [
              0.5555555555555556,
              "#d8576b"
             ],
             [
              0.6666666666666666,
              "#ed7953"
             ],
             [
              0.7777777777777778,
              "#fb9f3a"
             ],
             [
              0.8888888888888888,
              "#fdca26"
             ],
             [
              1,
              "#f0f921"
             ]
            ],
            "type": "histogram2dcontour"
           }
          ],
          "mesh3d": [
           {
            "colorbar": {
             "outlinewidth": 0,
             "ticks": ""
            },
            "type": "mesh3d"
           }
          ],
          "parcoords": [
           {
            "line": {
             "colorbar": {
              "outlinewidth": 0,
              "ticks": ""
             }
            },
            "type": "parcoords"
           }
          ],
          "pie": [
           {
            "automargin": true,
            "type": "pie"
           }
          ],
          "scatter": [
           {
            "fillpattern": {
             "fillmode": "overlay",
             "size": 10,
             "solidity": 0.2
            },
            "type": "scatter"
           }
          ],
          "scatter3d": [
           {
            "line": {
             "colorbar": {
              "outlinewidth": 0,
              "ticks": ""
             }
            },
            "marker": {
             "colorbar": {
              "outlinewidth": 0,
              "ticks": ""
             }
            },
            "type": "scatter3d"
           }
          ],
          "scattercarpet": [
           {
            "marker": {
             "colorbar": {
              "outlinewidth": 0,
              "ticks": ""
             }
            },
            "type": "scattercarpet"
           }
          ],
          "scattergeo": [
           {
            "marker": {
             "colorbar": {
              "outlinewidth": 0,
              "ticks": ""
             }
            },
            "type": "scattergeo"
           }
          ],
          "scattergl": [
           {
            "marker": {
             "colorbar": {
              "outlinewidth": 0,
              "ticks": ""
             }
            },
            "type": "scattergl"
           }
          ],
          "scattermapbox": [
           {
            "marker": {
             "colorbar": {
              "outlinewidth": 0,
              "ticks": ""
             }
            },
            "type": "scattermapbox"
           }
          ],
          "scatterpolar": [
           {
            "marker": {
             "colorbar": {
              "outlinewidth": 0,
              "ticks": ""
             }
            },
            "type": "scatterpolar"
           }
          ],
          "scatterpolargl": [
           {
            "marker": {
             "colorbar": {
              "outlinewidth": 0,
              "ticks": ""
             }
            },
            "type": "scatterpolargl"
           }
          ],
          "scatterternary": [
           {
            "marker": {
             "colorbar": {
              "outlinewidth": 0,
              "ticks": ""
             }
            },
            "type": "scatterternary"
           }
          ],
          "surface": [
           {
            "colorbar": {
             "outlinewidth": 0,
             "ticks": ""
            },
            "colorscale": [
             [
              0,
              "#0d0887"
             ],
             [
              0.1111111111111111,
              "#46039f"
             ],
             [
              0.2222222222222222,
              "#7201a8"
             ],
             [
              0.3333333333333333,
              "#9c179e"
             ],
             [
              0.4444444444444444,
              "#bd3786"
             ],
             [
              0.5555555555555556,
              "#d8576b"
             ],
             [
              0.6666666666666666,
              "#ed7953"
             ],
             [
              0.7777777777777778,
              "#fb9f3a"
             ],
             [
              0.8888888888888888,
              "#fdca26"
             ],
             [
              1,
              "#f0f921"
             ]
            ],
            "type": "surface"
           }
          ],
          "table": [
           {
            "cells": {
             "fill": {
              "color": "#EBF0F8"
             },
             "line": {
              "color": "white"
             }
            },
            "header": {
             "fill": {
              "color": "#C8D4E3"
             },
             "line": {
              "color": "white"
             }
            },
            "type": "table"
           }
          ]
         },
         "layout": {
          "annotationdefaults": {
           "arrowcolor": "#2a3f5f",
           "arrowhead": 0,
           "arrowwidth": 1
          },
          "autotypenumbers": "strict",
          "coloraxis": {
           "colorbar": {
            "outlinewidth": 0,
            "ticks": ""
           }
          },
          "colorscale": {
           "diverging": [
            [
             0,
             "#8e0152"
            ],
            [
             0.1,
             "#c51b7d"
            ],
            [
             0.2,
             "#de77ae"
            ],
            [
             0.3,
             "#f1b6da"
            ],
            [
             0.4,
             "#fde0ef"
            ],
            [
             0.5,
             "#f7f7f7"
            ],
            [
             0.6,
             "#e6f5d0"
            ],
            [
             0.7,
             "#b8e186"
            ],
            [
             0.8,
             "#7fbc41"
            ],
            [
             0.9,
             "#4d9221"
            ],
            [
             1,
             "#276419"
            ]
           ],
           "sequential": [
            [
             0,
             "#0d0887"
            ],
            [
             0.1111111111111111,
             "#46039f"
            ],
            [
             0.2222222222222222,
             "#7201a8"
            ],
            [
             0.3333333333333333,
             "#9c179e"
            ],
            [
             0.4444444444444444,
             "#bd3786"
            ],
            [
             0.5555555555555556,
             "#d8576b"
            ],
            [
             0.6666666666666666,
             "#ed7953"
            ],
            [
             0.7777777777777778,
             "#fb9f3a"
            ],
            [
             0.8888888888888888,
             "#fdca26"
            ],
            [
             1,
             "#f0f921"
            ]
           ],
           "sequentialminus": [
            [
             0,
             "#0d0887"
            ],
            [
             0.1111111111111111,
             "#46039f"
            ],
            [
             0.2222222222222222,
             "#7201a8"
            ],
            [
             0.3333333333333333,
             "#9c179e"
            ],
            [
             0.4444444444444444,
             "#bd3786"
            ],
            [
             0.5555555555555556,
             "#d8576b"
            ],
            [
             0.6666666666666666,
             "#ed7953"
            ],
            [
             0.7777777777777778,
             "#fb9f3a"
            ],
            [
             0.8888888888888888,
             "#fdca26"
            ],
            [
             1,
             "#f0f921"
            ]
           ]
          },
          "colorway": [
           "#636efa",
           "#EF553B",
           "#00cc96",
           "#ab63fa",
           "#FFA15A",
           "#19d3f3",
           "#FF6692",
           "#B6E880",
           "#FF97FF",
           "#FECB52"
          ],
          "font": {
           "color": "#2a3f5f"
          },
          "geo": {
           "bgcolor": "white",
           "lakecolor": "white",
           "landcolor": "#E5ECF6",
           "showlakes": true,
           "showland": true,
           "subunitcolor": "white"
          },
          "hoverlabel": {
           "align": "left"
          },
          "hovermode": "closest",
          "mapbox": {
           "style": "light"
          },
          "paper_bgcolor": "white",
          "plot_bgcolor": "#E5ECF6",
          "polar": {
           "angularaxis": {
            "gridcolor": "white",
            "linecolor": "white",
            "ticks": ""
           },
           "bgcolor": "#E5ECF6",
           "radialaxis": {
            "gridcolor": "white",
            "linecolor": "white",
            "ticks": ""
           }
          },
          "scene": {
           "xaxis": {
            "backgroundcolor": "#E5ECF6",
            "gridcolor": "white",
            "gridwidth": 2,
            "linecolor": "white",
            "showbackground": true,
            "ticks": "",
            "zerolinecolor": "white"
           },
           "yaxis": {
            "backgroundcolor": "#E5ECF6",
            "gridcolor": "white",
            "gridwidth": 2,
            "linecolor": "white",
            "showbackground": true,
            "ticks": "",
            "zerolinecolor": "white"
           },
           "zaxis": {
            "backgroundcolor": "#E5ECF6",
            "gridcolor": "white",
            "gridwidth": 2,
            "linecolor": "white",
            "showbackground": true,
            "ticks": "",
            "zerolinecolor": "white"
           }
          },
          "shapedefaults": {
           "line": {
            "color": "#2a3f5f"
           }
          },
          "ternary": {
           "aaxis": {
            "gridcolor": "white",
            "linecolor": "white",
            "ticks": ""
           },
           "baxis": {
            "gridcolor": "white",
            "linecolor": "white",
            "ticks": ""
           },
           "bgcolor": "#E5ECF6",
           "caxis": {
            "gridcolor": "white",
            "linecolor": "white",
            "ticks": ""
           }
          },
          "title": {
           "x": 0.05
          },
          "xaxis": {
           "automargin": true,
           "gridcolor": "white",
           "linecolor": "white",
           "ticks": "",
           "title": {
            "standoff": 15
           },
           "zerolinecolor": "white",
           "zerolinewidth": 2
          },
          "yaxis": {
           "automargin": true,
           "gridcolor": "white",
           "linecolor": "white",
           "ticks": "",
           "title": {
            "standoff": 15
           },
           "zerolinecolor": "white",
           "zerolinewidth": 2
          }
         }
        },
        "xaxis": {
         "dtick": 1,
         "gridcolor": "rgb(0, 0, 0)",
         "side": "top",
         "ticks": ""
        },
        "yaxis": {
         "dtick": 1,
         "ticks": "",
         "ticksuffix": "  "
        }
       }
      }
     },
     "metadata": {},
     "output_type": "display_data"
    }
   ],
   "source": [
    "# Correlation matrix\n",
    "#corr_matrix = filtered_data.corr().round(2)\n",
    "corr_matrix = filtered_data_numeric.corr().round(2)\n",
    "\n",
    "import plotly.figure_factory as ff\n",
    "\n",
    "fig = ff.create_annotated_heatmap(corr_matrix.values,\n",
    "                                  x = corr_matrix.columns.tolist(),\n",
    "                                  y = corr_matrix.index.tolist())\n",
    "\n",
    "\n",
    "fig.show()"
   ]
  },
  {
   "cell_type": "code",
   "execution_count": 27,
   "metadata": {},
   "outputs": [
    {
     "data": {
      "text/plain": [
       "Index(['Date mutation', 'Nature mutation', 'Valeur fonciere', 'B/T/Q',\n",
       "       'Type de voie', 'Voie', 'Code postal', 'Section', 'No plan', '1er lot',\n",
       "       'Surface Carrez du 1er lot', '2eme lot', 'Surface Carrez du 2eme lot',\n",
       "       '3eme lot', 'Surface Carrez du 3eme lot', '4eme lot',\n",
       "       'Surface Carrez du 4eme lot', '5eme lot', 'Surface Carrez du 5eme lot',\n",
       "       'Nombre de lots', 'Code type local', 'Surface reelle bati',\n",
       "       'Nombre pieces principales', 'Nature culture',\n",
       "       'Nature culture speciale', 'Surface terrain'],\n",
       "      dtype='object')"
      ]
     },
     "execution_count": 27,
     "metadata": {},
     "output_type": "execute_result"
    }
   ],
   "source": [
    "filtered_data.columns"
   ]
  },
  {
   "cell_type": "markdown",
   "metadata": {},
   "source": [
    "## suite data cleaning"
   ]
  },
  {
   "cell_type": "code",
   "execution_count": 28,
   "metadata": {},
   "outputs": [
    {
     "data": {
      "text/plain": [
       "(17719, 26)"
      ]
     },
     "execution_count": 28,
     "metadata": {},
     "output_type": "execute_result"
    }
   ],
   "source": [
    "filtered_data.shape"
   ]
  },
  {
   "cell_type": "code",
   "execution_count": 29,
   "metadata": {},
   "outputs": [
    {
     "data": {
      "text/html": [
       "<div>\n",
       "<style scoped>\n",
       "    .dataframe tbody tr th:only-of-type {\n",
       "        vertical-align: middle;\n",
       "    }\n",
       "\n",
       "    .dataframe tbody tr th {\n",
       "        vertical-align: top;\n",
       "    }\n",
       "\n",
       "    .dataframe thead th {\n",
       "        text-align: right;\n",
       "    }\n",
       "</style>\n",
       "<table border=\"1\" class=\"dataframe\">\n",
       "  <thead>\n",
       "    <tr style=\"text-align: right;\">\n",
       "      <th></th>\n",
       "      <th>Date mutation</th>\n",
       "      <th>Nature mutation</th>\n",
       "      <th>Valeur fonciere</th>\n",
       "      <th>B/T/Q</th>\n",
       "      <th>Type de voie</th>\n",
       "      <th>Voie</th>\n",
       "      <th>Code postal</th>\n",
       "      <th>Section</th>\n",
       "      <th>No plan</th>\n",
       "      <th>1er lot</th>\n",
       "      <th>...</th>\n",
       "      <th>Surface Carrez du 4eme lot</th>\n",
       "      <th>5eme lot</th>\n",
       "      <th>Surface Carrez du 5eme lot</th>\n",
       "      <th>Nombre de lots</th>\n",
       "      <th>Code type local</th>\n",
       "      <th>Surface reelle bati</th>\n",
       "      <th>Nombre pieces principales</th>\n",
       "      <th>Nature culture</th>\n",
       "      <th>Nature culture speciale</th>\n",
       "      <th>Surface terrain</th>\n",
       "    </tr>\n",
       "  </thead>\n",
       "  <tbody>\n",
       "    <tr>\n",
       "      <th>count</th>\n",
       "      <td>17719.000</td>\n",
       "      <td>17719</td>\n",
       "      <td>17719.000</td>\n",
       "      <td>576</td>\n",
       "      <td>17715</td>\n",
       "      <td>17719</td>\n",
       "      <td>17719.000</td>\n",
       "      <td>17676</td>\n",
       "      <td>17719.000</td>\n",
       "      <td>12396</td>\n",
       "      <td>...</td>\n",
       "      <td>16</td>\n",
       "      <td>23.000</td>\n",
       "      <td>6</td>\n",
       "      <td>17719.000</td>\n",
       "      <td>17719.000</td>\n",
       "      <td>17719.000</td>\n",
       "      <td>17719.000</td>\n",
       "      <td>5336</td>\n",
       "      <td>13</td>\n",
       "      <td>5336.000</td>\n",
       "    </tr>\n",
       "    <tr>\n",
       "      <th>unique</th>\n",
       "      <td>NaN</td>\n",
       "      <td>6</td>\n",
       "      <td>NaN</td>\n",
       "      <td>7</td>\n",
       "      <td>20</td>\n",
       "      <td>1493</td>\n",
       "      <td>NaN</td>\n",
       "      <td>339</td>\n",
       "      <td>NaN</td>\n",
       "      <td>967</td>\n",
       "      <td>...</td>\n",
       "      <td>13</td>\n",
       "      <td>NaN</td>\n",
       "      <td>3</td>\n",
       "      <td>NaN</td>\n",
       "      <td>NaN</td>\n",
       "      <td>NaN</td>\n",
       "      <td>NaN</td>\n",
       "      <td>4</td>\n",
       "      <td>1</td>\n",
       "      <td>NaN</td>\n",
       "    </tr>\n",
       "    <tr>\n",
       "      <th>top</th>\n",
       "      <td>NaN</td>\n",
       "      <td>Vente</td>\n",
       "      <td>NaN</td>\n",
       "      <td>B</td>\n",
       "      <td>RUE</td>\n",
       "      <td>SAINT LOUIS</td>\n",
       "      <td>NaN</td>\n",
       "      <td>HE</td>\n",
       "      <td>NaN</td>\n",
       "      <td>2</td>\n",
       "      <td>...</td>\n",
       "      <td>25,60</td>\n",
       "      <td>NaN</td>\n",
       "      <td>6,00</td>\n",
       "      <td>NaN</td>\n",
       "      <td>NaN</td>\n",
       "      <td>NaN</td>\n",
       "      <td>NaN</td>\n",
       "      <td>S</td>\n",
       "      <td>POTAG</td>\n",
       "      <td>NaN</td>\n",
       "    </tr>\n",
       "    <tr>\n",
       "      <th>freq</th>\n",
       "      <td>NaN</td>\n",
       "      <td>17582</td>\n",
       "      <td>NaN</td>\n",
       "      <td>495</td>\n",
       "      <td>13580</td>\n",
       "      <td>186</td>\n",
       "      <td>NaN</td>\n",
       "      <td>271</td>\n",
       "      <td>NaN</td>\n",
       "      <td>756</td>\n",
       "      <td>...</td>\n",
       "      <td>4</td>\n",
       "      <td>NaN</td>\n",
       "      <td>4</td>\n",
       "      <td>NaN</td>\n",
       "      <td>NaN</td>\n",
       "      <td>NaN</td>\n",
       "      <td>NaN</td>\n",
       "      <td>5272</td>\n",
       "      <td>13</td>\n",
       "      <td>NaN</td>\n",
       "    </tr>\n",
       "    <tr>\n",
       "      <th>mean</th>\n",
       "      <td>1627327894170099968.000</td>\n",
       "      <td>NaN</td>\n",
       "      <td>345905.520</td>\n",
       "      <td>NaN</td>\n",
       "      <td>NaN</td>\n",
       "      <td>NaN</td>\n",
       "      <td>33227.897</td>\n",
       "      <td>NaN</td>\n",
       "      <td>125.286</td>\n",
       "      <td>NaN</td>\n",
       "      <td>...</td>\n",
       "      <td>NaN</td>\n",
       "      <td>12.739</td>\n",
       "      <td>NaN</td>\n",
       "      <td>0.848</td>\n",
       "      <td>1.774</td>\n",
       "      <td>66.054</td>\n",
       "      <td>2.798</td>\n",
       "      <td>NaN</td>\n",
       "      <td>NaN</td>\n",
       "      <td>208.867</td>\n",
       "    </tr>\n",
       "    <tr>\n",
       "      <th>std</th>\n",
       "      <td>26363009765688252.000</td>\n",
       "      <td>NaN</td>\n",
       "      <td>212190.864</td>\n",
       "      <td>NaN</td>\n",
       "      <td>NaN</td>\n",
       "      <td>NaN</td>\n",
       "      <td>288.433</td>\n",
       "      <td>NaN</td>\n",
       "      <td>97.646</td>\n",
       "      <td>NaN</td>\n",
       "      <td>...</td>\n",
       "      <td>NaN</td>\n",
       "      <td>18.081</td>\n",
       "      <td>NaN</td>\n",
       "      <td>0.717</td>\n",
       "      <td>0.418</td>\n",
       "      <td>37.610</td>\n",
       "      <td>1.403</td>\n",
       "      <td>NaN</td>\n",
       "      <td>NaN</td>\n",
       "      <td>393.191</td>\n",
       "    </tr>\n",
       "    <tr>\n",
       "      <th>min</th>\n",
       "      <td>1577923200000000000.000</td>\n",
       "      <td>NaN</td>\n",
       "      <td>0.000</td>\n",
       "      <td>NaN</td>\n",
       "      <td>NaN</td>\n",
       "      <td>NaN</td>\n",
       "      <td>33000.000</td>\n",
       "      <td>NaN</td>\n",
       "      <td>1.000</td>\n",
       "      <td>NaN</td>\n",
       "      <td>...</td>\n",
       "      <td>NaN</td>\n",
       "      <td>3.000</td>\n",
       "      <td>NaN</td>\n",
       "      <td>0.000</td>\n",
       "      <td>1.000</td>\n",
       "      <td>6.000</td>\n",
       "      <td>0.000</td>\n",
       "      <td>NaN</td>\n",
       "      <td>NaN</td>\n",
       "      <td>12.000</td>\n",
       "    </tr>\n",
       "    <tr>\n",
       "      <th>25%</th>\n",
       "      <td>1604880000000000000.000</td>\n",
       "      <td>NaN</td>\n",
       "      <td>189923.500</td>\n",
       "      <td>NaN</td>\n",
       "      <td>NaN</td>\n",
       "      <td>NaN</td>\n",
       "      <td>33000.000</td>\n",
       "      <td>NaN</td>\n",
       "      <td>51.000</td>\n",
       "      <td>NaN</td>\n",
       "      <td>...</td>\n",
       "      <td>NaN</td>\n",
       "      <td>6.500</td>\n",
       "      <td>NaN</td>\n",
       "      <td>0.000</td>\n",
       "      <td>2.000</td>\n",
       "      <td>40.000</td>\n",
       "      <td>2.000</td>\n",
       "      <td>NaN</td>\n",
       "      <td>NaN</td>\n",
       "      <td>101.000</td>\n",
       "    </tr>\n",
       "    <tr>\n",
       "      <th>50%</th>\n",
       "      <td>1627603200000000000.000</td>\n",
       "      <td>NaN</td>\n",
       "      <td>283000.000</td>\n",
       "      <td>NaN</td>\n",
       "      <td>NaN</td>\n",
       "      <td>NaN</td>\n",
       "      <td>33100.000</td>\n",
       "      <td>NaN</td>\n",
       "      <td>103.000</td>\n",
       "      <td>NaN</td>\n",
       "      <td>...</td>\n",
       "      <td>NaN</td>\n",
       "      <td>8.000</td>\n",
       "      <td>NaN</td>\n",
       "      <td>1.000</td>\n",
       "      <td>2.000</td>\n",
       "      <td>60.000</td>\n",
       "      <td>3.000</td>\n",
       "      <td>NaN</td>\n",
       "      <td>NaN</td>\n",
       "      <td>152.000</td>\n",
       "    </tr>\n",
       "    <tr>\n",
       "      <th>75%</th>\n",
       "      <td>1650412800000000000.000</td>\n",
       "      <td>NaN</td>\n",
       "      <td>456175.000</td>\n",
       "      <td>NaN</td>\n",
       "      <td>NaN</td>\n",
       "      <td>NaN</td>\n",
       "      <td>33300.000</td>\n",
       "      <td>NaN</td>\n",
       "      <td>178.000</td>\n",
       "      <td>NaN</td>\n",
       "      <td>...</td>\n",
       "      <td>NaN</td>\n",
       "      <td>9.000</td>\n",
       "      <td>NaN</td>\n",
       "      <td>1.000</td>\n",
       "      <td>2.000</td>\n",
       "      <td>83.000</td>\n",
       "      <td>4.000</td>\n",
       "      <td>NaN</td>\n",
       "      <td>NaN</td>\n",
       "      <td>236.000</td>\n",
       "    </tr>\n",
       "    <tr>\n",
       "      <th>max</th>\n",
       "      <td>1672358400000000000.000</td>\n",
       "      <td>NaN</td>\n",
       "      <td>1017950.000</td>\n",
       "      <td>NaN</td>\n",
       "      <td>NaN</td>\n",
       "      <td>NaN</td>\n",
       "      <td>33800.000</td>\n",
       "      <td>NaN</td>\n",
       "      <td>602.000</td>\n",
       "      <td>NaN</td>\n",
       "      <td>...</td>\n",
       "      <td>NaN</td>\n",
       "      <td>91.000</td>\n",
       "      <td>NaN</td>\n",
       "      <td>17.000</td>\n",
       "      <td>2.000</td>\n",
       "      <td>400.000</td>\n",
       "      <td>17.000</td>\n",
       "      <td>NaN</td>\n",
       "      <td>NaN</td>\n",
       "      <td>10897.000</td>\n",
       "    </tr>\n",
       "  </tbody>\n",
       "</table>\n",
       "<p>11 rows × 26 columns</p>\n",
       "</div>"
      ],
      "text/plain": [
       "                 Date mutation Nature mutation  Valeur fonciere B/T/Q   \n",
       "count                17719.000           17719        17719.000   576  \\\n",
       "unique                     NaN               6              NaN     7   \n",
       "top                        NaN           Vente              NaN     B   \n",
       "freq                       NaN           17582              NaN   495   \n",
       "mean   1627327894170099968.000             NaN       345905.520   NaN   \n",
       "std      26363009765688252.000             NaN       212190.864   NaN   \n",
       "min    1577923200000000000.000             NaN            0.000   NaN   \n",
       "25%    1604880000000000000.000             NaN       189923.500   NaN   \n",
       "50%    1627603200000000000.000             NaN       283000.000   NaN   \n",
       "75%    1650412800000000000.000             NaN       456175.000   NaN   \n",
       "max    1672358400000000000.000             NaN      1017950.000   NaN   \n",
       "\n",
       "       Type de voie         Voie  Code postal Section   No plan 1er lot  ...   \n",
       "count         17715        17719    17719.000   17676 17719.000   12396  ...  \\\n",
       "unique           20         1493          NaN     339       NaN     967  ...   \n",
       "top             RUE  SAINT LOUIS          NaN      HE       NaN       2  ...   \n",
       "freq          13580          186          NaN     271       NaN     756  ...   \n",
       "mean            NaN          NaN    33227.897     NaN   125.286     NaN  ...   \n",
       "std             NaN          NaN      288.433     NaN    97.646     NaN  ...   \n",
       "min             NaN          NaN    33000.000     NaN     1.000     NaN  ...   \n",
       "25%             NaN          NaN    33000.000     NaN    51.000     NaN  ...   \n",
       "50%             NaN          NaN    33100.000     NaN   103.000     NaN  ...   \n",
       "75%             NaN          NaN    33300.000     NaN   178.000     NaN  ...   \n",
       "max             NaN          NaN    33800.000     NaN   602.000     NaN  ...   \n",
       "\n",
       "       Surface Carrez du 4eme lot  5eme lot Surface Carrez du 5eme lot   \n",
       "count                          16    23.000                          6  \\\n",
       "unique                         13       NaN                          3   \n",
       "top                         25,60       NaN                       6,00   \n",
       "freq                            4       NaN                          4   \n",
       "mean                          NaN    12.739                        NaN   \n",
       "std                           NaN    18.081                        NaN   \n",
       "min                           NaN     3.000                        NaN   \n",
       "25%                           NaN     6.500                        NaN   \n",
       "50%                           NaN     8.000                        NaN   \n",
       "75%                           NaN     9.000                        NaN   \n",
       "max                           NaN    91.000                        NaN   \n",
       "\n",
       "        Nombre de lots Code type local  Surface reelle bati   \n",
       "count        17719.000       17719.000            17719.000  \\\n",
       "unique             NaN             NaN                  NaN   \n",
       "top                NaN             NaN                  NaN   \n",
       "freq               NaN             NaN                  NaN   \n",
       "mean             0.848           1.774               66.054   \n",
       "std              0.717           0.418               37.610   \n",
       "min              0.000           1.000                6.000   \n",
       "25%              0.000           2.000               40.000   \n",
       "50%              1.000           2.000               60.000   \n",
       "75%              1.000           2.000               83.000   \n",
       "max             17.000           2.000              400.000   \n",
       "\n",
       "       Nombre pieces principales  Nature culture Nature culture speciale   \n",
       "count                  17719.000            5336                      13  \\\n",
       "unique                       NaN               4                       1   \n",
       "top                          NaN               S                   POTAG   \n",
       "freq                         NaN            5272                      13   \n",
       "mean                       2.798             NaN                     NaN   \n",
       "std                        1.403             NaN                     NaN   \n",
       "min                        0.000             NaN                     NaN   \n",
       "25%                        2.000             NaN                     NaN   \n",
       "50%                        3.000             NaN                     NaN   \n",
       "75%                        4.000             NaN                     NaN   \n",
       "max                       17.000             NaN                     NaN   \n",
       "\n",
       "        Surface terrain  \n",
       "count          5336.000  \n",
       "unique              NaN  \n",
       "top                 NaN  \n",
       "freq                NaN  \n",
       "mean            208.867  \n",
       "std             393.191  \n",
       "min              12.000  \n",
       "25%             101.000  \n",
       "50%             152.000  \n",
       "75%             236.000  \n",
       "max           10897.000  \n",
       "\n",
       "[11 rows x 26 columns]"
      ]
     },
     "execution_count": 29,
     "metadata": {},
     "output_type": "execute_result"
    }
   ],
   "source": [
    "filtered_data.describe(include='all')"
   ]
  },
  {
   "cell_type": "code",
   "execution_count": null,
   "metadata": {},
   "outputs": [],
   "source": [
    "# filtered_data.columns"
   ]
  },
  {
   "cell_type": "code",
   "execution_count": null,
   "metadata": {},
   "outputs": [],
   "source": [
    "# # suppression des colonnes vides\n",
    "# # Liste des indices des colonnes à supprimer\n",
    "# useless_cols = [0, 1, 4, 7, 10, 12, 13, 14, 15, 16, 17, 18, 19, 20 ,21, 24]\n",
    "\n",
    "# # Supprimer les colonnes spécifiées du DataFrame\n",
    "# filtered_data_2 = filtered_data.drop(filtered_data.columns[useless_cols], axis=1)"
   ]
  },
  {
   "cell_type": "code",
   "execution_count": null,
   "metadata": {},
   "outputs": [],
   "source": [
    "# filtered_data_2.describe(include='all')"
   ]
  },
  {
   "cell_type": "code",
   "execution_count": 30,
   "metadata": {},
   "outputs": [],
   "source": [
    "filtered_data_2 = filtered_data"
   ]
  },
  {
   "cell_type": "code",
   "execution_count": null,
   "metadata": {},
   "outputs": [],
   "source": [
    "# # Correlation matrix\n",
    "# corr_matrix = filtered_data_2.corr().round(2)\n",
    "\n",
    "# import plotly.figure_factory as ff\n",
    "\n",
    "# fig = ff.create_annotated_heatmap(corr_matrix.values,\n",
    "#                                   x = corr_matrix.columns.tolist(),\n",
    "#                                   y = corr_matrix.index.tolist())\n",
    "\n",
    "\n",
    "# fig.show()"
   ]
  },
  {
   "cell_type": "code",
   "execution_count": 31,
   "metadata": {},
   "outputs": [
    {
     "data": {
      "text/plain": [
       "(17719, 26)"
      ]
     },
     "execution_count": 31,
     "metadata": {},
     "output_type": "execute_result"
    }
   ],
   "source": [
    "filtered_data_2.shape"
   ]
  },
  {
   "cell_type": "code",
   "execution_count": null,
   "metadata": {},
   "outputs": [],
   "source": [
    "# filtered_data_2.dtypes"
   ]
  },
  {
   "cell_type": "code",
   "execution_count": 32,
   "metadata": {},
   "outputs": [
    {
     "data": {
      "text/html": [
       "<div>\n",
       "<style scoped>\n",
       "    .dataframe tbody tr th:only-of-type {\n",
       "        vertical-align: middle;\n",
       "    }\n",
       "\n",
       "    .dataframe tbody tr th {\n",
       "        vertical-align: top;\n",
       "    }\n",
       "\n",
       "    .dataframe thead th {\n",
       "        text-align: right;\n",
       "    }\n",
       "</style>\n",
       "<table border=\"1\" class=\"dataframe\">\n",
       "  <thead>\n",
       "    <tr style=\"text-align: right;\">\n",
       "      <th></th>\n",
       "      <th>Date mutation</th>\n",
       "      <th>Nature mutation</th>\n",
       "      <th>Valeur fonciere</th>\n",
       "      <th>B/T/Q</th>\n",
       "      <th>Type de voie</th>\n",
       "      <th>Voie</th>\n",
       "      <th>Code postal</th>\n",
       "      <th>Section</th>\n",
       "      <th>No plan</th>\n",
       "      <th>1er lot</th>\n",
       "      <th>...</th>\n",
       "      <th>Surface Carrez du 4eme lot</th>\n",
       "      <th>5eme lot</th>\n",
       "      <th>Surface Carrez du 5eme lot</th>\n",
       "      <th>Nombre de lots</th>\n",
       "      <th>Code type local</th>\n",
       "      <th>Surface reelle bati</th>\n",
       "      <th>Nombre pieces principales</th>\n",
       "      <th>Nature culture</th>\n",
       "      <th>Nature culture speciale</th>\n",
       "      <th>Surface terrain</th>\n",
       "    </tr>\n",
       "  </thead>\n",
       "  <tbody>\n",
       "    <tr>\n",
       "      <th>count</th>\n",
       "      <td>17719.000</td>\n",
       "      <td>17719</td>\n",
       "      <td>17719.000</td>\n",
       "      <td>576</td>\n",
       "      <td>17715</td>\n",
       "      <td>17719</td>\n",
       "      <td>17719.000</td>\n",
       "      <td>17676</td>\n",
       "      <td>17719.000</td>\n",
       "      <td>12396</td>\n",
       "      <td>...</td>\n",
       "      <td>16</td>\n",
       "      <td>23.000</td>\n",
       "      <td>6</td>\n",
       "      <td>17719.000</td>\n",
       "      <td>17719.000</td>\n",
       "      <td>17719.000</td>\n",
       "      <td>17719.000</td>\n",
       "      <td>5336</td>\n",
       "      <td>13</td>\n",
       "      <td>5336.000</td>\n",
       "    </tr>\n",
       "    <tr>\n",
       "      <th>unique</th>\n",
       "      <td>NaN</td>\n",
       "      <td>6</td>\n",
       "      <td>NaN</td>\n",
       "      <td>7</td>\n",
       "      <td>20</td>\n",
       "      <td>1493</td>\n",
       "      <td>NaN</td>\n",
       "      <td>339</td>\n",
       "      <td>NaN</td>\n",
       "      <td>967</td>\n",
       "      <td>...</td>\n",
       "      <td>13</td>\n",
       "      <td>NaN</td>\n",
       "      <td>3</td>\n",
       "      <td>NaN</td>\n",
       "      <td>NaN</td>\n",
       "      <td>NaN</td>\n",
       "      <td>NaN</td>\n",
       "      <td>4</td>\n",
       "      <td>1</td>\n",
       "      <td>NaN</td>\n",
       "    </tr>\n",
       "    <tr>\n",
       "      <th>top</th>\n",
       "      <td>NaN</td>\n",
       "      <td>Vente</td>\n",
       "      <td>NaN</td>\n",
       "      <td>B</td>\n",
       "      <td>RUE</td>\n",
       "      <td>SAINT LOUIS</td>\n",
       "      <td>NaN</td>\n",
       "      <td>HE</td>\n",
       "      <td>NaN</td>\n",
       "      <td>2</td>\n",
       "      <td>...</td>\n",
       "      <td>25,60</td>\n",
       "      <td>NaN</td>\n",
       "      <td>6,00</td>\n",
       "      <td>NaN</td>\n",
       "      <td>NaN</td>\n",
       "      <td>NaN</td>\n",
       "      <td>NaN</td>\n",
       "      <td>S</td>\n",
       "      <td>POTAG</td>\n",
       "      <td>NaN</td>\n",
       "    </tr>\n",
       "    <tr>\n",
       "      <th>freq</th>\n",
       "      <td>NaN</td>\n",
       "      <td>17582</td>\n",
       "      <td>NaN</td>\n",
       "      <td>495</td>\n",
       "      <td>13580</td>\n",
       "      <td>186</td>\n",
       "      <td>NaN</td>\n",
       "      <td>271</td>\n",
       "      <td>NaN</td>\n",
       "      <td>756</td>\n",
       "      <td>...</td>\n",
       "      <td>4</td>\n",
       "      <td>NaN</td>\n",
       "      <td>4</td>\n",
       "      <td>NaN</td>\n",
       "      <td>NaN</td>\n",
       "      <td>NaN</td>\n",
       "      <td>NaN</td>\n",
       "      <td>5272</td>\n",
       "      <td>13</td>\n",
       "      <td>NaN</td>\n",
       "    </tr>\n",
       "    <tr>\n",
       "      <th>mean</th>\n",
       "      <td>1627327894170099968.000</td>\n",
       "      <td>NaN</td>\n",
       "      <td>345905.520</td>\n",
       "      <td>NaN</td>\n",
       "      <td>NaN</td>\n",
       "      <td>NaN</td>\n",
       "      <td>33227.897</td>\n",
       "      <td>NaN</td>\n",
       "      <td>125.286</td>\n",
       "      <td>NaN</td>\n",
       "      <td>...</td>\n",
       "      <td>NaN</td>\n",
       "      <td>12.739</td>\n",
       "      <td>NaN</td>\n",
       "      <td>0.848</td>\n",
       "      <td>1.774</td>\n",
       "      <td>66.054</td>\n",
       "      <td>2.798</td>\n",
       "      <td>NaN</td>\n",
       "      <td>NaN</td>\n",
       "      <td>208.867</td>\n",
       "    </tr>\n",
       "    <tr>\n",
       "      <th>std</th>\n",
       "      <td>26363009765688252.000</td>\n",
       "      <td>NaN</td>\n",
       "      <td>212190.864</td>\n",
       "      <td>NaN</td>\n",
       "      <td>NaN</td>\n",
       "      <td>NaN</td>\n",
       "      <td>288.433</td>\n",
       "      <td>NaN</td>\n",
       "      <td>97.646</td>\n",
       "      <td>NaN</td>\n",
       "      <td>...</td>\n",
       "      <td>NaN</td>\n",
       "      <td>18.081</td>\n",
       "      <td>NaN</td>\n",
       "      <td>0.717</td>\n",
       "      <td>0.418</td>\n",
       "      <td>37.610</td>\n",
       "      <td>1.403</td>\n",
       "      <td>NaN</td>\n",
       "      <td>NaN</td>\n",
       "      <td>393.191</td>\n",
       "    </tr>\n",
       "    <tr>\n",
       "      <th>min</th>\n",
       "      <td>1577923200000000000.000</td>\n",
       "      <td>NaN</td>\n",
       "      <td>0.000</td>\n",
       "      <td>NaN</td>\n",
       "      <td>NaN</td>\n",
       "      <td>NaN</td>\n",
       "      <td>33000.000</td>\n",
       "      <td>NaN</td>\n",
       "      <td>1.000</td>\n",
       "      <td>NaN</td>\n",
       "      <td>...</td>\n",
       "      <td>NaN</td>\n",
       "      <td>3.000</td>\n",
       "      <td>NaN</td>\n",
       "      <td>0.000</td>\n",
       "      <td>1.000</td>\n",
       "      <td>6.000</td>\n",
       "      <td>0.000</td>\n",
       "      <td>NaN</td>\n",
       "      <td>NaN</td>\n",
       "      <td>12.000</td>\n",
       "    </tr>\n",
       "    <tr>\n",
       "      <th>25%</th>\n",
       "      <td>1604880000000000000.000</td>\n",
       "      <td>NaN</td>\n",
       "      <td>189923.500</td>\n",
       "      <td>NaN</td>\n",
       "      <td>NaN</td>\n",
       "      <td>NaN</td>\n",
       "      <td>33000.000</td>\n",
       "      <td>NaN</td>\n",
       "      <td>51.000</td>\n",
       "      <td>NaN</td>\n",
       "      <td>...</td>\n",
       "      <td>NaN</td>\n",
       "      <td>6.500</td>\n",
       "      <td>NaN</td>\n",
       "      <td>0.000</td>\n",
       "      <td>2.000</td>\n",
       "      <td>40.000</td>\n",
       "      <td>2.000</td>\n",
       "      <td>NaN</td>\n",
       "      <td>NaN</td>\n",
       "      <td>101.000</td>\n",
       "    </tr>\n",
       "    <tr>\n",
       "      <th>50%</th>\n",
       "      <td>1627603200000000000.000</td>\n",
       "      <td>NaN</td>\n",
       "      <td>283000.000</td>\n",
       "      <td>NaN</td>\n",
       "      <td>NaN</td>\n",
       "      <td>NaN</td>\n",
       "      <td>33100.000</td>\n",
       "      <td>NaN</td>\n",
       "      <td>103.000</td>\n",
       "      <td>NaN</td>\n",
       "      <td>...</td>\n",
       "      <td>NaN</td>\n",
       "      <td>8.000</td>\n",
       "      <td>NaN</td>\n",
       "      <td>1.000</td>\n",
       "      <td>2.000</td>\n",
       "      <td>60.000</td>\n",
       "      <td>3.000</td>\n",
       "      <td>NaN</td>\n",
       "      <td>NaN</td>\n",
       "      <td>152.000</td>\n",
       "    </tr>\n",
       "    <tr>\n",
       "      <th>75%</th>\n",
       "      <td>1650412800000000000.000</td>\n",
       "      <td>NaN</td>\n",
       "      <td>456175.000</td>\n",
       "      <td>NaN</td>\n",
       "      <td>NaN</td>\n",
       "      <td>NaN</td>\n",
       "      <td>33300.000</td>\n",
       "      <td>NaN</td>\n",
       "      <td>178.000</td>\n",
       "      <td>NaN</td>\n",
       "      <td>...</td>\n",
       "      <td>NaN</td>\n",
       "      <td>9.000</td>\n",
       "      <td>NaN</td>\n",
       "      <td>1.000</td>\n",
       "      <td>2.000</td>\n",
       "      <td>83.000</td>\n",
       "      <td>4.000</td>\n",
       "      <td>NaN</td>\n",
       "      <td>NaN</td>\n",
       "      <td>236.000</td>\n",
       "    </tr>\n",
       "    <tr>\n",
       "      <th>max</th>\n",
       "      <td>1672358400000000000.000</td>\n",
       "      <td>NaN</td>\n",
       "      <td>1017950.000</td>\n",
       "      <td>NaN</td>\n",
       "      <td>NaN</td>\n",
       "      <td>NaN</td>\n",
       "      <td>33800.000</td>\n",
       "      <td>NaN</td>\n",
       "      <td>602.000</td>\n",
       "      <td>NaN</td>\n",
       "      <td>...</td>\n",
       "      <td>NaN</td>\n",
       "      <td>91.000</td>\n",
       "      <td>NaN</td>\n",
       "      <td>17.000</td>\n",
       "      <td>2.000</td>\n",
       "      <td>400.000</td>\n",
       "      <td>17.000</td>\n",
       "      <td>NaN</td>\n",
       "      <td>NaN</td>\n",
       "      <td>10897.000</td>\n",
       "    </tr>\n",
       "  </tbody>\n",
       "</table>\n",
       "<p>11 rows × 26 columns</p>\n",
       "</div>"
      ],
      "text/plain": [
       "                 Date mutation Nature mutation  Valeur fonciere B/T/Q   \n",
       "count                17719.000           17719        17719.000   576  \\\n",
       "unique                     NaN               6              NaN     7   \n",
       "top                        NaN           Vente              NaN     B   \n",
       "freq                       NaN           17582              NaN   495   \n",
       "mean   1627327894170099968.000             NaN       345905.520   NaN   \n",
       "std      26363009765688252.000             NaN       212190.864   NaN   \n",
       "min    1577923200000000000.000             NaN            0.000   NaN   \n",
       "25%    1604880000000000000.000             NaN       189923.500   NaN   \n",
       "50%    1627603200000000000.000             NaN       283000.000   NaN   \n",
       "75%    1650412800000000000.000             NaN       456175.000   NaN   \n",
       "max    1672358400000000000.000             NaN      1017950.000   NaN   \n",
       "\n",
       "       Type de voie         Voie  Code postal Section   No plan 1er lot  ...   \n",
       "count         17715        17719    17719.000   17676 17719.000   12396  ...  \\\n",
       "unique           20         1493          NaN     339       NaN     967  ...   \n",
       "top             RUE  SAINT LOUIS          NaN      HE       NaN       2  ...   \n",
       "freq          13580          186          NaN     271       NaN     756  ...   \n",
       "mean            NaN          NaN    33227.897     NaN   125.286     NaN  ...   \n",
       "std             NaN          NaN      288.433     NaN    97.646     NaN  ...   \n",
       "min             NaN          NaN    33000.000     NaN     1.000     NaN  ...   \n",
       "25%             NaN          NaN    33000.000     NaN    51.000     NaN  ...   \n",
       "50%             NaN          NaN    33100.000     NaN   103.000     NaN  ...   \n",
       "75%             NaN          NaN    33300.000     NaN   178.000     NaN  ...   \n",
       "max             NaN          NaN    33800.000     NaN   602.000     NaN  ...   \n",
       "\n",
       "       Surface Carrez du 4eme lot  5eme lot Surface Carrez du 5eme lot   \n",
       "count                          16    23.000                          6  \\\n",
       "unique                         13       NaN                          3   \n",
       "top                         25,60       NaN                       6,00   \n",
       "freq                            4       NaN                          4   \n",
       "mean                          NaN    12.739                        NaN   \n",
       "std                           NaN    18.081                        NaN   \n",
       "min                           NaN     3.000                        NaN   \n",
       "25%                           NaN     6.500                        NaN   \n",
       "50%                           NaN     8.000                        NaN   \n",
       "75%                           NaN     9.000                        NaN   \n",
       "max                           NaN    91.000                        NaN   \n",
       "\n",
       "        Nombre de lots Code type local  Surface reelle bati   \n",
       "count        17719.000       17719.000            17719.000  \\\n",
       "unique             NaN             NaN                  NaN   \n",
       "top                NaN             NaN                  NaN   \n",
       "freq               NaN             NaN                  NaN   \n",
       "mean             0.848           1.774               66.054   \n",
       "std              0.717           0.418               37.610   \n",
       "min              0.000           1.000                6.000   \n",
       "25%              0.000           2.000               40.000   \n",
       "50%              1.000           2.000               60.000   \n",
       "75%              1.000           2.000               83.000   \n",
       "max             17.000           2.000              400.000   \n",
       "\n",
       "       Nombre pieces principales  Nature culture Nature culture speciale   \n",
       "count                  17719.000            5336                      13  \\\n",
       "unique                       NaN               4                       1   \n",
       "top                          NaN               S                   POTAG   \n",
       "freq                         NaN            5272                      13   \n",
       "mean                       2.798             NaN                     NaN   \n",
       "std                        1.403             NaN                     NaN   \n",
       "min                        0.000             NaN                     NaN   \n",
       "25%                        2.000             NaN                     NaN   \n",
       "50%                        3.000             NaN                     NaN   \n",
       "75%                        4.000             NaN                     NaN   \n",
       "max                       17.000             NaN                     NaN   \n",
       "\n",
       "        Surface terrain  \n",
       "count          5336.000  \n",
       "unique              NaN  \n",
       "top                 NaN  \n",
       "freq                NaN  \n",
       "mean            208.867  \n",
       "std             393.191  \n",
       "min              12.000  \n",
       "25%             101.000  \n",
       "50%             152.000  \n",
       "75%             236.000  \n",
       "max           10897.000  \n",
       "\n",
       "[11 rows x 26 columns]"
      ]
     },
     "execution_count": 32,
     "metadata": {},
     "output_type": "execute_result"
    }
   ],
   "source": [
    "filtered_data_2.describe(include=\"all\")"
   ]
  },
  {
   "cell_type": "code",
   "execution_count": 33,
   "metadata": {},
   "outputs": [
    {
     "data": {
      "text/plain": [
       "Index(['Date mutation', 'Nature mutation', 'Valeur fonciere', 'B/T/Q',\n",
       "       'Type de voie', 'Voie', 'Code postal', 'Section', 'No plan', '1er lot',\n",
       "       'Surface Carrez du 1er lot', '2eme lot', 'Surface Carrez du 2eme lot',\n",
       "       '3eme lot', 'Surface Carrez du 3eme lot', '4eme lot',\n",
       "       'Surface Carrez du 4eme lot', '5eme lot', 'Surface Carrez du 5eme lot',\n",
       "       'Nombre de lots', 'Code type local', 'Surface reelle bati',\n",
       "       'Nombre pieces principales', 'Nature culture',\n",
       "       'Nature culture speciale', 'Surface terrain'],\n",
       "      dtype='object')"
      ]
     },
     "execution_count": 33,
     "metadata": {},
     "output_type": "execute_result"
    }
   ],
   "source": [
    "filtered_data_2.columns"
   ]
  },
  {
   "cell_type": "code",
   "execution_count": 34,
   "metadata": {},
   "outputs": [],
   "source": [
    "filtered_data_2_columns = ['Date mutation', 'Nature mutation', 'Valeur fonciere', 'B/T/Q',\n",
    "                           'Type de voie', 'Voie', 'Code postal', 'Section', 'No plan', '1er lot',\n",
    "                           'Surface Carrez du 1er lot', '2eme lot', 'Surface Carrez du 2eme lot',\n",
    "                           '3eme lot', 'Surface Carrez du 3eme lot', '4eme lot',\n",
    "                           'Surface Carrez du 4eme lot', '5eme lot', 'Surface Carrez du 5eme lot',\n",
    "                           'Nombre de lots', 'Code type local', 'Surface reelle bati',\n",
    "                           'Nombre pieces principales', 'Nature culture',\n",
    "                           'Nature culture speciale', 'Surface terrain']"
   ]
  },
  {
   "cell_type": "code",
   "execution_count": null,
   "metadata": {},
   "outputs": [],
   "source": [
    "# # On enlève le nombre de pièce parce qu'il est trop corréler à \"surface réelle\" (à hauteur de 0.86)\n",
    "# useless_cols = [10]\n",
    "\n",
    "# # Supprimer les colonnes spécifiées du DataFrame\n",
    "# filtered_data_2 = filtered_data_2.drop(filtered_data_2.columns[useless_cols], axis=1)"
   ]
  },
  {
   "cell_type": "markdown",
   "metadata": {},
   "source": [
    "# Pipeline preprocessing"
   ]
  },
  {
   "cell_type": "code",
   "execution_count": 35,
   "metadata": {},
   "outputs": [
    {
     "data": {
      "text/html": [
       "<div>\n",
       "<style scoped>\n",
       "    .dataframe tbody tr th:only-of-type {\n",
       "        vertical-align: middle;\n",
       "    }\n",
       "\n",
       "    .dataframe tbody tr th {\n",
       "        vertical-align: top;\n",
       "    }\n",
       "\n",
       "    .dataframe thead th {\n",
       "        text-align: right;\n",
       "    }\n",
       "</style>\n",
       "<table border=\"1\" class=\"dataframe\">\n",
       "  <thead>\n",
       "    <tr style=\"text-align: right;\">\n",
       "      <th></th>\n",
       "      <th>Date mutation</th>\n",
       "      <th>Nature mutation</th>\n",
       "      <th>Valeur fonciere</th>\n",
       "      <th>B/T/Q</th>\n",
       "      <th>Type de voie</th>\n",
       "      <th>Voie</th>\n",
       "      <th>Code postal</th>\n",
       "      <th>Section</th>\n",
       "      <th>No plan</th>\n",
       "      <th>1er lot</th>\n",
       "      <th>...</th>\n",
       "      <th>Surface Carrez du 4eme lot</th>\n",
       "      <th>5eme lot</th>\n",
       "      <th>Surface Carrez du 5eme lot</th>\n",
       "      <th>Nombre de lots</th>\n",
       "      <th>Code type local</th>\n",
       "      <th>Surface reelle bati</th>\n",
       "      <th>Nombre pieces principales</th>\n",
       "      <th>Nature culture</th>\n",
       "      <th>Nature culture speciale</th>\n",
       "      <th>Surface terrain</th>\n",
       "    </tr>\n",
       "  </thead>\n",
       "  <tbody>\n",
       "    <tr>\n",
       "      <th>0</th>\n",
       "      <td>1641254400000000000</td>\n",
       "      <td>Vente</td>\n",
       "      <td>396000</td>\n",
       "      <td>NaN</td>\n",
       "      <td>RUE</td>\n",
       "      <td>DE NAVARRE</td>\n",
       "      <td>33000</td>\n",
       "      <td>HB</td>\n",
       "      <td>203</td>\n",
       "      <td>NaN</td>\n",
       "      <td>...</td>\n",
       "      <td>NaN</td>\n",
       "      <td>NaN</td>\n",
       "      <td>NaN</td>\n",
       "      <td>0</td>\n",
       "      <td>1.000</td>\n",
       "      <td>71.000</td>\n",
       "      <td>4.000</td>\n",
       "      <td>S</td>\n",
       "      <td>NaN</td>\n",
       "      <td>70.000</td>\n",
       "    </tr>\n",
       "    <tr>\n",
       "      <th>1</th>\n",
       "      <td>1641340800000000000</td>\n",
       "      <td>Vente</td>\n",
       "      <td>158500</td>\n",
       "      <td>NaN</td>\n",
       "      <td>RUE</td>\n",
       "      <td>DU SOLEIL</td>\n",
       "      <td>33000</td>\n",
       "      <td>HE</td>\n",
       "      <td>381</td>\n",
       "      <td>9</td>\n",
       "      <td>...</td>\n",
       "      <td>NaN</td>\n",
       "      <td>NaN</td>\n",
       "      <td>NaN</td>\n",
       "      <td>1</td>\n",
       "      <td>2.000</td>\n",
       "      <td>40.000</td>\n",
       "      <td>1.000</td>\n",
       "      <td>NaN</td>\n",
       "      <td>NaN</td>\n",
       "      <td>NaN</td>\n",
       "    </tr>\n",
       "    <tr>\n",
       "      <th>2</th>\n",
       "      <td>1641513600000000000</td>\n",
       "      <td>Vente</td>\n",
       "      <td>187000</td>\n",
       "      <td>NaN</td>\n",
       "      <td>RUE</td>\n",
       "      <td>STEHELIN CAUD</td>\n",
       "      <td>33200</td>\n",
       "      <td>VX</td>\n",
       "      <td>97</td>\n",
       "      <td>5</td>\n",
       "      <td>...</td>\n",
       "      <td>NaN</td>\n",
       "      <td>NaN</td>\n",
       "      <td>NaN</td>\n",
       "      <td>1</td>\n",
       "      <td>2.000</td>\n",
       "      <td>35.000</td>\n",
       "      <td>1.000</td>\n",
       "      <td>NaN</td>\n",
       "      <td>NaN</td>\n",
       "      <td>NaN</td>\n",
       "    </tr>\n",
       "    <tr>\n",
       "      <th>3</th>\n",
       "      <td>1641168000000000000</td>\n",
       "      <td>Vente</td>\n",
       "      <td>312500</td>\n",
       "      <td>NaN</td>\n",
       "      <td>RUE</td>\n",
       "      <td>POUDENSAN</td>\n",
       "      <td>33000</td>\n",
       "      <td>LE</td>\n",
       "      <td>169</td>\n",
       "      <td>NaN</td>\n",
       "      <td>...</td>\n",
       "      <td>NaN</td>\n",
       "      <td>NaN</td>\n",
       "      <td>NaN</td>\n",
       "      <td>0</td>\n",
       "      <td>1.000</td>\n",
       "      <td>65.000</td>\n",
       "      <td>3.000</td>\n",
       "      <td>S</td>\n",
       "      <td>NaN</td>\n",
       "      <td>45.000</td>\n",
       "    </tr>\n",
       "    <tr>\n",
       "      <th>4</th>\n",
       "      <td>1641340800000000000</td>\n",
       "      <td>Vente</td>\n",
       "      <td>116000</td>\n",
       "      <td>NaN</td>\n",
       "      <td>RUE</td>\n",
       "      <td>LEYTEIRE</td>\n",
       "      <td>33000</td>\n",
       "      <td>DR</td>\n",
       "      <td>113</td>\n",
       "      <td>13</td>\n",
       "      <td>...</td>\n",
       "      <td>NaN</td>\n",
       "      <td>NaN</td>\n",
       "      <td>NaN</td>\n",
       "      <td>1</td>\n",
       "      <td>2.000</td>\n",
       "      <td>20.000</td>\n",
       "      <td>1.000</td>\n",
       "      <td>NaN</td>\n",
       "      <td>NaN</td>\n",
       "      <td>NaN</td>\n",
       "    </tr>\n",
       "  </tbody>\n",
       "</table>\n",
       "<p>5 rows × 26 columns</p>\n",
       "</div>"
      ],
      "text/plain": [
       "         Date mutation Nature mutation  Valeur fonciere B/T/Q Type de voie   \n",
       "0  1641254400000000000           Vente           396000   NaN          RUE  \\\n",
       "1  1641340800000000000           Vente           158500   NaN          RUE   \n",
       "2  1641513600000000000           Vente           187000   NaN          RUE   \n",
       "3  1641168000000000000           Vente           312500   NaN          RUE   \n",
       "4  1641340800000000000           Vente           116000   NaN          RUE   \n",
       "\n",
       "            Voie  Code postal Section  No plan 1er lot  ...   \n",
       "0     DE NAVARRE        33000      HB      203     NaN  ...  \\\n",
       "1      DU SOLEIL        33000      HE      381       9  ...   \n",
       "2  STEHELIN CAUD        33200      VX       97       5  ...   \n",
       "3      POUDENSAN        33000      LE      169     NaN  ...   \n",
       "4       LEYTEIRE        33000      DR      113      13  ...   \n",
       "\n",
       "  Surface Carrez du 4eme lot  5eme lot Surface Carrez du 5eme lot   \n",
       "0                        NaN       NaN                        NaN  \\\n",
       "1                        NaN       NaN                        NaN   \n",
       "2                        NaN       NaN                        NaN   \n",
       "3                        NaN       NaN                        NaN   \n",
       "4                        NaN       NaN                        NaN   \n",
       "\n",
       "   Nombre de lots Code type local  Surface reelle bati   \n",
       "0               0           1.000               71.000  \\\n",
       "1               1           2.000               40.000   \n",
       "2               1           2.000               35.000   \n",
       "3               0           1.000               65.000   \n",
       "4               1           2.000               20.000   \n",
       "\n",
       "  Nombre pieces principales  Nature culture Nature culture speciale   \n",
       "0                     4.000               S                     NaN  \\\n",
       "1                     1.000             NaN                     NaN   \n",
       "2                     1.000             NaN                     NaN   \n",
       "3                     3.000               S                     NaN   \n",
       "4                     1.000             NaN                     NaN   \n",
       "\n",
       "   Surface terrain  \n",
       "0           70.000  \n",
       "1              NaN  \n",
       "2              NaN  \n",
       "3           45.000  \n",
       "4              NaN  \n",
       "\n",
       "[5 rows x 26 columns]"
      ]
     },
     "execution_count": 35,
     "metadata": {},
     "output_type": "execute_result"
    }
   ],
   "source": [
    "filtered_data_2.head()"
   ]
  },
  {
   "cell_type": "code",
   "execution_count": 36,
   "metadata": {},
   "outputs": [
    {
     "data": {
      "text/html": [
       "<div>\n",
       "<style scoped>\n",
       "    .dataframe tbody tr th:only-of-type {\n",
       "        vertical-align: middle;\n",
       "    }\n",
       "\n",
       "    .dataframe tbody tr th {\n",
       "        vertical-align: top;\n",
       "    }\n",
       "\n",
       "    .dataframe thead th {\n",
       "        text-align: right;\n",
       "    }\n",
       "</style>\n",
       "<table border=\"1\" class=\"dataframe\">\n",
       "  <thead>\n",
       "    <tr style=\"text-align: right;\">\n",
       "      <th></th>\n",
       "      <th>Date mutation</th>\n",
       "      <th>Nature mutation</th>\n",
       "      <th>Valeur fonciere</th>\n",
       "      <th>B/T/Q</th>\n",
       "      <th>Type de voie</th>\n",
       "      <th>Voie</th>\n",
       "      <th>Code postal</th>\n",
       "      <th>Section</th>\n",
       "      <th>No plan</th>\n",
       "      <th>1er lot</th>\n",
       "      <th>...</th>\n",
       "      <th>Surface Carrez du 4eme lot</th>\n",
       "      <th>5eme lot</th>\n",
       "      <th>Surface Carrez du 5eme lot</th>\n",
       "      <th>Nombre de lots</th>\n",
       "      <th>Code type local</th>\n",
       "      <th>Surface reelle bati</th>\n",
       "      <th>Nombre pieces principales</th>\n",
       "      <th>Nature culture</th>\n",
       "      <th>Nature culture speciale</th>\n",
       "      <th>Surface terrain</th>\n",
       "    </tr>\n",
       "  </thead>\n",
       "  <tbody>\n",
       "    <tr>\n",
       "      <th>count</th>\n",
       "      <td>17719.000</td>\n",
       "      <td>17719</td>\n",
       "      <td>17719.000</td>\n",
       "      <td>576</td>\n",
       "      <td>17715</td>\n",
       "      <td>17719</td>\n",
       "      <td>17719.000</td>\n",
       "      <td>17676</td>\n",
       "      <td>17719.000</td>\n",
       "      <td>12396</td>\n",
       "      <td>...</td>\n",
       "      <td>16</td>\n",
       "      <td>23.000</td>\n",
       "      <td>6</td>\n",
       "      <td>17719.000</td>\n",
       "      <td>17719.000</td>\n",
       "      <td>17719.000</td>\n",
       "      <td>17719.000</td>\n",
       "      <td>5336</td>\n",
       "      <td>13</td>\n",
       "      <td>5336.000</td>\n",
       "    </tr>\n",
       "    <tr>\n",
       "      <th>unique</th>\n",
       "      <td>NaN</td>\n",
       "      <td>6</td>\n",
       "      <td>NaN</td>\n",
       "      <td>7</td>\n",
       "      <td>20</td>\n",
       "      <td>1493</td>\n",
       "      <td>NaN</td>\n",
       "      <td>339</td>\n",
       "      <td>NaN</td>\n",
       "      <td>967</td>\n",
       "      <td>...</td>\n",
       "      <td>13</td>\n",
       "      <td>NaN</td>\n",
       "      <td>3</td>\n",
       "      <td>NaN</td>\n",
       "      <td>NaN</td>\n",
       "      <td>NaN</td>\n",
       "      <td>NaN</td>\n",
       "      <td>4</td>\n",
       "      <td>1</td>\n",
       "      <td>NaN</td>\n",
       "    </tr>\n",
       "    <tr>\n",
       "      <th>top</th>\n",
       "      <td>NaN</td>\n",
       "      <td>Vente</td>\n",
       "      <td>NaN</td>\n",
       "      <td>B</td>\n",
       "      <td>RUE</td>\n",
       "      <td>SAINT LOUIS</td>\n",
       "      <td>NaN</td>\n",
       "      <td>HE</td>\n",
       "      <td>NaN</td>\n",
       "      <td>2</td>\n",
       "      <td>...</td>\n",
       "      <td>25,60</td>\n",
       "      <td>NaN</td>\n",
       "      <td>6,00</td>\n",
       "      <td>NaN</td>\n",
       "      <td>NaN</td>\n",
       "      <td>NaN</td>\n",
       "      <td>NaN</td>\n",
       "      <td>S</td>\n",
       "      <td>POTAG</td>\n",
       "      <td>NaN</td>\n",
       "    </tr>\n",
       "    <tr>\n",
       "      <th>freq</th>\n",
       "      <td>NaN</td>\n",
       "      <td>17582</td>\n",
       "      <td>NaN</td>\n",
       "      <td>495</td>\n",
       "      <td>13580</td>\n",
       "      <td>186</td>\n",
       "      <td>NaN</td>\n",
       "      <td>271</td>\n",
       "      <td>NaN</td>\n",
       "      <td>756</td>\n",
       "      <td>...</td>\n",
       "      <td>4</td>\n",
       "      <td>NaN</td>\n",
       "      <td>4</td>\n",
       "      <td>NaN</td>\n",
       "      <td>NaN</td>\n",
       "      <td>NaN</td>\n",
       "      <td>NaN</td>\n",
       "      <td>5272</td>\n",
       "      <td>13</td>\n",
       "      <td>NaN</td>\n",
       "    </tr>\n",
       "    <tr>\n",
       "      <th>mean</th>\n",
       "      <td>1627327894170099968.000</td>\n",
       "      <td>NaN</td>\n",
       "      <td>345905.520</td>\n",
       "      <td>NaN</td>\n",
       "      <td>NaN</td>\n",
       "      <td>NaN</td>\n",
       "      <td>33227.897</td>\n",
       "      <td>NaN</td>\n",
       "      <td>125.286</td>\n",
       "      <td>NaN</td>\n",
       "      <td>...</td>\n",
       "      <td>NaN</td>\n",
       "      <td>12.739</td>\n",
       "      <td>NaN</td>\n",
       "      <td>0.848</td>\n",
       "      <td>1.774</td>\n",
       "      <td>66.054</td>\n",
       "      <td>2.798</td>\n",
       "      <td>NaN</td>\n",
       "      <td>NaN</td>\n",
       "      <td>208.867</td>\n",
       "    </tr>\n",
       "    <tr>\n",
       "      <th>std</th>\n",
       "      <td>26363009765688252.000</td>\n",
       "      <td>NaN</td>\n",
       "      <td>212190.864</td>\n",
       "      <td>NaN</td>\n",
       "      <td>NaN</td>\n",
       "      <td>NaN</td>\n",
       "      <td>288.433</td>\n",
       "      <td>NaN</td>\n",
       "      <td>97.646</td>\n",
       "      <td>NaN</td>\n",
       "      <td>...</td>\n",
       "      <td>NaN</td>\n",
       "      <td>18.081</td>\n",
       "      <td>NaN</td>\n",
       "      <td>0.717</td>\n",
       "      <td>0.418</td>\n",
       "      <td>37.610</td>\n",
       "      <td>1.403</td>\n",
       "      <td>NaN</td>\n",
       "      <td>NaN</td>\n",
       "      <td>393.191</td>\n",
       "    </tr>\n",
       "    <tr>\n",
       "      <th>min</th>\n",
       "      <td>1577923200000000000.000</td>\n",
       "      <td>NaN</td>\n",
       "      <td>0.000</td>\n",
       "      <td>NaN</td>\n",
       "      <td>NaN</td>\n",
       "      <td>NaN</td>\n",
       "      <td>33000.000</td>\n",
       "      <td>NaN</td>\n",
       "      <td>1.000</td>\n",
       "      <td>NaN</td>\n",
       "      <td>...</td>\n",
       "      <td>NaN</td>\n",
       "      <td>3.000</td>\n",
       "      <td>NaN</td>\n",
       "      <td>0.000</td>\n",
       "      <td>1.000</td>\n",
       "      <td>6.000</td>\n",
       "      <td>0.000</td>\n",
       "      <td>NaN</td>\n",
       "      <td>NaN</td>\n",
       "      <td>12.000</td>\n",
       "    </tr>\n",
       "    <tr>\n",
       "      <th>25%</th>\n",
       "      <td>1604880000000000000.000</td>\n",
       "      <td>NaN</td>\n",
       "      <td>189923.500</td>\n",
       "      <td>NaN</td>\n",
       "      <td>NaN</td>\n",
       "      <td>NaN</td>\n",
       "      <td>33000.000</td>\n",
       "      <td>NaN</td>\n",
       "      <td>51.000</td>\n",
       "      <td>NaN</td>\n",
       "      <td>...</td>\n",
       "      <td>NaN</td>\n",
       "      <td>6.500</td>\n",
       "      <td>NaN</td>\n",
       "      <td>0.000</td>\n",
       "      <td>2.000</td>\n",
       "      <td>40.000</td>\n",
       "      <td>2.000</td>\n",
       "      <td>NaN</td>\n",
       "      <td>NaN</td>\n",
       "      <td>101.000</td>\n",
       "    </tr>\n",
       "    <tr>\n",
       "      <th>50%</th>\n",
       "      <td>1627603200000000000.000</td>\n",
       "      <td>NaN</td>\n",
       "      <td>283000.000</td>\n",
       "      <td>NaN</td>\n",
       "      <td>NaN</td>\n",
       "      <td>NaN</td>\n",
       "      <td>33100.000</td>\n",
       "      <td>NaN</td>\n",
       "      <td>103.000</td>\n",
       "      <td>NaN</td>\n",
       "      <td>...</td>\n",
       "      <td>NaN</td>\n",
       "      <td>8.000</td>\n",
       "      <td>NaN</td>\n",
       "      <td>1.000</td>\n",
       "      <td>2.000</td>\n",
       "      <td>60.000</td>\n",
       "      <td>3.000</td>\n",
       "      <td>NaN</td>\n",
       "      <td>NaN</td>\n",
       "      <td>152.000</td>\n",
       "    </tr>\n",
       "    <tr>\n",
       "      <th>75%</th>\n",
       "      <td>1650412800000000000.000</td>\n",
       "      <td>NaN</td>\n",
       "      <td>456175.000</td>\n",
       "      <td>NaN</td>\n",
       "      <td>NaN</td>\n",
       "      <td>NaN</td>\n",
       "      <td>33300.000</td>\n",
       "      <td>NaN</td>\n",
       "      <td>178.000</td>\n",
       "      <td>NaN</td>\n",
       "      <td>...</td>\n",
       "      <td>NaN</td>\n",
       "      <td>9.000</td>\n",
       "      <td>NaN</td>\n",
       "      <td>1.000</td>\n",
       "      <td>2.000</td>\n",
       "      <td>83.000</td>\n",
       "      <td>4.000</td>\n",
       "      <td>NaN</td>\n",
       "      <td>NaN</td>\n",
       "      <td>236.000</td>\n",
       "    </tr>\n",
       "    <tr>\n",
       "      <th>max</th>\n",
       "      <td>1672358400000000000.000</td>\n",
       "      <td>NaN</td>\n",
       "      <td>1017950.000</td>\n",
       "      <td>NaN</td>\n",
       "      <td>NaN</td>\n",
       "      <td>NaN</td>\n",
       "      <td>33800.000</td>\n",
       "      <td>NaN</td>\n",
       "      <td>602.000</td>\n",
       "      <td>NaN</td>\n",
       "      <td>...</td>\n",
       "      <td>NaN</td>\n",
       "      <td>91.000</td>\n",
       "      <td>NaN</td>\n",
       "      <td>17.000</td>\n",
       "      <td>2.000</td>\n",
       "      <td>400.000</td>\n",
       "      <td>17.000</td>\n",
       "      <td>NaN</td>\n",
       "      <td>NaN</td>\n",
       "      <td>10897.000</td>\n",
       "    </tr>\n",
       "  </tbody>\n",
       "</table>\n",
       "<p>11 rows × 26 columns</p>\n",
       "</div>"
      ],
      "text/plain": [
       "                 Date mutation Nature mutation  Valeur fonciere B/T/Q   \n",
       "count                17719.000           17719        17719.000   576  \\\n",
       "unique                     NaN               6              NaN     7   \n",
       "top                        NaN           Vente              NaN     B   \n",
       "freq                       NaN           17582              NaN   495   \n",
       "mean   1627327894170099968.000             NaN       345905.520   NaN   \n",
       "std      26363009765688252.000             NaN       212190.864   NaN   \n",
       "min    1577923200000000000.000             NaN            0.000   NaN   \n",
       "25%    1604880000000000000.000             NaN       189923.500   NaN   \n",
       "50%    1627603200000000000.000             NaN       283000.000   NaN   \n",
       "75%    1650412800000000000.000             NaN       456175.000   NaN   \n",
       "max    1672358400000000000.000             NaN      1017950.000   NaN   \n",
       "\n",
       "       Type de voie         Voie  Code postal Section   No plan 1er lot  ...   \n",
       "count         17715        17719    17719.000   17676 17719.000   12396  ...  \\\n",
       "unique           20         1493          NaN     339       NaN     967  ...   \n",
       "top             RUE  SAINT LOUIS          NaN      HE       NaN       2  ...   \n",
       "freq          13580          186          NaN     271       NaN     756  ...   \n",
       "mean            NaN          NaN    33227.897     NaN   125.286     NaN  ...   \n",
       "std             NaN          NaN      288.433     NaN    97.646     NaN  ...   \n",
       "min             NaN          NaN    33000.000     NaN     1.000     NaN  ...   \n",
       "25%             NaN          NaN    33000.000     NaN    51.000     NaN  ...   \n",
       "50%             NaN          NaN    33100.000     NaN   103.000     NaN  ...   \n",
       "75%             NaN          NaN    33300.000     NaN   178.000     NaN  ...   \n",
       "max             NaN          NaN    33800.000     NaN   602.000     NaN  ...   \n",
       "\n",
       "       Surface Carrez du 4eme lot  5eme lot Surface Carrez du 5eme lot   \n",
       "count                          16    23.000                          6  \\\n",
       "unique                         13       NaN                          3   \n",
       "top                         25,60       NaN                       6,00   \n",
       "freq                            4       NaN                          4   \n",
       "mean                          NaN    12.739                        NaN   \n",
       "std                           NaN    18.081                        NaN   \n",
       "min                           NaN     3.000                        NaN   \n",
       "25%                           NaN     6.500                        NaN   \n",
       "50%                           NaN     8.000                        NaN   \n",
       "75%                           NaN     9.000                        NaN   \n",
       "max                           NaN    91.000                        NaN   \n",
       "\n",
       "        Nombre de lots Code type local  Surface reelle bati   \n",
       "count        17719.000       17719.000            17719.000  \\\n",
       "unique             NaN             NaN                  NaN   \n",
       "top                NaN             NaN                  NaN   \n",
       "freq               NaN             NaN                  NaN   \n",
       "mean             0.848           1.774               66.054   \n",
       "std              0.717           0.418               37.610   \n",
       "min              0.000           1.000                6.000   \n",
       "25%              0.000           2.000               40.000   \n",
       "50%              1.000           2.000               60.000   \n",
       "75%              1.000           2.000               83.000   \n",
       "max             17.000           2.000              400.000   \n",
       "\n",
       "       Nombre pieces principales  Nature culture Nature culture speciale   \n",
       "count                  17719.000            5336                      13  \\\n",
       "unique                       NaN               4                       1   \n",
       "top                          NaN               S                   POTAG   \n",
       "freq                         NaN            5272                      13   \n",
       "mean                       2.798             NaN                     NaN   \n",
       "std                        1.403             NaN                     NaN   \n",
       "min                        0.000             NaN                     NaN   \n",
       "25%                        2.000             NaN                     NaN   \n",
       "50%                        3.000             NaN                     NaN   \n",
       "75%                        4.000             NaN                     NaN   \n",
       "max                       17.000             NaN                     NaN   \n",
       "\n",
       "        Surface terrain  \n",
       "count          5336.000  \n",
       "unique              NaN  \n",
       "top                 NaN  \n",
       "freq                NaN  \n",
       "mean            208.867  \n",
       "std             393.191  \n",
       "min              12.000  \n",
       "25%             101.000  \n",
       "50%             152.000  \n",
       "75%             236.000  \n",
       "max           10897.000  \n",
       "\n",
       "[11 rows x 26 columns]"
      ]
     },
     "execution_count": 36,
     "metadata": {},
     "output_type": "execute_result"
    }
   ],
   "source": [
    "filtered_data_2.describe(include='all')"
   ]
  },
  {
   "cell_type": "code",
   "execution_count": 37,
   "metadata": {},
   "outputs": [
    {
     "name": "stdout",
     "output_type": "stream",
     "text": [
      "WARNING:tensorflow:From c:\\Users\\zara\\AppData\\Local\\Programs\\Python\\Python311\\Lib\\site-packages\\keras\\src\\losses.py:2976: The name tf.losses.sparse_softmax_cross_entropy is deprecated. Please use tf.compat.v1.losses.sparse_softmax_cross_entropy instead.\n",
      "\n"
     ]
    }
   ],
   "source": [
    "import tensorflow as tf"
   ]
  },
  {
   "cell_type": "code",
   "execution_count": null,
   "metadata": {},
   "outputs": [],
   "source": [
    "# numeric_features = ['Surface reelle bati', 'Nombre de lots', 'No plan']\n",
    "# categorical_features = ['Nature mutation', 'Type de voie', 'Voie', 'Code postal', 'Code type local', 'B/T/Q', 'Surface terrain']"
   ]
  },
  {
   "cell_type": "code",
   "execution_count": 38,
   "metadata": {},
   "outputs": [
    {
     "data": {
      "text/plain": [
       "['Date mutation',\n",
       " 'Code postal',\n",
       " 'No plan',\n",
       " '2eme lot',\n",
       " '3eme lot',\n",
       " '4eme lot',\n",
       " '5eme lot',\n",
       " 'Nombre de lots',\n",
       " 'Code type local',\n",
       " 'Surface reelle bati',\n",
       " 'Nombre pieces principales',\n",
       " 'Surface terrain']"
      ]
     },
     "execution_count": 38,
     "metadata": {},
     "output_type": "execute_result"
    }
   ],
   "source": [
    "numeric_features = filtered_data_2.select_dtypes(include=[np.number]).columns.tolist()\n",
    "numeric_features.remove('Valeur fonciere')\n",
    "numeric_features"
   ]
  },
  {
   "cell_type": "code",
   "execution_count": 39,
   "metadata": {},
   "outputs": [
    {
     "data": {
      "text/plain": [
       "['Nature mutation',\n",
       " 'B/T/Q',\n",
       " 'Type de voie',\n",
       " 'Voie',\n",
       " 'Section',\n",
       " '1er lot',\n",
       " 'Surface Carrez du 1er lot',\n",
       " 'Surface Carrez du 2eme lot',\n",
       " 'Surface Carrez du 3eme lot',\n",
       " 'Surface Carrez du 4eme lot',\n",
       " 'Surface Carrez du 5eme lot',\n",
       " 'Nature culture',\n",
       " 'Nature culture speciale']"
      ]
     },
     "execution_count": 39,
     "metadata": {},
     "output_type": "execute_result"
    }
   ],
   "source": [
    "categorical_features = filtered_data_2.select_dtypes(include=['object']).columns.tolist()\n",
    "categorical_features"
   ]
  },
  {
   "cell_type": "markdown",
   "metadata": {},
   "source": [
    "## data 2023 de test"
   ]
  },
  {
   "cell_type": "code",
   "execution_count": null,
   "metadata": {},
   "outputs": [],
   "source": [
    "# #dataset = pd.read_csv(\"data_bordeaux_2023.csv\", low_memory=False)\n",
    "# dataset = pd.read_csv(\"data_bordeaux_debut_2023.csv\", low_memory=False)\n",
    "# data_2023 = dataset[(dataset[\"Commune\"] == \"BORDEAUX\") & (dataset[\"Code type local\"].isin([1, 2]))]"
   ]
  },
  {
   "cell_type": "code",
   "execution_count": 40,
   "metadata": {},
   "outputs": [],
   "source": [
    "data_2023 = data_bordeaux_test"
   ]
  },
  {
   "cell_type": "code",
   "execution_count": 41,
   "metadata": {},
   "outputs": [
    {
     "name": "stdout",
     "output_type": "stream",
     "text": [
      "(2758, 26)\n"
     ]
    },
    {
     "data": {
      "text/html": [
       "<div>\n",
       "<style scoped>\n",
       "    .dataframe tbody tr th:only-of-type {\n",
       "        vertical-align: middle;\n",
       "    }\n",
       "\n",
       "    .dataframe tbody tr th {\n",
       "        vertical-align: top;\n",
       "    }\n",
       "\n",
       "    .dataframe thead th {\n",
       "        text-align: right;\n",
       "    }\n",
       "</style>\n",
       "<table border=\"1\" class=\"dataframe\">\n",
       "  <thead>\n",
       "    <tr style=\"text-align: right;\">\n",
       "      <th></th>\n",
       "      <th>Date mutation</th>\n",
       "      <th>Nature mutation</th>\n",
       "      <th>Valeur fonciere</th>\n",
       "      <th>B/T/Q</th>\n",
       "      <th>Type de voie</th>\n",
       "      <th>Voie</th>\n",
       "      <th>Code postal</th>\n",
       "      <th>Section</th>\n",
       "      <th>No plan</th>\n",
       "      <th>1er lot</th>\n",
       "      <th>...</th>\n",
       "      <th>Surface Carrez du 4eme lot</th>\n",
       "      <th>5eme lot</th>\n",
       "      <th>Surface Carrez du 5eme lot</th>\n",
       "      <th>Nombre de lots</th>\n",
       "      <th>Code type local</th>\n",
       "      <th>Surface reelle bati</th>\n",
       "      <th>Nombre pieces principales</th>\n",
       "      <th>Nature culture</th>\n",
       "      <th>Nature culture speciale</th>\n",
       "      <th>Surface terrain</th>\n",
       "    </tr>\n",
       "  </thead>\n",
       "  <tbody>\n",
       "    <tr>\n",
       "      <th>0</th>\n",
       "      <td>1672876800000000000</td>\n",
       "      <td>Vente</td>\n",
       "      <td>420000</td>\n",
       "      <td>NaN</td>\n",
       "      <td>RUE</td>\n",
       "      <td>DE LESCURE</td>\n",
       "      <td>33000</td>\n",
       "      <td>IW</td>\n",
       "      <td>155</td>\n",
       "      <td>NaN</td>\n",
       "      <td>...</td>\n",
       "      <td>NaN</td>\n",
       "      <td>NaN</td>\n",
       "      <td>NaN</td>\n",
       "      <td>0</td>\n",
       "      <td>1.000</td>\n",
       "      <td>80.000</td>\n",
       "      <td>3.000</td>\n",
       "      <td>S</td>\n",
       "      <td>NaN</td>\n",
       "      <td>211.000</td>\n",
       "    </tr>\n",
       "    <tr>\n",
       "      <th>1</th>\n",
       "      <td>1672790400000000000</td>\n",
       "      <td>Vente</td>\n",
       "      <td>134260</td>\n",
       "      <td>NaN</td>\n",
       "      <td>RUE</td>\n",
       "      <td>NERIGEAN</td>\n",
       "      <td>33800</td>\n",
       "      <td>DN</td>\n",
       "      <td>342</td>\n",
       "      <td>2.000</td>\n",
       "      <td>...</td>\n",
       "      <td>NaN</td>\n",
       "      <td>NaN</td>\n",
       "      <td>NaN</td>\n",
       "      <td>1</td>\n",
       "      <td>2.000</td>\n",
       "      <td>25.000</td>\n",
       "      <td>2.000</td>\n",
       "      <td>NaN</td>\n",
       "      <td>NaN</td>\n",
       "      <td>NaN</td>\n",
       "    </tr>\n",
       "    <tr>\n",
       "      <th>2</th>\n",
       "      <td>1672790400000000000</td>\n",
       "      <td>Vente</td>\n",
       "      <td>360000</td>\n",
       "      <td>NaN</td>\n",
       "      <td>IMP</td>\n",
       "      <td>LUCKNER</td>\n",
       "      <td>33000</td>\n",
       "      <td>PO</td>\n",
       "      <td>167</td>\n",
       "      <td>3.000</td>\n",
       "      <td>...</td>\n",
       "      <td>NaN</td>\n",
       "      <td>NaN</td>\n",
       "      <td>NaN</td>\n",
       "      <td>1</td>\n",
       "      <td>2.000</td>\n",
       "      <td>65.000</td>\n",
       "      <td>2.000</td>\n",
       "      <td>NaN</td>\n",
       "      <td>NaN</td>\n",
       "      <td>NaN</td>\n",
       "    </tr>\n",
       "    <tr>\n",
       "      <th>3</th>\n",
       "      <td>1672876800000000000</td>\n",
       "      <td>Vente</td>\n",
       "      <td>249900</td>\n",
       "      <td>NaN</td>\n",
       "      <td>RUE</td>\n",
       "      <td>8 EME REGIMENT INFANTERIE</td>\n",
       "      <td>33200</td>\n",
       "      <td>YP</td>\n",
       "      <td>44</td>\n",
       "      <td>31.000</td>\n",
       "      <td>...</td>\n",
       "      <td>NaN</td>\n",
       "      <td>NaN</td>\n",
       "      <td>NaN</td>\n",
       "      <td>2</td>\n",
       "      <td>1.000</td>\n",
       "      <td>64.000</td>\n",
       "      <td>3.000</td>\n",
       "      <td>NaN</td>\n",
       "      <td>NaN</td>\n",
       "      <td>NaN</td>\n",
       "    </tr>\n",
       "    <tr>\n",
       "      <th>4</th>\n",
       "      <td>1672704000000000000</td>\n",
       "      <td>Vente</td>\n",
       "      <td>497000</td>\n",
       "      <td>NaN</td>\n",
       "      <td>RUE</td>\n",
       "      <td>JUDAIQUE</td>\n",
       "      <td>33000</td>\n",
       "      <td>KX</td>\n",
       "      <td>97</td>\n",
       "      <td>4.000</td>\n",
       "      <td>...</td>\n",
       "      <td>NaN</td>\n",
       "      <td>NaN</td>\n",
       "      <td>NaN</td>\n",
       "      <td>1</td>\n",
       "      <td>2.000</td>\n",
       "      <td>90.000</td>\n",
       "      <td>4.000</td>\n",
       "      <td>NaN</td>\n",
       "      <td>NaN</td>\n",
       "      <td>NaN</td>\n",
       "    </tr>\n",
       "  </tbody>\n",
       "</table>\n",
       "<p>5 rows × 26 columns</p>\n",
       "</div>"
      ],
      "text/plain": [
       "         Date mutation Nature mutation  Valeur fonciere B/T/Q Type de voie   \n",
       "0  1672876800000000000           Vente           420000   NaN          RUE  \\\n",
       "1  1672790400000000000           Vente           134260   NaN          RUE   \n",
       "2  1672790400000000000           Vente           360000   NaN          IMP   \n",
       "3  1672876800000000000           Vente           249900   NaN          RUE   \n",
       "4  1672704000000000000           Vente           497000   NaN          RUE   \n",
       "\n",
       "                        Voie  Code postal Section  No plan  1er lot  ...   \n",
       "0                 DE LESCURE        33000      IW      155      NaN  ...  \\\n",
       "1                   NERIGEAN        33800      DN      342    2.000  ...   \n",
       "2                    LUCKNER        33000      PO      167    3.000  ...   \n",
       "3  8 EME REGIMENT INFANTERIE        33200      YP       44   31.000  ...   \n",
       "4                   JUDAIQUE        33000      KX       97    4.000  ...   \n",
       "\n",
       "  Surface Carrez du 4eme lot  5eme lot Surface Carrez du 5eme lot   \n",
       "0                        NaN       NaN                        NaN  \\\n",
       "1                        NaN       NaN                        NaN   \n",
       "2                        NaN       NaN                        NaN   \n",
       "3                        NaN       NaN                        NaN   \n",
       "4                        NaN       NaN                        NaN   \n",
       "\n",
       "   Nombre de lots Code type local  Surface reelle bati   \n",
       "0               0           1.000               80.000  \\\n",
       "1               1           2.000               25.000   \n",
       "2               1           2.000               65.000   \n",
       "3               2           1.000               64.000   \n",
       "4               1           2.000               90.000   \n",
       "\n",
       "   Nombre pieces principales  Nature culture  Nature culture speciale   \n",
       "0                      3.000               S                      NaN  \\\n",
       "1                      2.000             NaN                      NaN   \n",
       "2                      2.000             NaN                      NaN   \n",
       "3                      3.000             NaN                      NaN   \n",
       "4                      4.000             NaN                      NaN   \n",
       "\n",
       "   Surface terrain  \n",
       "0          211.000  \n",
       "1              NaN  \n",
       "2              NaN  \n",
       "3              NaN  \n",
       "4              NaN  \n",
       "\n",
       "[5 rows x 26 columns]"
      ]
     },
     "execution_count": 41,
     "metadata": {},
     "output_type": "execute_result"
    }
   ],
   "source": [
    "print(data_2023.shape)\n",
    "data_2023.head()"
   ]
  },
  {
   "cell_type": "markdown",
   "metadata": {},
   "source": [
    "## Data train & TEST"
   ]
  },
  {
   "cell_type": "code",
   "execution_count": null,
   "metadata": {},
   "outputs": [],
   "source": [
    "# filtered_data_2[categorical_features] = filtered_data_2[categorical_features].astype(str)\n",
    "# columns_to_convert = ['B/T/Q', 'Surface terrain']\n",
    "# filtered_data_2[columns_to_convert] = filtered_data_2[columns_to_convert].astype(str)\n",
    "# filtered_data_2[columns_to_convert] = filtered_data_2[columns_to_convert].fillna('aucun')"
   ]
  },
  {
   "cell_type": "code",
   "execution_count": 42,
   "metadata": {},
   "outputs": [],
   "source": [
    "filtered_data_2[categorical_features] = filtered_data_2[categorical_features].astype(str)\n",
    "filtered_data_2[categorical_features] = filtered_data_2[categorical_features].fillna('aucun')"
   ]
  },
  {
   "cell_type": "code",
   "execution_count": 43,
   "metadata": {},
   "outputs": [],
   "source": [
    "data_2023[categorical_features] = data_2023[categorical_features].astype(str)\n",
    "data_2023[categorical_features] = data_2023[categorical_features].fillna('aucun')"
   ]
  },
  {
   "cell_type": "code",
   "execution_count": 44,
   "metadata": {},
   "outputs": [
    {
     "data": {
      "text/html": [
       "<div>\n",
       "<style scoped>\n",
       "    .dataframe tbody tr th:only-of-type {\n",
       "        vertical-align: middle;\n",
       "    }\n",
       "\n",
       "    .dataframe tbody tr th {\n",
       "        vertical-align: top;\n",
       "    }\n",
       "\n",
       "    .dataframe thead th {\n",
       "        text-align: right;\n",
       "    }\n",
       "</style>\n",
       "<table border=\"1\" class=\"dataframe\">\n",
       "  <thead>\n",
       "    <tr style=\"text-align: right;\">\n",
       "      <th></th>\n",
       "      <th>Date mutation</th>\n",
       "      <th>Nature mutation</th>\n",
       "      <th>Valeur fonciere</th>\n",
       "      <th>B/T/Q</th>\n",
       "      <th>Type de voie</th>\n",
       "      <th>Voie</th>\n",
       "      <th>Code postal</th>\n",
       "      <th>Section</th>\n",
       "      <th>No plan</th>\n",
       "      <th>1er lot</th>\n",
       "      <th>...</th>\n",
       "      <th>Surface Carrez du 4eme lot</th>\n",
       "      <th>5eme lot</th>\n",
       "      <th>Surface Carrez du 5eme lot</th>\n",
       "      <th>Nombre de lots</th>\n",
       "      <th>Code type local</th>\n",
       "      <th>Surface reelle bati</th>\n",
       "      <th>Nombre pieces principales</th>\n",
       "      <th>Nature culture</th>\n",
       "      <th>Nature culture speciale</th>\n",
       "      <th>Surface terrain</th>\n",
       "    </tr>\n",
       "  </thead>\n",
       "  <tbody>\n",
       "    <tr>\n",
       "      <th>count</th>\n",
       "      <td>17719.000</td>\n",
       "      <td>17719</td>\n",
       "      <td>17719.000</td>\n",
       "      <td>17719</td>\n",
       "      <td>17719</td>\n",
       "      <td>17719</td>\n",
       "      <td>17719.000</td>\n",
       "      <td>17719</td>\n",
       "      <td>17719.000</td>\n",
       "      <td>17719</td>\n",
       "      <td>...</td>\n",
       "      <td>17719</td>\n",
       "      <td>23.000</td>\n",
       "      <td>17719</td>\n",
       "      <td>17719.000</td>\n",
       "      <td>17719.000</td>\n",
       "      <td>17719.000</td>\n",
       "      <td>17719.000</td>\n",
       "      <td>17719</td>\n",
       "      <td>17719</td>\n",
       "      <td>5336.000</td>\n",
       "    </tr>\n",
       "    <tr>\n",
       "      <th>unique</th>\n",
       "      <td>NaN</td>\n",
       "      <td>6</td>\n",
       "      <td>NaN</td>\n",
       "      <td>8</td>\n",
       "      <td>21</td>\n",
       "      <td>1493</td>\n",
       "      <td>NaN</td>\n",
       "      <td>340</td>\n",
       "      <td>NaN</td>\n",
       "      <td>968</td>\n",
       "      <td>...</td>\n",
       "      <td>14</td>\n",
       "      <td>NaN</td>\n",
       "      <td>4</td>\n",
       "      <td>NaN</td>\n",
       "      <td>NaN</td>\n",
       "      <td>NaN</td>\n",
       "      <td>NaN</td>\n",
       "      <td>5</td>\n",
       "      <td>2</td>\n",
       "      <td>NaN</td>\n",
       "    </tr>\n",
       "    <tr>\n",
       "      <th>top</th>\n",
       "      <td>NaN</td>\n",
       "      <td>Vente</td>\n",
       "      <td>NaN</td>\n",
       "      <td>nan</td>\n",
       "      <td>RUE</td>\n",
       "      <td>SAINT LOUIS</td>\n",
       "      <td>NaN</td>\n",
       "      <td>HE</td>\n",
       "      <td>NaN</td>\n",
       "      <td>nan</td>\n",
       "      <td>...</td>\n",
       "      <td>nan</td>\n",
       "      <td>NaN</td>\n",
       "      <td>nan</td>\n",
       "      <td>NaN</td>\n",
       "      <td>NaN</td>\n",
       "      <td>NaN</td>\n",
       "      <td>NaN</td>\n",
       "      <td>nan</td>\n",
       "      <td>nan</td>\n",
       "      <td>NaN</td>\n",
       "    </tr>\n",
       "    <tr>\n",
       "      <th>freq</th>\n",
       "      <td>NaN</td>\n",
       "      <td>17582</td>\n",
       "      <td>NaN</td>\n",
       "      <td>17143</td>\n",
       "      <td>13580</td>\n",
       "      <td>186</td>\n",
       "      <td>NaN</td>\n",
       "      <td>271</td>\n",
       "      <td>NaN</td>\n",
       "      <td>5323</td>\n",
       "      <td>...</td>\n",
       "      <td>17703</td>\n",
       "      <td>NaN</td>\n",
       "      <td>17713</td>\n",
       "      <td>NaN</td>\n",
       "      <td>NaN</td>\n",
       "      <td>NaN</td>\n",
       "      <td>NaN</td>\n",
       "      <td>12383</td>\n",
       "      <td>17706</td>\n",
       "      <td>NaN</td>\n",
       "    </tr>\n",
       "    <tr>\n",
       "      <th>mean</th>\n",
       "      <td>1627327894170099968.000</td>\n",
       "      <td>NaN</td>\n",
       "      <td>345905.520</td>\n",
       "      <td>NaN</td>\n",
       "      <td>NaN</td>\n",
       "      <td>NaN</td>\n",
       "      <td>33227.897</td>\n",
       "      <td>NaN</td>\n",
       "      <td>125.286</td>\n",
       "      <td>NaN</td>\n",
       "      <td>...</td>\n",
       "      <td>NaN</td>\n",
       "      <td>12.739</td>\n",
       "      <td>NaN</td>\n",
       "      <td>0.848</td>\n",
       "      <td>1.774</td>\n",
       "      <td>66.054</td>\n",
       "      <td>2.798</td>\n",
       "      <td>NaN</td>\n",
       "      <td>NaN</td>\n",
       "      <td>208.867</td>\n",
       "    </tr>\n",
       "    <tr>\n",
       "      <th>std</th>\n",
       "      <td>26363009765688252.000</td>\n",
       "      <td>NaN</td>\n",
       "      <td>212190.864</td>\n",
       "      <td>NaN</td>\n",
       "      <td>NaN</td>\n",
       "      <td>NaN</td>\n",
       "      <td>288.433</td>\n",
       "      <td>NaN</td>\n",
       "      <td>97.646</td>\n",
       "      <td>NaN</td>\n",
       "      <td>...</td>\n",
       "      <td>NaN</td>\n",
       "      <td>18.081</td>\n",
       "      <td>NaN</td>\n",
       "      <td>0.717</td>\n",
       "      <td>0.418</td>\n",
       "      <td>37.610</td>\n",
       "      <td>1.403</td>\n",
       "      <td>NaN</td>\n",
       "      <td>NaN</td>\n",
       "      <td>393.191</td>\n",
       "    </tr>\n",
       "    <tr>\n",
       "      <th>min</th>\n",
       "      <td>1577923200000000000.000</td>\n",
       "      <td>NaN</td>\n",
       "      <td>0.000</td>\n",
       "      <td>NaN</td>\n",
       "      <td>NaN</td>\n",
       "      <td>NaN</td>\n",
       "      <td>33000.000</td>\n",
       "      <td>NaN</td>\n",
       "      <td>1.000</td>\n",
       "      <td>NaN</td>\n",
       "      <td>...</td>\n",
       "      <td>NaN</td>\n",
       "      <td>3.000</td>\n",
       "      <td>NaN</td>\n",
       "      <td>0.000</td>\n",
       "      <td>1.000</td>\n",
       "      <td>6.000</td>\n",
       "      <td>0.000</td>\n",
       "      <td>NaN</td>\n",
       "      <td>NaN</td>\n",
       "      <td>12.000</td>\n",
       "    </tr>\n",
       "    <tr>\n",
       "      <th>25%</th>\n",
       "      <td>1604880000000000000.000</td>\n",
       "      <td>NaN</td>\n",
       "      <td>189923.500</td>\n",
       "      <td>NaN</td>\n",
       "      <td>NaN</td>\n",
       "      <td>NaN</td>\n",
       "      <td>33000.000</td>\n",
       "      <td>NaN</td>\n",
       "      <td>51.000</td>\n",
       "      <td>NaN</td>\n",
       "      <td>...</td>\n",
       "      <td>NaN</td>\n",
       "      <td>6.500</td>\n",
       "      <td>NaN</td>\n",
       "      <td>0.000</td>\n",
       "      <td>2.000</td>\n",
       "      <td>40.000</td>\n",
       "      <td>2.000</td>\n",
       "      <td>NaN</td>\n",
       "      <td>NaN</td>\n",
       "      <td>101.000</td>\n",
       "    </tr>\n",
       "    <tr>\n",
       "      <th>50%</th>\n",
       "      <td>1627603200000000000.000</td>\n",
       "      <td>NaN</td>\n",
       "      <td>283000.000</td>\n",
       "      <td>NaN</td>\n",
       "      <td>NaN</td>\n",
       "      <td>NaN</td>\n",
       "      <td>33100.000</td>\n",
       "      <td>NaN</td>\n",
       "      <td>103.000</td>\n",
       "      <td>NaN</td>\n",
       "      <td>...</td>\n",
       "      <td>NaN</td>\n",
       "      <td>8.000</td>\n",
       "      <td>NaN</td>\n",
       "      <td>1.000</td>\n",
       "      <td>2.000</td>\n",
       "      <td>60.000</td>\n",
       "      <td>3.000</td>\n",
       "      <td>NaN</td>\n",
       "      <td>NaN</td>\n",
       "      <td>152.000</td>\n",
       "    </tr>\n",
       "    <tr>\n",
       "      <th>75%</th>\n",
       "      <td>1650412800000000000.000</td>\n",
       "      <td>NaN</td>\n",
       "      <td>456175.000</td>\n",
       "      <td>NaN</td>\n",
       "      <td>NaN</td>\n",
       "      <td>NaN</td>\n",
       "      <td>33300.000</td>\n",
       "      <td>NaN</td>\n",
       "      <td>178.000</td>\n",
       "      <td>NaN</td>\n",
       "      <td>...</td>\n",
       "      <td>NaN</td>\n",
       "      <td>9.000</td>\n",
       "      <td>NaN</td>\n",
       "      <td>1.000</td>\n",
       "      <td>2.000</td>\n",
       "      <td>83.000</td>\n",
       "      <td>4.000</td>\n",
       "      <td>NaN</td>\n",
       "      <td>NaN</td>\n",
       "      <td>236.000</td>\n",
       "    </tr>\n",
       "    <tr>\n",
       "      <th>max</th>\n",
       "      <td>1672358400000000000.000</td>\n",
       "      <td>NaN</td>\n",
       "      <td>1017950.000</td>\n",
       "      <td>NaN</td>\n",
       "      <td>NaN</td>\n",
       "      <td>NaN</td>\n",
       "      <td>33800.000</td>\n",
       "      <td>NaN</td>\n",
       "      <td>602.000</td>\n",
       "      <td>NaN</td>\n",
       "      <td>...</td>\n",
       "      <td>NaN</td>\n",
       "      <td>91.000</td>\n",
       "      <td>NaN</td>\n",
       "      <td>17.000</td>\n",
       "      <td>2.000</td>\n",
       "      <td>400.000</td>\n",
       "      <td>17.000</td>\n",
       "      <td>NaN</td>\n",
       "      <td>NaN</td>\n",
       "      <td>10897.000</td>\n",
       "    </tr>\n",
       "  </tbody>\n",
       "</table>\n",
       "<p>11 rows × 26 columns</p>\n",
       "</div>"
      ],
      "text/plain": [
       "                 Date mutation Nature mutation  Valeur fonciere  B/T/Q   \n",
       "count                17719.000           17719        17719.000  17719  \\\n",
       "unique                     NaN               6              NaN      8   \n",
       "top                        NaN           Vente              NaN    nan   \n",
       "freq                       NaN           17582              NaN  17143   \n",
       "mean   1627327894170099968.000             NaN       345905.520    NaN   \n",
       "std      26363009765688252.000             NaN       212190.864    NaN   \n",
       "min    1577923200000000000.000             NaN            0.000    NaN   \n",
       "25%    1604880000000000000.000             NaN       189923.500    NaN   \n",
       "50%    1627603200000000000.000             NaN       283000.000    NaN   \n",
       "75%    1650412800000000000.000             NaN       456175.000    NaN   \n",
       "max    1672358400000000000.000             NaN      1017950.000    NaN   \n",
       "\n",
       "       Type de voie         Voie  Code postal Section   No plan 1er lot  ...   \n",
       "count         17719        17719    17719.000   17719 17719.000   17719  ...  \\\n",
       "unique           21         1493          NaN     340       NaN     968  ...   \n",
       "top             RUE  SAINT LOUIS          NaN      HE       NaN     nan  ...   \n",
       "freq          13580          186          NaN     271       NaN    5323  ...   \n",
       "mean            NaN          NaN    33227.897     NaN   125.286     NaN  ...   \n",
       "std             NaN          NaN      288.433     NaN    97.646     NaN  ...   \n",
       "min             NaN          NaN    33000.000     NaN     1.000     NaN  ...   \n",
       "25%             NaN          NaN    33000.000     NaN    51.000     NaN  ...   \n",
       "50%             NaN          NaN    33100.000     NaN   103.000     NaN  ...   \n",
       "75%             NaN          NaN    33300.000     NaN   178.000     NaN  ...   \n",
       "max             NaN          NaN    33800.000     NaN   602.000     NaN  ...   \n",
       "\n",
       "       Surface Carrez du 4eme lot  5eme lot Surface Carrez du 5eme lot   \n",
       "count                       17719    23.000                      17719  \\\n",
       "unique                         14       NaN                          4   \n",
       "top                           nan       NaN                        nan   \n",
       "freq                        17703       NaN                      17713   \n",
       "mean                          NaN    12.739                        NaN   \n",
       "std                           NaN    18.081                        NaN   \n",
       "min                           NaN     3.000                        NaN   \n",
       "25%                           NaN     6.500                        NaN   \n",
       "50%                           NaN     8.000                        NaN   \n",
       "75%                           NaN     9.000                        NaN   \n",
       "max                           NaN    91.000                        NaN   \n",
       "\n",
       "        Nombre de lots Code type local  Surface reelle bati   \n",
       "count        17719.000       17719.000            17719.000  \\\n",
       "unique             NaN             NaN                  NaN   \n",
       "top                NaN             NaN                  NaN   \n",
       "freq               NaN             NaN                  NaN   \n",
       "mean             0.848           1.774               66.054   \n",
       "std              0.717           0.418               37.610   \n",
       "min              0.000           1.000                6.000   \n",
       "25%              0.000           2.000               40.000   \n",
       "50%              1.000           2.000               60.000   \n",
       "75%              1.000           2.000               83.000   \n",
       "max             17.000           2.000              400.000   \n",
       "\n",
       "       Nombre pieces principales  Nature culture Nature culture speciale   \n",
       "count                  17719.000           17719                   17719  \\\n",
       "unique                       NaN               5                       2   \n",
       "top                          NaN             nan                     nan   \n",
       "freq                         NaN           12383                   17706   \n",
       "mean                       2.798             NaN                     NaN   \n",
       "std                        1.403             NaN                     NaN   \n",
       "min                        0.000             NaN                     NaN   \n",
       "25%                        2.000             NaN                     NaN   \n",
       "50%                        3.000             NaN                     NaN   \n",
       "75%                        4.000             NaN                     NaN   \n",
       "max                       17.000             NaN                     NaN   \n",
       "\n",
       "        Surface terrain  \n",
       "count          5336.000  \n",
       "unique              NaN  \n",
       "top                 NaN  \n",
       "freq                NaN  \n",
       "mean            208.867  \n",
       "std             393.191  \n",
       "min              12.000  \n",
       "25%             101.000  \n",
       "50%             152.000  \n",
       "75%             236.000  \n",
       "max           10897.000  \n",
       "\n",
       "[11 rows x 26 columns]"
      ]
     },
     "execution_count": 44,
     "metadata": {},
     "output_type": "execute_result"
    }
   ],
   "source": [
    "filtered_data_2.describe(include='all')"
   ]
  },
  {
   "cell_type": "code",
   "execution_count": 45,
   "metadata": {},
   "outputs": [
    {
     "name": "stdout",
     "output_type": "stream",
     "text": [
      "Separating labels from features...\n"
     ]
    }
   ],
   "source": [
    "# Select Target and features\n",
    "target_name = 'Valeur fonciere'\n",
    "#features_names = ['Nature mutation', 'B/T/Q', 'Type de voie', 'Voie', 'No plan', 'Code postal', 'Nombre de lots', 'Code type local', 'Surface reelle bati', 'Surface terrain']\n",
    "features_names = numeric_features + categorical_features\n",
    "\n",
    "print(\"Separating labels from features...\")\n",
    "Y = filtered_data_2.loc[:,target_name]\n",
    "X = filtered_data_2.loc[:, features_names]"
   ]
  },
  {
   "cell_type": "code",
   "execution_count": 46,
   "metadata": {},
   "outputs": [
    {
     "name": "stdout",
     "output_type": "stream",
     "text": [
      "0    396000\n",
      "1    158500\n",
      "2    187000\n",
      "3    312500\n",
      "4    116000\n",
      "Name: Valeur fonciere, dtype: int32\n",
      "\n",
      "         Date mutation  Code postal  No plan  2eme lot  3eme lot  4eme lot   \n",
      "0  1641254400000000000        33000      203       NaN       NaN       NaN  \\\n",
      "1  1641340800000000000        33000      381       NaN       NaN       NaN   \n",
      "2  1641513600000000000        33200       97       NaN       NaN       NaN   \n",
      "3  1641168000000000000        33000      169       NaN       NaN       NaN   \n",
      "4  1641340800000000000        33000      113       NaN       NaN       NaN   \n",
      "\n",
      "   5eme lot  Nombre de lots  Code type local  Surface reelle bati  ...   \n",
      "0       NaN               0            1.000               71.000  ...  \\\n",
      "1       NaN               1            2.000               40.000  ...   \n",
      "2       NaN               1            2.000               35.000  ...   \n",
      "3       NaN               0            1.000               65.000  ...   \n",
      "4       NaN               1            2.000               20.000  ...   \n",
      "\n",
      "            Voie  Section 1er lot Surface Carrez du 1er lot   \n",
      "0     DE NAVARRE       HB     nan                       nan  \\\n",
      "1      DU SOLEIL       HE       9                       nan   \n",
      "2  STEHELIN CAUD       VX       5                       nan   \n",
      "3      POUDENSAN       LE     nan                       nan   \n",
      "4       LEYTEIRE       DR      13                     18,80   \n",
      "\n",
      "  Surface Carrez du 2eme lot Surface Carrez du 3eme lot   \n",
      "0                        nan                        nan  \\\n",
      "1                        nan                        nan   \n",
      "2                        nan                        nan   \n",
      "3                        nan                        nan   \n",
      "4                        nan                        nan   \n",
      "\n",
      "  Surface Carrez du 4eme lot Surface Carrez du 5eme lot Nature culture   \n",
      "0                        nan                        nan              S  \\\n",
      "1                        nan                        nan            nan   \n",
      "2                        nan                        nan            nan   \n",
      "3                        nan                        nan              S   \n",
      "4                        nan                        nan            nan   \n",
      "\n",
      "  Nature culture speciale  \n",
      "0                     nan  \n",
      "1                     nan  \n",
      "2                     nan  \n",
      "3                     nan  \n",
      "4                     nan  \n",
      "\n",
      "[5 rows x 25 columns]\n",
      "\n"
     ]
    }
   ],
   "source": [
    "print(Y.head())\n",
    "print()\n",
    "print(X.head())\n",
    "print()"
   ]
  },
  {
   "cell_type": "markdown",
   "metadata": {},
   "source": [
    "## Split, Pipeline & Creation batch"
   ]
  },
  {
   "cell_type": "code",
   "execution_count": 47,
   "metadata": {},
   "outputs": [],
   "source": [
    "from sklearn.model_selection import train_test_split\n",
    "# split train and validation\n",
    "X_train, X_val, y_train, y_val = train_test_split(X, Y, test_size=0.2, random_state=42)\n",
    "\n",
    "# split test set\n",
    "# No need here we got Y_test and X_test on"
   ]
  },
  {
   "cell_type": "code",
   "execution_count": 48,
   "metadata": {},
   "outputs": [
    {
     "name": "stdout",
     "output_type": "stream",
     "text": [
      "...Done.\n"
     ]
    }
   ],
   "source": [
    "Y_test = data_2023.loc[:,target_name]\n",
    "X_test = data_2023.loc[:, features_names]\n",
    "print(\"...Done.\")"
   ]
  },
  {
   "cell_type": "code",
   "execution_count": 49,
   "metadata": {},
   "outputs": [
    {
     "name": "stdout",
     "output_type": "stream",
     "text": [
      "0    420000\n",
      "1    134260\n",
      "2    360000\n",
      "3    249900\n",
      "4    497000\n",
      "Name: Valeur fonciere, dtype: int32\n",
      "\n",
      "         Date mutation  Code postal  No plan  2eme lot  3eme lot  4eme lot   \n",
      "0  1672876800000000000        33000      155       NaN       NaN       NaN  \\\n",
      "1  1672790400000000000        33800      342       NaN       NaN       NaN   \n",
      "2  1672790400000000000        33000      167       NaN       NaN       NaN   \n",
      "3  1672876800000000000        33200       44    32.000       NaN       NaN   \n",
      "4  1672704000000000000        33000       97       NaN       NaN       NaN   \n",
      "\n",
      "   5eme lot  Nombre de lots  Code type local  Surface reelle bati  ...   \n",
      "0       NaN               0            1.000               80.000  ...  \\\n",
      "1       NaN               1            2.000               25.000  ...   \n",
      "2       NaN               1            2.000               65.000  ...   \n",
      "3       NaN               2            1.000               64.000  ...   \n",
      "4       NaN               1            2.000               90.000  ...   \n",
      "\n",
      "                        Voie  Section 1er lot Surface Carrez du 1er lot   \n",
      "0                 DE LESCURE       IW     nan                       nan  \\\n",
      "1                   NERIGEAN       DN     2.0                     27,03   \n",
      "2                    LUCKNER       PO     3.0                       nan   \n",
      "3  8 EME REGIMENT INFANTERIE       YP    31.0                     63,53   \n",
      "4                   JUDAIQUE       KX     4.0                       nan   \n",
      "\n",
      "  Surface Carrez du 2eme lot Surface Carrez du 3eme lot   \n",
      "0                        nan                        nan  \\\n",
      "1                        nan                        nan   \n",
      "2                        nan                        nan   \n",
      "3                        nan                        nan   \n",
      "4                        nan                        nan   \n",
      "\n",
      "  Surface Carrez du 4eme lot Surface Carrez du 5eme lot Nature culture   \n",
      "0                        nan                        nan              S  \\\n",
      "1                        nan                        nan            nan   \n",
      "2                        nan                        nan            nan   \n",
      "3                        nan                        nan            nan   \n",
      "4                        nan                        nan            nan   \n",
      "\n",
      "  Nature culture speciale  \n",
      "0                     nan  \n",
      "1                     nan  \n",
      "2                     nan  \n",
      "3                     nan  \n",
      "4                     nan  \n",
      "\n",
      "[5 rows x 25 columns]\n",
      "\n"
     ]
    }
   ],
   "source": [
    "print(Y_test.head())\n",
    "print()\n",
    "print(X_test.head())\n",
    "print()"
   ]
  },
  {
   "cell_type": "code",
   "execution_count": 50,
   "metadata": {},
   "outputs": [
    {
     "name": "stdout",
     "output_type": "stream",
     "text": [
      "X_train (14175, 25) y_train (14175,)\n",
      "X_val (3544, 25) y_val (3544,)\n",
      "X_test (2758, 25) y_test (2758,)\n"
     ]
    }
   ],
   "source": [
    "print(\"X_train\", X_train.shape, \"y_train\", y_train.shape)\n",
    "print(\"X_val\", X_val.shape, \"y_val\", y_val.shape)\n",
    "print(\"X_test\", X_test.shape, \"y_test\", Y_test.shape)"
   ]
  },
  {
   "cell_type": "code",
   "execution_count": null,
   "metadata": {},
   "outputs": [],
   "source": [
    "# X_train.type()"
   ]
  },
  {
   "cell_type": "code",
   "execution_count": 51,
   "metadata": {},
   "outputs": [],
   "source": [
    "from sklearn.model_selection import train_test_split\n",
    "from sklearn.pipeline import Pipeline\n",
    "from sklearn.impute import SimpleImputer\n",
    "from sklearn.preprocessing import  OneHotEncoder, StandardScaler, LabelEncoder\n",
    "from sklearn.compose import ColumnTransformer"
   ]
  },
  {
   "cell_type": "code",
   "execution_count": null,
   "metadata": {},
   "outputs": [],
   "source": [
    "# # changement type de données\n",
    "# # parce que dans le jeux de données 2023 les données n'ont pas le bons types (possède des virgules)\n",
    "# # Change Y in integer\n",
    "# Y = Y.astype(int)\n",
    "# Y_test = Y_test.str.replace(',', '.')\n",
    "# Y_test.fillna('0', inplace=True)\n",
    "# Y_test = Y_test.astype(float).astype(int)"
   ]
  },
  {
   "cell_type": "code",
   "execution_count": null,
   "metadata": {},
   "outputs": [],
   "source": [
    "# numeric_features = ['Nombre de lots', 'Surface reelle bati', 'No plan', 'Surface terrain', 'Code type local']\n",
    "# categorical_features = ['Nature mutation', 'Type de voie', 'Voie', 'Code postal', 'B/T/Q']"
   ]
  },
  {
   "cell_type": "code",
   "execution_count": 52,
   "metadata": {},
   "outputs": [],
   "source": [
    "# Create pipeline for numeric features\n",
    "numeric_transformer = Pipeline(steps=[\n",
    "    ('imputer', SimpleImputer(strategy='median')),\n",
    "    ('scaler', StandardScaler())\n",
    "    ])\n",
    "\n",
    "# Create pipeline for categorical features\n",
    "categorical_transformer = Pipeline(\n",
    "    steps=[\n",
    "    ('imputer', SimpleImputer(strategy='most_frequent')),\n",
    "    ('encoder', OneHotEncoder(handle_unknown='ignore', drop='first', sparse_output=False))\n",
    "    ])\n",
    "\n",
    "# Use ColumnTransformer to make a preprocessor object that describes all the treatments to be done\n",
    "preprocessor = ColumnTransformer(\n",
    "    transformers=[\n",
    "        ('num', numeric_transformer, numeric_features),\n",
    "        ('cat', categorical_transformer, categorical_features)\n",
    "    ])"
   ]
  },
  {
   "cell_type": "code",
   "execution_count": 53,
   "metadata": {},
   "outputs": [
    {
     "name": "stdout",
     "output_type": "stream",
     "text": [
      "Performing preprocessings on features set...\n"
     ]
    },
    {
     "name": "stderr",
     "output_type": "stream",
     "text": [
      "c:\\Users\\zara\\AppData\\Local\\Programs\\Python\\Python311\\Lib\\site-packages\\sklearn\\preprocessing\\_encoders.py:202: UserWarning:\n",
      "\n",
      "Found unknown categories in columns [1, 3, 5, 6, 7, 8, 9] during transform. These unknown categories will be encoded as all zeros\n",
      "\n",
      "c:\\Users\\zara\\AppData\\Local\\Programs\\Python\\Python311\\Lib\\site-packages\\sklearn\\preprocessing\\_encoders.py:202: UserWarning:\n",
      "\n",
      "Found unknown categories in columns [2, 3, 4, 5, 6, 7, 8] during transform. These unknown categories will be encoded as all zeros\n",
      "\n"
     ]
    },
    {
     "name": "stdout",
     "output_type": "stream",
     "text": [
      "...Done.\n",
      "[[-1.64978545 -0.0957305  -0.28382217 ...  0.          1.\n",
      "   1.        ]\n",
      " [ 1.16704258 -0.78771408  1.32889952 ...  0.          1.\n",
      "   1.        ]\n",
      " [ 1.33062145 -0.0957305   0.32860379 ...  1.          0.\n",
      "   1.        ]\n",
      " [ 0.26408726 -0.44172229 -0.38589316 ...  0.          1.\n",
      "   1.        ]\n",
      " [-1.43058977 -0.78771408 -0.11030148 ...  0.          1.\n",
      "   1.        ]]\n",
      "\n",
      "[[-0.52763444 -0.78771408 -0.10009438 ...  0.          1.\n",
      "   1.        ]\n",
      " [-0.7206575  -0.0957305  -1.21266821 ...  0.          1.\n",
      "   1.        ]\n",
      " [ 0.26408726 -0.44172229  0.78792326 ...  1.          0.\n",
      "   1.        ]\n",
      " [-0.17757567 -0.78771408 -0.52879255 ...  1.          0.\n",
      "   1.        ]\n",
      " [-1.06744469 -0.78771408 -0.35527186 ...  0.          1.\n",
      "   1.        ]]\n",
      "\n",
      "[[ 1.72648229 -0.78771408  0.29798249 ...  1.          0.\n",
      "   1.        ]\n",
      " [ 1.72321072  1.98022025  2.20671007 ...  0.          1.\n",
      "   1.        ]\n",
      " [ 1.72321072 -0.78771408  0.42046768 ...  0.          1.\n",
      "   1.        ]\n",
      " [ 1.72648229 -0.0957305  -0.83500553 ...  0.          1.\n",
      "   1.        ]\n",
      " [ 1.71993914 -0.78771408 -0.29402927 ...  0.          1.\n",
      "   1.        ]]\n"
     ]
    }
   ],
   "source": [
    "from scipy.sparse import hstack\n",
    "# Preprocessings on train set\n",
    "\n",
    "print(\"Performing preprocessings on features set...\")\n",
    "X_train = preprocessor.fit_transform(X_train)\n",
    "X_val = preprocessor.transform(X_val)\n",
    "X_test = preprocessor.transform(X_test)\n",
    "print('...Done.')\n",
    "print(X_train[0:5])\n",
    "print()\n",
    "print(X_val[0:5])\n",
    "print()\n",
    "print(X_test[0:5])"
   ]
  },
  {
   "cell_type": "code",
   "execution_count": null,
   "metadata": {},
   "outputs": [],
   "source": [
    "# from sklearn.preprocessing import StandardScaler, MinMaxScaler\n",
    "\n",
    "# scaler = StandardScaler()\n",
    "# y_train = scaler.fit_transform(y_train)\n",
    "\n",
    "# y_val = scaler.transform(y_val)\n",
    "# Y_test = scaler.transform(Y_test.values.reshape(-1, 1))"
   ]
  },
  {
   "cell_type": "code",
   "execution_count": 54,
   "metadata": {},
   "outputs": [],
   "source": [
    "# Convertir les matrices creuses en tableaux denses\n",
    "\n",
    "train = tf.data.Dataset.from_tensor_slices((X_train,y_train))\n",
    "val = tf.data.Dataset.from_tensor_slices((X_val,y_val))\n",
    "test = tf.data.Dataset.from_tensor_slices((X_test,Y_test))\n",
    "\n",
    "# print(\"train:\",train)\n",
    "# print(\"val:\", val)\n",
    "# print(\"test:\", test)"
   ]
  },
  {
   "cell_type": "markdown",
   "metadata": {},
   "source": [
    "Shuffle sert à mélanger l'ordre des exemples données au modèle, cela permet de changer les séquences. Le batch permet de diviser le dataset en petits lots, le modèle ajuste les poids après chaque lots ici de 128 échantillons (pour éviter l'ajustement individuel)."
   ]
  },
  {
   "cell_type": "code",
   "execution_count": 55,
   "metadata": {},
   "outputs": [
    {
     "name": "stdout",
     "output_type": "stream",
     "text": [
      "train batch: (<tf.Tensor: shape=(128, 6580), dtype=float64, numpy=\n",
      "array([[ 0.69593546,  1.98022025, -0.28382217, ...,  0.        ,\n",
      "         1.        ,  1.        ],\n",
      "       [ 0.32624722, -0.78771408, -0.80438423, ...,  0.        ,\n",
      "         1.        ,  1.        ],\n",
      "       [ 0.17248309, -0.78771408, -0.39610026, ...,  0.        ,\n",
      "         1.        ,  1.        ],\n",
      "       ...,\n",
      "       [ 0.73846596, -0.78771408,  0.51233158, ...,  0.        ,\n",
      "         1.        ,  1.        ],\n",
      "       [ 1.6250634 , -0.0957305 ,  0.71647357, ...,  0.        ,\n",
      "         1.        ,  1.        ],\n",
      "       [-0.89077952, -0.44172229, -0.55941385, ...,  0.        ,\n",
      "         1.        ,  1.        ]])>, <tf.Tensor: shape=(128,), dtype=int32, numpy=\n",
      "array([192000, 555000, 213000, 344476, 600000, 311230, 812800, 185000,\n",
      "       130000, 279850, 486500,  49190, 222950, 617650, 615000, 598000,\n",
      "       551600, 265000, 330000, 285000, 762140, 212500, 375000, 356010,\n",
      "       850000, 248900, 424950, 103000,      1, 255000, 418400, 192010,\n",
      "       913375, 132700, 177000, 446600, 150000, 670000, 151000, 321700,\n",
      "       889300, 140000, 412514, 300000, 270000, 476500, 490000, 243000,\n",
      "       540000, 275000, 100000, 390000, 215000, 636900, 196000, 310000,\n",
      "       440000, 135000, 187803, 541000, 100000, 214980, 923150, 160200,\n",
      "       400000, 547000, 240000, 119000, 208000, 934500, 980000, 130000,\n",
      "       700000, 352700, 198000, 158000,  51511, 192000, 261200, 643100,\n",
      "       217000, 406500, 159000, 275000, 145000, 256350, 580000, 244000,\n",
      "       766100, 280000, 720000, 192000, 360000, 321400, 283100, 605000,\n",
      "       350000, 260500, 250000, 474110, 252200, 645200, 245000, 440000,\n",
      "       650000, 188000, 162900, 177000, 162750, 198500, 319000, 370000,\n",
      "       265000,  69000, 165000, 500000, 220000, 180000, 305000, 630000,\n",
      "       780000,  72380, 544890, 135000, 150000, 378850, 209000, 187000])>)\n",
      "val batch: (<tf.Tensor: shape=(128, 6580), dtype=float64, numpy=\n",
      "array([[-0.05652732, -0.78771408, -0.83500553, ...,  0.        ,\n",
      "         1.        ,  1.        ],\n",
      "       [-1.23102356, -0.0957305 , -1.2534966 , ...,  1.        ,\n",
      "         0.        ,  1.        ],\n",
      "       [-1.09688889, -0.44172229,  0.61440257, ...,  0.        ,\n",
      "         1.        ,  1.        ],\n",
      "       ...,\n",
      "       [-0.53744917, -0.0957305 , -1.2739108 , ...,  0.        ,\n",
      "         1.        ,  1.        ],\n",
      "       [-1.02491419, -0.44172229, -0.93707652, ...,  1.        ,\n",
      "         0.        ,  1.        ],\n",
      "       [-1.32262772,  1.98022025, -0.52879255, ...,  0.        ,\n",
      "         1.        ,  1.        ]])>, <tf.Tensor: shape=(128,), dtype=int32, numpy=\n",
      "array([193000, 810000, 388800, 335222, 188050, 625996, 200000, 195000,\n",
      "       249000, 242000, 117000, 324280, 184000, 353400, 208000, 546000,\n",
      "       100000, 465000, 135000, 250000, 359525, 187000, 178000, 692000,\n",
      "       256000, 650000, 621300, 279200, 260000, 137610, 100000, 285500,\n",
      "       178000, 260000, 452100, 272500, 146850, 380000, 174500, 473000,\n",
      "       437200, 630210, 701000, 307500, 257400, 112500, 755300, 437400,\n",
      "       188000, 256980, 277000, 167728, 296500, 170000, 264842, 351000,\n",
      "       400000, 404550, 350000, 178000, 875000, 315000, 185000, 740000,\n",
      "       234600, 519070, 242085, 195000, 810000, 400000, 130000, 377000,\n",
      "       290500, 308700, 545000, 371820, 179000, 399500, 220000, 420200,\n",
      "       345000, 152000, 138000, 148200, 220000, 389900, 285000, 286500,\n",
      "       253500, 500000, 107500, 620000, 480900, 600000, 282950, 220000,\n",
      "       150000, 323000, 238000, 984700, 225000, 884500, 215000, 225000,\n",
      "       275000, 150000, 226722, 466500, 865000, 361010, 156000, 305000,\n",
      "       340000, 270000, 765800, 252000, 260000, 150000, 245000, 224500,\n",
      "       250010, 437000, 140250, 881500, 185000, 550000, 397000, 187626])>)\n",
      "test batch: (<tf.Tensor: shape=(128, 6580), dtype=float64, numpy=\n",
      "array([[ 2.22049046, -0.78771408, -0.08988728, ...,  1.        ,\n",
      "         0.        ,  1.        ],\n",
      "       [ 2.13542945,  0.25026129, -0.43692866, ...,  0.        ,\n",
      "         1.        ,  1.        ],\n",
      "       [ 2.18777469,  1.98022025, -0.73293454, ...,  0.        ,\n",
      "         1.        ,  1.        ],\n",
      "       ...,\n",
      "       [ 1.74284018, -0.78771408, -0.95749072, ...,  0.        ,\n",
      "         1.        ,  1.        ],\n",
      "       [ 2.11907157, -0.78771408,  1.21662143, ...,  1.        ,\n",
      "         0.        ,  1.        ],\n",
      "       [ 1.83444434,  1.98022025, -0.60024225, ...,  0.        ,\n",
      "         1.        ,  1.        ]])>, <tf.Tensor: shape=(128,), dtype=int32, numpy=\n",
      "array([ 755000,  193000,  239000,  150500,  132000,  357500,   37000,\n",
      "        151475,  198000,  583000,  266000,  640000,  267800,  508000,\n",
      "        443400,  371000,  123000,  232500,  414000,  215000,  160028,\n",
      "        440000,  285000,  762000,  258500,  402500, 2416850,  163500,\n",
      "       1556000,  150000, 1230540, 1015000,  599000,  790780, 2080000,\n",
      "        150000,  601500,  342500,  840000,  350000,  545000,  397200,\n",
      "       1284000, 1440000,  311700,  520000,  782900,  115000,  227000,\n",
      "        147500,  840000,  468400,  689800,  315000,  132000,  500000,\n",
      "       1950000,  175000,  150000,  208050,  222000, 1000000,  500000,\n",
      "        852950,  564750,  243000,  185000,  190000,  500000,  660000,\n",
      "        177400,  218500,  310000,  256500,  118665, 1100000,  106000,\n",
      "        491500,  280000,  278420,  745000,  498820,  200000,  145000,\n",
      "        220000,  173000,  616294,  358570,  230000,  235000,  730000,\n",
      "       1365000, 1240350,  514300,  159000,  145000,  607000,  443000,\n",
      "        258000,  420000,  284907,  228000,  462000,  544500,  202860,\n",
      "       1127200, 4400000, 1100000,  360577,  457380,  611700,  275000,\n",
      "        195000,  505000,  740000,  931100,  149000,  115000,  172600,\n",
      "        272000,  387000,  311600,  165000,  636000,  165500, 1340000,\n",
      "        908000,  239000])>)\n"
     ]
    }
   ],
   "source": [
    "# shuffle and creation batch of 128\n",
    "train_batch = train.shuffle(len(X_train)).batch(128)\n",
    "val_batch = val.shuffle(len(X_val)).batch(128)\n",
    "test_batch = test.shuffle(len(X_test)).batch(128)\n",
    "\n",
    "print(\"train batch:\", next(iter(train_batch)))\n",
    "print(\"val batch:\", next(iter(val_batch)))\n",
    "print(\"test batch:\", next(iter(test_batch)))"
   ]
  },
  {
   "cell_type": "markdown",
   "metadata": {},
   "source": [
    "# Model"
   ]
  },
  {
   "cell_type": "code",
   "execution_count": 56,
   "metadata": {},
   "outputs": [],
   "source": [
    "from tensorflow.keras.layers import Dense\n",
    "from tensorflow.keras.layers import Dropout\n",
    "from tensorflow.keras.layers import BatchNormalization\n",
    "from tensorflow.keras.models import Sequential\n",
    "from tensorflow.keras.optimizers import Adam, SGD\n",
    "from tensorflow.keras.losses import MeanSquaredError"
   ]
  },
  {
   "cell_type": "markdown",
   "metadata": {},
   "source": [
    "### best model for now"
   ]
  },
  {
   "cell_type": "code",
   "execution_count": null,
   "metadata": {},
   "outputs": [],
   "source": [
    "!pip install -U tensorboard"
   ]
  },
  {
   "cell_type": "code",
   "execution_count": 57,
   "metadata": {},
   "outputs": [],
   "source": [
    "from tensorflow.keras import regularizers"
   ]
  },
  {
   "cell_type": "code",
   "execution_count": 58,
   "metadata": {},
   "outputs": [
    {
     "name": "stdout",
     "output_type": "stream",
     "text": [
      "X_train (14175, 6580) y_train (14175,)\n",
      "X_val (3544, 6580) y_val (3544,)\n",
      "X_test (2758, 6580) y_test (2758,)\n"
     ]
    }
   ],
   "source": [
    "print(\"X_train\", X_train.shape, \"y_train\", y_train.shape)\n",
    "print(\"X_val\", X_val.shape, \"y_val\", y_val.shape)\n",
    "print(\"X_test\", X_test.shape, \"y_test\", Y_test.shape)"
   ]
  },
  {
   "cell_type": "code",
   "execution_count": 59,
   "metadata": {},
   "outputs": [],
   "source": [
    "input_shape = 6580"
   ]
  },
  {
   "cell_type": "code",
   "execution_count": 60,
   "metadata": {},
   "outputs": [
    {
     "name": "stdout",
     "output_type": "stream",
     "text": [
      "WARNING:tensorflow:From c:\\Users\\zara\\AppData\\Local\\Programs\\Python\\Python311\\Lib\\site-packages\\keras\\src\\backend.py:873: The name tf.get_default_graph is deprecated. Please use tf.compat.v1.get_default_graph instead.\n",
      "\n",
      "Model: \"sequential\"\n",
      "_________________________________________________________________\n",
      " Layer (type)                Output Shape              Param #   \n",
      "=================================================================\n",
      " dense (Dense)               (None, 128)               842368    \n",
      "                                                                 \n",
      " batch_normalization (Batch  (None, 128)               512       \n",
      " Normalization)                                                  \n",
      "                                                                 \n",
      " dense_1 (Dense)             (None, 128)               16512     \n",
      "                                                                 \n",
      " dropout (Dropout)           (None, 128)               0         \n",
      "                                                                 \n",
      " dense_2 (Dense)             (None, 64)                8256      \n",
      "                                                                 \n",
      " dense_3 (Dense)             (None, 1)                 65        \n",
      "                                                                 \n",
      "=================================================================\n",
      "Total params: 867713 (3.31 MB)\n",
      "Trainable params: 867457 (3.31 MB)\n",
      "Non-trainable params: 256 (1.00 KB)\n",
      "_________________________________________________________________\n"
     ]
    }
   ],
   "source": [
    "#second train\n",
    "premier_model = Sequential([\n",
    "    Dense(128, \"relu\", input_shape=(input_shape,), kernel_regularizer=regularizers.l2(0.01)), #input nombre de colonnes\n",
    "    BatchNormalization(), # pour  stabiliser l'entrainment en normalisant les activations (ça accélère la convergence)\n",
    "    Dense(128,\"relu\", kernel_regularizer=regularizers.l2(0.01)),\n",
    "    Dropout(0.4), # couche pour éviter le surajustement, il drop 40% des neurones à chaque fois\n",
    "    Dense(64, \"relu\", kernel_regularizer=regularizers.l2(0.01)),\n",
    "    Dense(1, \"linear\") # on met un seul neurone en sortie, c'est le neurone de prédiction du prix.\n",
    "    ])\n",
    "\n",
    "premier_model.summary()"
   ]
  },
  {
   "cell_type": "code",
   "execution_count": 61,
   "metadata": {},
   "outputs": [],
   "source": [
    "premier_model.compile(optimizer=Adam(), #adam à un learning rate par défaut à 0.001 mais il adapte tout seul le pas\n",
    "              loss=MeanSquaredError(), # loss fonction  MSE\n",
    "              metrics=['mae']) # mean absolute error"
   ]
  },
  {
   "cell_type": "code",
   "execution_count": 62,
   "metadata": {},
   "outputs": [
    {
     "name": "stdout",
     "output_type": "stream",
     "text": [
      "Forme de X_train: (14175, 6580)\n",
      "Forme de X_val: (3544, 6580)\n",
      "Forme de X_test: (2758, 6580)\n"
     ]
    }
   ],
   "source": [
    "print(\"Forme de X_train:\", X_train.shape)\n",
    "print(\"Forme de X_val:\", X_val.shape)\n",
    "print(\"Forme de X_test:\", X_test.shape)\n"
   ]
  },
  {
   "cell_type": "code",
   "execution_count": 63,
   "metadata": {},
   "outputs": [
    {
     "name": "stdout",
     "output_type": "stream",
     "text": [
      "Epoch 1/100\n",
      "WARNING:tensorflow:From c:\\Users\\zara\\AppData\\Local\\Programs\\Python\\Python311\\Lib\\site-packages\\keras\\src\\utils\\tf_utils.py:492: The name tf.ragged.RaggedTensorValue is deprecated. Please use tf.compat.v1.ragged.RaggedTensorValue instead.\n",
      "\n",
      "WARNING:tensorflow:From c:\\Users\\zara\\AppData\\Local\\Programs\\Python\\Python311\\Lib\\site-packages\\keras\\src\\engine\\base_layer_utils.py:384: The name tf.executing_eagerly_outside_functions is deprecated. Please use tf.compat.v1.executing_eagerly_outside_functions instead.\n",
      "\n",
      "111/111 [==============================] - 25s 99ms/step - loss: 164422942720.0000 - mae: 345878.1562 - val_loss: 163309879296.0000 - val_mae: 343423.8438\n",
      "Epoch 2/100\n",
      "111/111 [==============================] - 11s 86ms/step - loss: 155608268800.0000 - mae: 336388.6875 - val_loss: 147507920896.0000 - val_mae: 325737.3125\n",
      "Epoch 3/100\n",
      "111/111 [==============================] - 11s 86ms/step - loss: 118354993152.0000 - mae: 292702.2500 - val_loss: 92570370048.0000 - val_mae: 255291.0625\n",
      "Epoch 4/100\n",
      "111/111 [==============================] - 11s 86ms/step - loss: 60894859264.0000 - mae: 200974.7656 - val_loss: 46582640640.0000 - val_mae: 172289.9531\n",
      "Epoch 5/100\n",
      "111/111 [==============================] - 11s 89ms/step - loss: 22743306240.0000 - mae: 110150.5234 - val_loss: 20235571200.0000 - val_mae: 97748.4844\n",
      "Epoch 6/100\n",
      "111/111 [==============================] - 10s 83ms/step - loss: 14476125184.0000 - mae: 82957.3516 - val_loss: 17811898368.0000 - val_mae: 92098.4766\n",
      "Epoch 7/100\n",
      "111/111 [==============================] - 10s 85ms/step - loss: 13006339072.0000 - mae: 78604.0312 - val_loss: 15611132928.0000 - val_mae: 86362.5312\n",
      "Epoch 8/100\n",
      "111/111 [==============================] - 11s 90ms/step - loss: 11978999808.0000 - mae: 75686.9766 - val_loss: 15710215168.0000 - val_mae: 85217.4844\n",
      "Epoch 9/100\n",
      "111/111 [==============================] - 11s 90ms/step - loss: 11873547264.0000 - mae: 75032.7578 - val_loss: 16720548864.0000 - val_mae: 85971.8281\n",
      "Epoch 10/100\n",
      "111/111 [==============================] - 11s 89ms/step - loss: 11676049408.0000 - mae: 74829.2266 - val_loss: 18311481344.0000 - val_mae: 87228.5547\n",
      "Epoch 11/100\n",
      "111/111 [==============================] - 11s 87ms/step - loss: 11387668480.0000 - mae: 73651.5312 - val_loss: 15028218880.0000 - val_mae: 83592.9375\n",
      "Epoch 12/100\n",
      "111/111 [==============================] - 11s 88ms/step - loss: 11365899264.0000 - mae: 73995.4844 - val_loss: 17005717504.0000 - val_mae: 89762.3203\n",
      "Epoch 13/100\n",
      "111/111 [==============================] - 11s 89ms/step - loss: 10654099456.0000 - mae: 70641.6875 - val_loss: 17053103104.0000 - val_mae: 87286.8828\n",
      "Epoch 14/100\n",
      "111/111 [==============================] - 11s 86ms/step - loss: 10494093312.0000 - mae: 70231.4453 - val_loss: 15180602368.0000 - val_mae: 85113.0938\n",
      "Epoch 15/100\n",
      "111/111 [==============================] - 11s 91ms/step - loss: 10004880384.0000 - mae: 68476.0703 - val_loss: 16579499008.0000 - val_mae: 84139.2500\n",
      "Epoch 16/100\n",
      "111/111 [==============================] - 10s 85ms/step - loss: 10024142848.0000 - mae: 68996.5000 - val_loss: 17132809216.0000 - val_mae: 87713.6094\n",
      "Epoch 17/100\n",
      "111/111 [==============================] - 11s 88ms/step - loss: 9977322496.0000 - mae: 69502.3125 - val_loss: 16119394304.0000 - val_mae: 84862.1484\n",
      "Epoch 18/100\n",
      "111/111 [==============================] - 11s 89ms/step - loss: 9580509184.0000 - mae: 67362.2891 - val_loss: 14664909824.0000 - val_mae: 82522.5312\n",
      "Epoch 19/100\n",
      "111/111 [==============================] - 10s 84ms/step - loss: 9451414528.0000 - mae: 67596.3516 - val_loss: 15535737856.0000 - val_mae: 83882.7656\n",
      "Epoch 20/100\n",
      "111/111 [==============================] - 10s 87ms/step - loss: 9142541312.0000 - mae: 66303.6719 - val_loss: 19736791040.0000 - val_mae: 84791.5234\n",
      "Epoch 21/100\n",
      "111/111 [==============================] - 11s 90ms/step - loss: 9277446144.0000 - mae: 66889.1406 - val_loss: 15402473472.0000 - val_mae: 83292.1016\n",
      "Epoch 22/100\n",
      "111/111 [==============================] - 11s 92ms/step - loss: 9433782272.0000 - mae: 67463.0312 - val_loss: 15345966080.0000 - val_mae: 86804.8906\n",
      "Epoch 23/100\n",
      "111/111 [==============================] - 11s 91ms/step - loss: 9148724224.0000 - mae: 66506.4766 - val_loss: 16900751360.0000 - val_mae: 84065.7891\n",
      "Epoch 24/100\n",
      "111/111 [==============================] - 11s 94ms/step - loss: 9091143680.0000 - mae: 66698.2891 - val_loss: 16124772352.0000 - val_mae: 84256.1172\n",
      "Epoch 25/100\n",
      "111/111 [==============================] - 11s 96ms/step - loss: 8634989568.0000 - mae: 64384.6367 - val_loss: 15402215424.0000 - val_mae: 83572.5156\n",
      "Epoch 26/100\n",
      "111/111 [==============================] - 11s 92ms/step - loss: 8654982144.0000 - mae: 64213.2305 - val_loss: 16257055744.0000 - val_mae: 85425.8047\n",
      "Epoch 27/100\n",
      "111/111 [==============================] - 11s 96ms/step - loss: 8064566784.0000 - mae: 61566.8086 - val_loss: 15094839296.0000 - val_mae: 82609.9922\n",
      "Epoch 28/100\n",
      "111/111 [==============================] - 11s 91ms/step - loss: 7971421184.0000 - mae: 62515.3477 - val_loss: 15398424576.0000 - val_mae: 82952.9922\n",
      "\n",
      " ------ \n",
      " training history: {'loss': [164422942720.0, 155608268800.0, 118354993152.0, 60894859264.0, 22743306240.0, 14476125184.0, 13006339072.0, 11978999808.0, 11873547264.0, 11676049408.0, 11387668480.0, 11365899264.0, 10654099456.0, 10494093312.0, 10004880384.0, 10024142848.0, 9977322496.0, 9580509184.0, 9451414528.0, 9142541312.0, 9277446144.0, 9433782272.0, 9148724224.0, 9091143680.0, 8634989568.0, 8654982144.0, 8064566784.0, 7971421184.0], 'mae': [345878.15625, 336388.6875, 292702.25, 200974.765625, 110150.5234375, 82957.3515625, 78604.03125, 75686.9765625, 75032.7578125, 74829.2265625, 73651.53125, 73995.484375, 70641.6875, 70231.4453125, 68476.0703125, 68996.5, 69502.3125, 67362.2890625, 67596.3515625, 66303.671875, 66889.140625, 67463.03125, 66506.4765625, 66698.2890625, 64384.63671875, 64213.23046875, 61566.80859375, 62515.34765625], 'val_loss': [163309879296.0, 147507920896.0, 92570370048.0, 46582640640.0, 20235571200.0, 17811898368.0, 15611132928.0, 15710215168.0, 16720548864.0, 18311481344.0, 15028218880.0, 17005717504.0, 17053103104.0, 15180602368.0, 16579499008.0, 17132809216.0, 16119394304.0, 14664909824.0, 15535737856.0, 19736791040.0, 15402473472.0, 15345966080.0, 16900751360.0, 16124772352.0, 15402215424.0, 16257055744.0, 15094839296.0, 15398424576.0], 'val_mae': [343423.84375, 325737.3125, 255291.0625, 172289.953125, 97748.484375, 92098.4765625, 86362.53125, 85217.484375, 85971.828125, 87228.5546875, 83592.9375, 89762.3203125, 87286.8828125, 85113.09375, 84139.25, 87713.609375, 84862.1484375, 82522.53125, 83882.765625, 84791.5234375, 83292.1015625, 86804.890625, 84065.7890625, 84256.1171875, 83572.515625, 85425.8046875, 82609.9921875, 82952.9921875]}\n"
     ]
    }
   ],
   "source": [
    "# second train\n",
    "from tensorflow.keras.callbacks import EarlyStopping, TensorBoard\n",
    "from datetime import datetime\n",
    "# l'early stopping permet de stoppper l'entrainement dès que les performances sur les données de validations arrète de s'améliorer\n",
    "early_stopping = EarlyStopping(monitor='val_loss', patience=10, restore_best_weights=True)\n",
    "\n",
    "# tensorboard\n",
    "log_dir = \"logs_model/fit/\" + datetime.now().strftime(\"%Y%m%d-%H%M%S\")\n",
    "tensorboard_callback = TensorBoard(log_dir=log_dir, histogram_freq=1)\n",
    "\n",
    "history = premier_model.fit(train_batch, epochs=100, validation_data=val_batch, callbacks=[early_stopping, tensorboard_callback])\n",
    "\n",
    "print(\"\\n ------ \\n\",\"training history:\",history.history)"
   ]
  },
  {
   "cell_type": "code",
   "execution_count": 64,
   "metadata": {},
   "outputs": [
    {
     "name": "stdout",
     "output_type": "stream",
     "text": [
      "Forme de X_train: (14175, 6580)\n",
      "Forme de X_val: (3544, 6580)\n",
      "Forme de X_test: (2758, 6580)\n"
     ]
    }
   ],
   "source": [
    "print(\"Forme de X_train:\", X_train.shape)\n",
    "print(\"Forme de X_val:\", X_val.shape)\n",
    "print(\"Forme de X_test:\", X_test.shape)\n"
   ]
  },
  {
   "cell_type": "code",
   "execution_count": 75,
   "metadata": {},
   "outputs": [],
   "source": [
    "# # Vérifiez la forme des données d'entrée\n",
    "# print(\"Forme des données d'entraînement:\", train_batch.shape)\n",
    "# print(\"Forme des données de validation:\", val_batch.shape)\n",
    "\n",
    "# # Vérifiez la première couche de votre modèle\n",
    "# print(premier_model.layers[0].input_shape)\n"
   ]
  },
  {
   "cell_type": "code",
   "execution_count": 66,
   "metadata": {},
   "outputs": [
    {
     "data": {
      "image/png": "[encoded data removed]",
      "text/plain": [
       "<Figure size 640x480 with 1 Axes>"
      ]
     },
     "metadata": {},
     "output_type": "display_data"
    }
   ],
   "source": [
    "# second train\n",
    "plt.plot(history.history['loss'], label='Train Loss')\n",
    "plt.plot(history.history['val_loss'], label='Validation Loss')\n",
    "plt.xlabel('Epoch')\n",
    "plt.ylabel('Loss')\n",
    "plt.legend()\n",
    "plt.show()"
   ]
  },
  {
   "cell_type": "code",
   "execution_count": 69,
   "metadata": {},
   "outputs": [
    {
     "name": "stdout",
     "output_type": "stream",
     "text": [
      "The tensorboard extension is already loaded. To reload it, use:\n",
      "  %reload_ext tensorboard\n"
     ]
    },
    {
     "data": {
      "text/plain": [
       "Reusing TensorBoard on port 6006 (pid 16828), started 1 day, 19:15:10 ago. (Use '!kill 16828' to kill it.)"
      ]
     },
     "metadata": {},
     "output_type": "display_data"
    },
    {
     "data": {
      "text/html": [
       "\n",
       "      <iframe id=\"tensorboard-frame-266cb05864886505\" width=\"100%\" height=\"800\" frameborder=\"0\">\n",
       "      </iframe>\n",
       "      <script>\n",
       "        (function() {\n",
       "          const frame = document.getElementById(\"tensorboard-frame-266cb05864886505\");\n",
       "          const url = new URL(\"http://localhost\");\n",
       "          const port = 6006;\n",
       "          if (port) {\n",
       "            url.port = port;\n",
       "          }\n",
       "          frame.src = url;\n",
       "        })();\n",
       "      </script>\n",
       "    "
      ],
      "text/plain": [
       "<IPython.core.display.HTML object>"
      ]
     },
     "metadata": {},
     "output_type": "display_data"
    }
   ],
   "source": [
    "%load_ext tensorboard\n",
    "%tensorboard --logdir logs_model/fit"
   ]
  },
  {
   "cell_type": "code",
   "execution_count": 70,
   "metadata": {},
   "outputs": [
    {
     "name": "stderr",
     "output_type": "stream",
     "text": [
      "'kill' n'est pas reconnu en tant que commande interne\n",
      "ou externe, un programme ex�cutable ou un fichier de commandes.\n"
     ]
    }
   ],
   "source": [
    "!kill 16828"
   ]
  },
  {
   "cell_type": "markdown",
   "metadata": {},
   "source": [
    "# Analyse"
   ]
  },
  {
   "cell_type": "markdown",
   "metadata": {},
   "source": [
    "The reason why we have the index 1 after the model.evaluate function is because the function returns the loss as the first element and the accuracy as the second element. To only output the accuracy, simply access the second element (which is indexed by 1, since the first element starts its indexing from 0)."
   ]
  },
  {
   "cell_type": "code",
   "execution_count": 71,
   "metadata": {},
   "outputs": [
    {
     "name": "stdout",
     "output_type": "stream",
     "text": [
      "87/87 [==============================] - 3s 16ms/step - loss: 266354393088.0000 - mae: 205579.3438\n"
     ]
    },
    {
     "data": {
      "text/plain": [
       "205579.34375"
      ]
     },
     "execution_count": 71,
     "metadata": {},
     "output_type": "execute_result"
    }
   ],
   "source": [
    "premier_model.evaluate(X_test, Y_test)[1]"
   ]
  },
  {
   "cell_type": "code",
   "execution_count": 72,
   "metadata": {},
   "outputs": [
    {
     "name": "stdout",
     "output_type": "stream",
     "text": [
      "87/87 [==============================] - 3s 19ms/step - loss: 266354393088.0000 - mae: 205579.3438\n"
     ]
    },
    {
     "data": {
      "text/plain": [
       "[266354393088.0, 205579.34375]"
      ]
     },
     "execution_count": 72,
     "metadata": {},
     "output_type": "execute_result"
    }
   ],
   "source": [
    "premier_model.evaluate(X_test, Y_test)"
   ]
  },
  {
   "cell_type": "code",
   "execution_count": 73,
   "metadata": {},
   "outputs": [
    {
     "name": "stdout",
     "output_type": "stream",
     "text": [
      "87/87 [==============================] - 2s 16ms/step - loss: 266354393088.0000 - mae: 205579.3438\n"
     ]
    },
    {
     "data": {
      "text/plain": [
       "205579.34375"
      ]
     },
     "execution_count": 73,
     "metadata": {},
     "output_type": "execute_result"
    }
   ],
   "source": [
    "premier_model.evaluate(X_test, Y_test)[1]"
   ]
  },
  {
   "cell_type": "code",
   "execution_count": 74,
   "metadata": {},
   "outputs": [
    {
     "name": "stdout",
     "output_type": "stream",
     "text": [
      "87/87 [==============================] - 3s 15ms/step\n"
     ]
    },
    {
     "data": {
      "image/png": "[encoded data removed]",
      "text/plain": [
       "<Figure size 1500x600 with 2 Axes>"
      ]
     },
     "metadata": {},
     "output_type": "display_data"
    }
   ],
   "source": [
    "import matplotlib.pyplot as plt\n",
    "\n",
    "# Prédiction sur l'ensemble de test\n",
    "predictions = premier_model.predict(X_test)\n",
    "\n",
    "# Déterminer les limites communes pour les deux graphiques\n",
    "min_value = min(min(Y_test), min(predictions))\n",
    "max_value = max(max(Y_test), max(predictions))\n",
    "\n",
    "# Créer une figure avec deux sous-graphiques\n",
    "fig, (ax1, ax2) = plt.subplots(1, 2, figsize=(15, 6))\n",
    "\n",
    "# Plot des valeurs réelles\n",
    "ax1.scatter(range(len(Y_test)), Y_test, label='Valeurs Réelles', color='blue', alpha=0.5)\n",
    "ax1.set_title('Valeurs Réelles')\n",
    "ax1.set_xlabel('Échantillons')\n",
    "ax1.set_ylabel('Valeurs Réelles')\n",
    "ax1.legend()\n",
    "ax1.set_ylim(min_value, max_value)  # Appliquer les limites communes\n",
    "\n",
    "# Plot des prédictions\n",
    "ax2.scatter(range(len(predictions)), predictions, label='Prédictions', color='red', alpha=0.5)\n",
    "ax2.set_title('Prédictions')\n",
    "ax2.set_xlabel('Échantillons')\n",
    "ax2.set_ylabel('Prédictions')\n",
    "ax2.legend()\n",
    "ax2.set_ylim(min_value, max_value)  # Appliquer les limites communes\n",
    "\n",
    "plt.show()\n"
   ]
  }
 ],
 "metadata": {
  "kernelspec": {
   "display_name": "Python 3 (ipykernel)",
   "language": "python",
   "name": "python3"
  },
  "language_info": {
   "codemirror_mode": {
    "name": "ipython",
    "version": 3
   },
   "file_extension": ".py",
   "mimetype": "text/x-python",
   "name": "python",
   "nbconvert_exporter": "python",
   "pygments_lexer": "ipython3",
   "version": "3.9.13"
  }
 },
 "nbformat": 4,
 "nbformat_minor": 2
}
